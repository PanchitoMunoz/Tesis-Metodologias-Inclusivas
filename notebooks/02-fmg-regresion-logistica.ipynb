{
 "cells": [
  {
   "cell_type": "code",
   "execution_count": null,
   "metadata": {
    "pycharm": {
     "name": "#%%\n"
    }
   },
   "outputs": [],
   "source": []
  },
  {
   "cell_type": "code",
   "execution_count": null,
   "metadata": {
    "pycharm": {
     "name": "#%%\n"
    }
   },
   "outputs": [],
   "source": [
    "import warnings\n",
    "\n",
    "from typing import List\n",
    "\n",
    "warnings.filterwarnings(\"ignore\")"
   ]
  },
  {
   "cell_type": "code",
   "execution_count": null,
   "metadata": {
    "pycharm": {
     "name": "#%%\n"
    }
   },
   "outputs": [],
   "source": [
    "# Dejar el path principal como el anterior.\n",
    "import sys\n",
    "sys.path.append('../')"
   ]
  },
  {
   "cell_type": "markdown",
   "metadata": {
    "pycharm": {
     "name": "#%% md\n"
    }
   },
   "source": [
    "Seteamos las configuraciones del Logging"
   ]
  },
  {
   "cell_type": "code",
   "execution_count": null,
   "metadata": {
    "pycharm": {
     "name": "#%%\n"
    }
   },
   "outputs": [],
   "source": [
    "import logging\n",
    "\n",
    "# Crear el logger\n",
    "log = logging.getLogger(__name__)\n",
    "\n",
    "# Setear el nivel del registro\n",
    "log.setLevel(logging.DEBUG)\n",
    "\n",
    "# Formato de los mensajes\n",
    "formatter = logging.Formatter(\"%(levelname)s: (%(asctime)s) [%(filename)s: %(lineno)s] %(message)s\")\n",
    "\n",
    "if not log.hasHandlers():\n",
    "    # Handlers\n",
    "    file_handler = logging.FileHandler(\"logging.log\")\n",
    "    file_handler.setFormatter(formatter)  # Setear el formato del handler\n",
    "    # Agregar el handler al logger\n",
    "    # log.addHandler(file_handler)\n",
    "\n",
    "    stream_handler = logging.StreamHandler()\n",
    "    stream_handler.setFormatter(formatter)\n",
    "    # Agregar el handler al logger\n",
    "    log.addHandler(stream_handler)"
   ]
  },
  {
   "cell_type": "markdown",
   "metadata": {
    "pycharm": {
     "name": "#%% md\n"
    }
   },
   "source": [
    "Instalar la librería plot-likert y otras librerías útiles"
   ]
  },
  {
   "cell_type": "code",
   "execution_count": null,
   "metadata": {
    "pycharm": {
     "name": "#%%\n"
    }
   },
   "outputs": [],
   "source": [
    "# Librería para hacer gráficos Likert\n",
    "# !pip install plot-likert\n",
    "\n",
    "# Para obtener datos de excel\n",
    "# !pip install openpyxl\n",
    "\n",
    "# Para tener un transformador de data\n",
    "# !pip install -U scikit-learn\n",
    "\n",
    "# Para tener herramientas estadísticas\n",
    "# !python -m pip install statsmodels\n",
    "\n",
    "# Para tener Seaborn\n",
    "# !pip install seaborn"
   ]
  },
  {
   "cell_type": "markdown",
   "metadata": {
    "pycharm": {
     "name": "#%% md\n"
    }
   },
   "source": [
    "Empezamos importando la librería para verificar que estuvo bien instalada."
   ]
  },
  {
   "cell_type": "code",
   "execution_count": null,
   "metadata": {
    "pycharm": {
     "name": "#%%\n"
    }
   },
   "outputs": [],
   "source": [
    "import plot_likert"
   ]
  },
  {
   "cell_type": "markdown",
   "metadata": {
    "pycharm": {
     "name": "#%% md\n"
    }
   },
   "source": [
    "Importamos algunas librerías útiles para el resto del notebook"
   ]
  },
  {
   "cell_type": "code",
   "execution_count": null,
   "metadata": {
    "pycharm": {
     "name": "#%%\n"
    }
   },
   "outputs": [],
   "source": [
    "import pandas as pd\n",
    "import numpy as np\n",
    "import matplotlib.pyplot as plt\n",
    "import seaborn as sns\n",
    "from pathlib import Path"
   ]
  },
  {
   "cell_type": "code",
   "execution_count": null,
   "metadata": {
    "pycharm": {
     "name": "#%%\n"
    }
   },
   "outputs": [],
   "source": [
    "DATA_PATH = Path(r\"..\\data\")\n",
    "\n",
    "if not DATA_PATH.exists():\n",
    "    log.info(f\"Creando carpeta {DATA_PATH = }\")\n",
    "    DATA_PATH.mkdir()"
   ]
  },
  {
   "cell_type": "code",
   "execution_count": null,
   "metadata": {
    "pycharm": {
     "name": "#%%\n"
    }
   },
   "outputs": [],
   "source": [
    "QNA_COMPLETE_PATH = DATA_PATH / \"questions-and-answers-complete.xlsx\"\n",
    "QNA_COMPLETE_PATH"
   ]
  },
  {
   "cell_type": "code",
   "execution_count": null,
   "metadata": {
    "pycharm": {
     "name": "#%%\n"
    }
   },
   "outputs": [],
   "source": [
    "log.debug(f\"Importando datos de {QNA_COMPLETE_PATH}\")\n",
    "df = pd.read_excel(QNA_COMPLETE_PATH)\n",
    "\n",
    "df.head()"
   ]
  },
  {
   "cell_type": "code",
   "execution_count": null,
   "metadata": {
    "pycharm": {
     "name": "#%%\n"
    }
   },
   "outputs": [],
   "source": [
    "questions = list(df.columns)[1:]\n",
    "questions"
   ]
  },
  {
   "cell_type": "code",
   "execution_count": null,
   "metadata": {
    "pycharm": {
     "name": "#%%\n"
    }
   },
   "outputs": [],
   "source": [
    "import copy\n",
    "\n",
    "\n",
    "log.debug(\"Renombrando columnas\")\n",
    "questions_copy = copy.copy(questions)\n",
    "for i in range(len(questions)):\n",
    "    # questions_copy[i] = f\"P{i+1}.: \" + questions[i]\n",
    "    questions_copy[i] = f\"P{i+1}\"\n",
    "\n",
    "df.columns = questions = [\"Notas\"] +  questions_copy\n",
    "\n",
    "\n",
    "df.head()"
   ]
  },
  {
   "cell_type": "code",
   "execution_count": null,
   "metadata": {
    "pycharm": {
     "name": "#%%\n"
    }
   },
   "outputs": [],
   "source": [
    "scales = [\n",
    "    \"Nunca\",\n",
    "    \"Rara vez\",\n",
    "    \"Ocasionalmente\",\n",
    "    \"Casi siempre\",\n",
    "    \"Siempre, en todas las clases\"\n",
    "]"
   ]
  },
  {
   "cell_type": "code",
   "execution_count": null,
   "metadata": {
    "pycharm": {
     "name": "#%%\n"
    }
   },
   "outputs": [],
   "source": [
    "from collections import OrderedDict\n",
    "df_enc = OrderedDict()\n",
    "\n",
    "encoder = {name: i-2 for i, name in enumerate(scales)}\n",
    "for col_name in questions_copy:\n",
    "    df_enc[col_name] = df[col_name].map(encoder)\n",
    "\n",
    "df_enc[\"Notas\"] = (df[\"Notas\"] - 1) / 6\n",
    "\n",
    "df_enc = pd.DataFrame(df_enc)\n",
    "df_enc"
   ]
  },
  {
   "cell_type": "code",
   "execution_count": null,
   "metadata": {
    "pycharm": {
     "name": "#%%\n"
    }
   },
   "outputs": [],
   "source": [
    "import statsmodels.api as sm"
   ]
  },
  {
   "cell_type": "code",
   "execution_count": null,
   "metadata": {
    "pycharm": {
     "name": "#%%\n"
    }
   },
   "outputs": [],
   "source": [
    "df_enc.endog = np.array(df_enc.pop(\"Notas\")).reshape((-1, 1))\n",
    "\n",
    "df_enc.endog"
   ]
  },
  {
   "cell_type": "code",
   "execution_count": null,
   "metadata": {
    "pycharm": {
     "name": "#%%\n"
    }
   },
   "outputs": [],
   "source": [
    "np.mean(df_enc.endog)"
   ]
  },
  {
   "cell_type": "code",
   "execution_count": null,
   "metadata": {
    "pycharm": {
     "name": "#%%\n"
    }
   },
   "outputs": [],
   "source": [
    "df_enc.exog = sm.add_constant(df_enc)\n",
    "df_enc.exog"
   ]
  },
  {
   "cell_type": "code",
   "execution_count": null,
   "metadata": {
    "pycharm": {
     "name": "#%%\n"
    }
   },
   "outputs": [],
   "source": [
    "logit_mod = sm.Logit(df_enc.endog, df_enc.exog)\n",
    "\n",
    "logit_res = logit_mod.fit()\n",
    "\n",
    "logit_res.summary()"
   ]
  }
 ],
 "metadata": {
  "kernelspec": {
   "display_name": "Python 3",
   "language": "python",
   "name": "python3"
  },
  "language_info": {
   "codemirror_mode": {
    "name": "ipython",
    "version": 2
   },
   "file_extension": ".py",
   "mimetype": "text/x-python",
   "name": "python",
   "nbconvert_exporter": "python",
   "pygments_lexer": "ipython2",
   "version": "2.7.6"
  }
 },
 "nbformat": 4,
 "nbformat_minor": 0
}
