{
 "cells": [
  {
   "cell_type": "code",
   "execution_count": 44,
   "metadata": {
    "collapsed": true,
    "pycharm": {
     "name": "#%%\n"
    }
   },
   "outputs": [],
   "source": []
  },
  {
   "cell_type": "code",
   "execution_count": 45,
   "outputs": [],
   "source": [
    "import warnings\n",
    "\n",
    "from typing import List\n",
    "\n",
    "warnings.filterwarnings(\"ignore\")"
   ],
   "metadata": {
    "collapsed": false,
    "pycharm": {
     "name": "#%%\n"
    }
   }
  },
  {
   "cell_type": "code",
   "execution_count": 46,
   "outputs": [],
   "source": [
    "# Dejar el path principal como el anterior.\n",
    "import sys\n",
    "sys.path.append('../')"
   ],
   "metadata": {
    "collapsed": false,
    "pycharm": {
     "name": "#%%\n"
    }
   }
  },
  {
   "cell_type": "markdown",
   "source": [
    "Seteamos las configuraciones del Logging"
   ],
   "metadata": {
    "collapsed": false,
    "pycharm": {
     "name": "#%% md\n"
    }
   }
  },
  {
   "cell_type": "code",
   "execution_count": 47,
   "outputs": [],
   "source": [
    "import logging\n",
    "\n",
    "# Crear el logger\n",
    "log = logging.getLogger(__name__)\n",
    "\n",
    "# Setear el nivel del registro\n",
    "log.setLevel(logging.DEBUG)\n",
    "\n",
    "# Formato de los mensajes\n",
    "formatter = logging.Formatter(\"%(levelname)s: (%(asctime)s) [%(filename)s: %(lineno)s] %(message)s\")\n",
    "\n",
    "if not log.hasHandlers():\n",
    "    # Handlers\n",
    "    file_handler = logging.FileHandler(\"logging.log\")\n",
    "    file_handler.setFormatter(formatter)  # Setear el formato del handler\n",
    "    # Agregar el handler al logger\n",
    "    # log.addHandler(file_handler)\n",
    "\n",
    "    stream_handler = logging.StreamHandler()\n",
    "    stream_handler.setFormatter(formatter)\n",
    "    # Agregar el handler al logger\n",
    "    log.addHandler(stream_handler)"
   ],
   "metadata": {
    "collapsed": false,
    "pycharm": {
     "name": "#%%\n"
    }
   }
  },
  {
   "cell_type": "markdown",
   "source": [
    "Instalar la librería plot-likert y otras librerías útiles"
   ],
   "metadata": {
    "collapsed": false,
    "pycharm": {
     "name": "#%% md\n"
    }
   }
  },
  {
   "cell_type": "code",
   "execution_count": 48,
   "outputs": [],
   "source": [
    "# Librería para hacer gráficos Likert\n",
    "# !pip install plot-likert\n",
    "\n",
    "# Para obtener datos de excel\n",
    "# !pip install openpyxl\n",
    "\n",
    "# Para tener un transformador de data\n",
    "# !pip install -U scikit-learn\n",
    "\n",
    "# Para tener herramientas estadísticas\n",
    "# !python -m pip install statsmodels\n",
    "\n",
    "# Para tener Seaborn\n",
    "# !pip install seaborn"
   ],
   "metadata": {
    "collapsed": false,
    "pycharm": {
     "name": "#%%\n"
    }
   }
  },
  {
   "cell_type": "markdown",
   "source": [
    "Empezamos importando la librería para verificar que estuvo bien instalada."
   ],
   "metadata": {
    "collapsed": false,
    "pycharm": {
     "name": "#%% md\n"
    }
   }
  },
  {
   "cell_type": "code",
   "execution_count": 49,
   "outputs": [],
   "source": [
    "import plot_likert"
   ],
   "metadata": {
    "collapsed": false,
    "pycharm": {
     "name": "#%%\n"
    }
   }
  },
  {
   "cell_type": "markdown",
   "source": [
    "Importamos algunas librerías útiles para el resto del notebook"
   ],
   "metadata": {
    "collapsed": false,
    "pycharm": {
     "name": "#%% md\n"
    }
   }
  },
  {
   "cell_type": "code",
   "execution_count": 50,
   "outputs": [],
   "source": [
    "import pandas as pd\n",
    "import numpy as np\n",
    "import matplotlib.pyplot as plt\n",
    "import seaborn as sns\n",
    "from pathlib import Path"
   ],
   "metadata": {
    "collapsed": false,
    "pycharm": {
     "name": "#%%\n"
    }
   }
  },
  {
   "cell_type": "code",
   "execution_count": 51,
   "outputs": [],
   "source": [
    "DATA_PATH = Path(r\"..\\data\")\n",
    "\n",
    "if not DATA_PATH.exists():\n",
    "    log.info(f\"Creando carpeta {DATA_PATH = }\")\n",
    "    DATA_PATH.mkdir()"
   ],
   "metadata": {
    "collapsed": false,
    "pycharm": {
     "name": "#%%\n"
    }
   }
  },
  {
   "cell_type": "code",
   "execution_count": 52,
   "outputs": [
    {
     "data": {
      "text/plain": "WindowsPath('../data/questions-and-answers-complete.xlsx')"
     },
     "execution_count": 52,
     "metadata": {},
     "output_type": "execute_result"
    }
   ],
   "source": [
    "QNA_COMPLETE_PATH = DATA_PATH / \"questions-and-answers-complete.xlsx\"\n",
    "QNA_COMPLETE_PATH"
   ],
   "metadata": {
    "collapsed": false,
    "pycharm": {
     "name": "#%%\n"
    }
   }
  },
  {
   "cell_type": "code",
   "execution_count": 53,
   "outputs": [
    {
     "name": "stderr",
     "output_type": "stream",
     "text": [
      "DEBUG: (2022-12-13 21:39:42,833) [2491434066.py: 1] Importando datos de ..\\data\\questions-and-answers-complete.xlsx\n"
     ]
    },
    {
     "data": {
      "text/plain": "   Prom Cs  \\\n0      6.8   \n1      6.7   \n2      6.1   \n3      4.6   \n4      6.5   \n\n  ¿Los profesores de ciencias consideran los intereses de los alumnos para elaborar y organizar las evaluaciones?  \\\n0                                     Ocasionalmente                                                                \n1                       Siempre, en todas las clases                                                                \n2                       Siempre, en todas las clases                                                                \n3                                       Casi siempre                                                                \n4                       Siempre, en todas las clases                                                                \n\n  De las actividades realizadas en clase ¿el profesor considera y respeta nuestros intereses?  \\\n0                                       Casi siempre                                            \n1                       Siempre, en todas las clases                                            \n2                       Siempre, en todas las clases                                            \n3                                       Casi siempre                                            \n4                       Siempre, en todas las clases                                            \n\n  ¿El profesor retroalimenta y refuerza en todas las clases lo que hemos ido aprendiendo?  \\\n0                       Siempre, en todas las clases                                        \n1                       Siempre, en todas las clases                                        \n2                       Siempre, en todas las clases                                        \n3                                           Rara vez                                        \n4                       Siempre, en todas las clases                                        \n\n  El profesor de la clase de ciencias ¿anota y explica el objetivo que se va a trabajar durante la clase?  \\\n0                       Siempre, en todas las clases                                                        \n1                       Siempre, en todas las clases                                                        \n2                       Siempre, en todas las clases                                                        \n3                                       Casi siempre                                                        \n4                       Siempre, en todas las clases                                                        \n\n  El profesor, al cierre de su clase ¿realiza preguntas para verificar si hemos aprendido?  \\\n0                       Siempre, en todas las clases                                         \n1                                       Casi siempre                                         \n2                                     Ocasionalmente                                         \n3                                       Casi siempre                                         \n4                       Siempre, en todas las clases                                         \n\n  Cuando el profesor da tareas ¿las explica claramente y nos da ejemplos que orientan para realizarlas?  \\\n0                                       Casi siempre                                                      \n1                       Siempre, en todas las clases                                                      \n2                       Siempre, en todas las clases                                                      \n3                                       Casi siempre                                                      \n4                       Siempre, en todas las clases                                                      \n\n  Durante la actividad ¿el profesor circula explicando y resolviendo dudas?  \\\n0                       Siempre, en todas las clases                          \n1                       Siempre, en todas las clases                          \n2                       Siempre, en todas las clases                          \n3                                     Ocasionalmente                          \n4                                       Casi siempre                          \n\n  ¿Se realizan salidas a terreno: museos, zoológicos y otros lugares que ayudan al aprendizaje?  \\\n0                                              Nunca                                              \n1                       Siempre, en todas las clases                                              \n2                                              Nunca                                              \n3                                              Nunca                                              \n4                                              Nunca                                              \n\n  Para hacer las clases, el profesor ¿nos lleva a otros espacios motivantes para que aprendamos mejor?  \\\n0                                           Rara vez                                                     \n1                       Siempre, en todas las clases                                                     \n2                                     Ocasionalmente                                                     \n3                                     Ocasionalmente                                                     \n4                                     Ocasionalmente                                                     \n\n   ...  \\\n0  ...   \n1  ...   \n2  ...   \n3  ...   \n4  ...   \n\n  Cuando me queda alguna duda de la clase, ¿me dirijo confiadamente al profesor a preguntar?  \\\n0                                       Casi siempre                                           \n1                       Siempre, en todas las clases                                           \n2                       Siempre, en todas las clases                                           \n3                                              Nunca                                           \n4                       Siempre, en todas las clases                                           \n\n  Cuando el profesor es cercano conmigo y mis compañeros, ¿nos da confianza y seguridad para preguntar todas las dudas?  \\\n0                       Siempre, en todas las clases                                                                      \n1                       Siempre, en todas las clases                                                                      \n2                       Siempre, en todas las clases                                                                      \n3                                       Casi siempre                                                                      \n4                       Siempre, en todas las clases                                                                      \n\n  Cuando tengo más cercanía y confianza con el profesor ¿aprendo mejor?  \\\n0                       Siempre, en todas las clases                      \n1                       Siempre, en todas las clases                      \n2                       Siempre, en todas las clases                      \n3                       Siempre, en todas las clases                      \n4                       Siempre, en todas las clases                      \n\n  ¿Los profesores de ciencias ofrecen diversas actividades grupales de un mismo tema, para que los estudiantes, elijan en la que quieren trabajar?  \\\n0                                       Casi siempre                                                                                                 \n1                       Siempre, en todas las clases                                                                                                 \n2                       Siempre, en todas las clases                                                                                                 \n3                                     Ocasionalmente                                                                                                 \n4                       Siempre, en todas las clases                                                                                                 \n\n  ¿Los profesores de ciencias integran a todos los estudiantes para que participen en las actividades grupales dentro de la sala de clases?  \\\n0                                       Casi siempre                                                                                          \n1                       Siempre, en todas las clases                                                                                          \n2                       Siempre, en todas las clases                                                                                          \n3                                       Casi siempre                                                                                          \n4                       Siempre, en todas las clases                                                                                          \n\n  ¿Los profesores de ciencias integran a todos los estudiantes en grupos, para que participen en las actividades de investigación, fuera del colegio?  \\\n0                                           Rara vez                                                                                                    \n1                       Siempre, en todas las clases                                                                                                    \n2                                              Nunca                                                                                                    \n3                       Siempre, en todas las clases                                                                                                    \n4                                     Ocasionalmente                                                                                                    \n\n  ¿Los profesores, muestran interés por reforzar a los alumnos que más les cuesta?  \\\n0                                       Casi siempre                                 \n1                       Siempre, en todas las clases                                 \n2                       Siempre, en todas las clases                                 \n3                                           Rara vez                                 \n4                       Siempre, en todas las clases                                 \n\n  Cuando el profesor nos hace realizar actividades variadas, en ciencias ¿comprendo mejor la materia?  \\\n0                       Siempre, en todas las clases                                                    \n1                       Siempre, en todas las clases                                                    \n2                       Siempre, en todas las clases                                                    \n3                                     Ocasionalmente                                                    \n4                       Siempre, en todas las clases                                                    \n\n  ¿Los profesores de ciencias integran a todos los estudiantes para que participen en las actividades prácticas de laboratorio?  \\\n0                       Siempre, en todas las clases                                                                              \n1                       Siempre, en todas las clases                                                                              \n2                       Siempre, en todas las clases                                                                              \n3                                           Rara vez                                                                              \n4                       Siempre, en todas las clases                                                                              \n\n  En las clases de ciencias, ¿algunos alumnos son evaluados con carpetas de actividades realizadas en el colegio y fuera de él?  \n0                                              Nunca                                                                             \n1                       Siempre, en todas las clases                                                                             \n2                                     Ocasionalmente                                                                             \n3                                              Nunca                                                                             \n4                                              Nunca                                                                             \n\n[5 rows x 32 columns]",
      "text/html": "<div>\n<style scoped>\n    .dataframe tbody tr th:only-of-type {\n        vertical-align: middle;\n    }\n\n    .dataframe tbody tr th {\n        vertical-align: top;\n    }\n\n    .dataframe thead th {\n        text-align: right;\n    }\n</style>\n<table border=\"1\" class=\"dataframe\">\n  <thead>\n    <tr style=\"text-align: right;\">\n      <th></th>\n      <th>Prom Cs</th>\n      <th>¿Los profesores de ciencias consideran los intereses de los alumnos para elaborar y organizar las evaluaciones?</th>\n      <th>De las actividades realizadas en clase ¿el profesor considera y respeta nuestros intereses?</th>\n      <th>¿El profesor retroalimenta y refuerza en todas las clases lo que hemos ido aprendiendo?</th>\n      <th>El profesor de la clase de ciencias ¿anota y explica el objetivo que se va a trabajar durante la clase?</th>\n      <th>El profesor, al cierre de su clase ¿realiza preguntas para verificar si hemos aprendido?</th>\n      <th>Cuando el profesor da tareas ¿las explica claramente y nos da ejemplos que orientan para realizarlas?</th>\n      <th>Durante la actividad ¿el profesor circula explicando y resolviendo dudas?</th>\n      <th>¿Se realizan salidas a terreno: museos, zoológicos y otros lugares que ayudan al aprendizaje?</th>\n      <th>Para hacer las clases, el profesor ¿nos lleva a otros espacios motivantes para que aprendamos mejor?</th>\n      <th>...</th>\n      <th>Cuando me queda alguna duda de la clase, ¿me dirijo confiadamente al profesor a preguntar?</th>\n      <th>Cuando el profesor es cercano conmigo y mis compañeros, ¿nos da confianza y seguridad para preguntar todas las dudas?</th>\n      <th>Cuando tengo más cercanía y confianza con el profesor ¿aprendo mejor?</th>\n      <th>¿Los profesores de ciencias ofrecen diversas actividades grupales de un mismo tema, para que los estudiantes, elijan en la que quieren trabajar?</th>\n      <th>¿Los profesores de ciencias integran a todos los estudiantes para que participen en las actividades grupales dentro de la sala de clases?</th>\n      <th>¿Los profesores de ciencias integran a todos los estudiantes en grupos, para que participen en las actividades de investigación, fuera del colegio?</th>\n      <th>¿Los profesores, muestran interés por reforzar a los alumnos que más les cuesta?</th>\n      <th>Cuando el profesor nos hace realizar actividades variadas, en ciencias ¿comprendo mejor la materia?</th>\n      <th>¿Los profesores de ciencias integran a todos los estudiantes para que participen en las actividades prácticas de laboratorio?</th>\n      <th>En las clases de ciencias, ¿algunos alumnos son evaluados con carpetas de actividades realizadas en el colegio y fuera de él?</th>\n    </tr>\n  </thead>\n  <tbody>\n    <tr>\n      <th>0</th>\n      <td>6.8</td>\n      <td>Ocasionalmente</td>\n      <td>Casi siempre</td>\n      <td>Siempre, en todas las clases</td>\n      <td>Siempre, en todas las clases</td>\n      <td>Siempre, en todas las clases</td>\n      <td>Casi siempre</td>\n      <td>Siempre, en todas las clases</td>\n      <td>Nunca</td>\n      <td>Rara vez</td>\n      <td>...</td>\n      <td>Casi siempre</td>\n      <td>Siempre, en todas las clases</td>\n      <td>Siempre, en todas las clases</td>\n      <td>Casi siempre</td>\n      <td>Casi siempre</td>\n      <td>Rara vez</td>\n      <td>Casi siempre</td>\n      <td>Siempre, en todas las clases</td>\n      <td>Siempre, en todas las clases</td>\n      <td>Nunca</td>\n    </tr>\n    <tr>\n      <th>1</th>\n      <td>6.7</td>\n      <td>Siempre, en todas las clases</td>\n      <td>Siempre, en todas las clases</td>\n      <td>Siempre, en todas las clases</td>\n      <td>Siempre, en todas las clases</td>\n      <td>Casi siempre</td>\n      <td>Siempre, en todas las clases</td>\n      <td>Siempre, en todas las clases</td>\n      <td>Siempre, en todas las clases</td>\n      <td>Siempre, en todas las clases</td>\n      <td>...</td>\n      <td>Siempre, en todas las clases</td>\n      <td>Siempre, en todas las clases</td>\n      <td>Siempre, en todas las clases</td>\n      <td>Siempre, en todas las clases</td>\n      <td>Siempre, en todas las clases</td>\n      <td>Siempre, en todas las clases</td>\n      <td>Siempre, en todas las clases</td>\n      <td>Siempre, en todas las clases</td>\n      <td>Siempre, en todas las clases</td>\n      <td>Siempre, en todas las clases</td>\n    </tr>\n    <tr>\n      <th>2</th>\n      <td>6.1</td>\n      <td>Siempre, en todas las clases</td>\n      <td>Siempre, en todas las clases</td>\n      <td>Siempre, en todas las clases</td>\n      <td>Siempre, en todas las clases</td>\n      <td>Ocasionalmente</td>\n      <td>Siempre, en todas las clases</td>\n      <td>Siempre, en todas las clases</td>\n      <td>Nunca</td>\n      <td>Ocasionalmente</td>\n      <td>...</td>\n      <td>Siempre, en todas las clases</td>\n      <td>Siempre, en todas las clases</td>\n      <td>Siempre, en todas las clases</td>\n      <td>Siempre, en todas las clases</td>\n      <td>Siempre, en todas las clases</td>\n      <td>Nunca</td>\n      <td>Siempre, en todas las clases</td>\n      <td>Siempre, en todas las clases</td>\n      <td>Siempre, en todas las clases</td>\n      <td>Ocasionalmente</td>\n    </tr>\n    <tr>\n      <th>3</th>\n      <td>4.6</td>\n      <td>Casi siempre</td>\n      <td>Casi siempre</td>\n      <td>Rara vez</td>\n      <td>Casi siempre</td>\n      <td>Casi siempre</td>\n      <td>Casi siempre</td>\n      <td>Ocasionalmente</td>\n      <td>Nunca</td>\n      <td>Ocasionalmente</td>\n      <td>...</td>\n      <td>Nunca</td>\n      <td>Casi siempre</td>\n      <td>Siempre, en todas las clases</td>\n      <td>Ocasionalmente</td>\n      <td>Casi siempre</td>\n      <td>Siempre, en todas las clases</td>\n      <td>Rara vez</td>\n      <td>Ocasionalmente</td>\n      <td>Rara vez</td>\n      <td>Nunca</td>\n    </tr>\n    <tr>\n      <th>4</th>\n      <td>6.5</td>\n      <td>Siempre, en todas las clases</td>\n      <td>Siempre, en todas las clases</td>\n      <td>Siempre, en todas las clases</td>\n      <td>Siempre, en todas las clases</td>\n      <td>Siempre, en todas las clases</td>\n      <td>Siempre, en todas las clases</td>\n      <td>Casi siempre</td>\n      <td>Nunca</td>\n      <td>Ocasionalmente</td>\n      <td>...</td>\n      <td>Siempre, en todas las clases</td>\n      <td>Siempre, en todas las clases</td>\n      <td>Siempre, en todas las clases</td>\n      <td>Siempre, en todas las clases</td>\n      <td>Siempre, en todas las clases</td>\n      <td>Ocasionalmente</td>\n      <td>Siempre, en todas las clases</td>\n      <td>Siempre, en todas las clases</td>\n      <td>Siempre, en todas las clases</td>\n      <td>Nunca</td>\n    </tr>\n  </tbody>\n</table>\n<p>5 rows × 32 columns</p>\n</div>"
     },
     "execution_count": 53,
     "metadata": {},
     "output_type": "execute_result"
    }
   ],
   "source": [
    "log.debug(f\"Importando datos de {QNA_COMPLETE_PATH}\")\n",
    "df = pd.read_excel(QNA_COMPLETE_PATH)\n",
    "\n",
    "df.head()"
   ],
   "metadata": {
    "collapsed": false,
    "pycharm": {
     "name": "#%%\n"
    }
   }
  },
  {
   "cell_type": "code",
   "execution_count": 54,
   "outputs": [
    {
     "data": {
      "text/plain": "['¿Los profesores de ciencias consideran los intereses de los alumnos para elaborar y organizar las evaluaciones?',\n 'De las actividades realizadas en clase ¿el profesor considera y respeta nuestros intereses?',\n '¿El profesor retroalimenta y refuerza en todas las clases lo que hemos ido aprendiendo?',\n 'El profesor de la clase de ciencias ¿anota y explica el objetivo que se va a trabajar durante la clase?',\n 'El profesor, al cierre de su clase ¿realiza preguntas para verificar si hemos aprendido?',\n 'Cuando el profesor da tareas ¿las explica claramente y nos da ejemplos que orientan para realizarlas?',\n 'Durante la actividad ¿el profesor circula explicando y resolviendo dudas?',\n '¿Se realizan salidas a terreno: museos, zoológicos y otros lugares que ayudan al aprendizaje?',\n 'Para hacer las clases, el profesor ¿nos lleva a otros espacios motivantes para que aprendamos mejor?',\n 'El profesor de ciencias ¿presenta en sus clases material atractivo para aprender?',\n '¿Los profesores comprueban clase a clase los avances de lo aprendido?',\n '¿El profesor, nos ayuda para que todos podamos corregir los errores antes de evaluar?',\n 'En las clases de ciencias, ¿todos los alumnos hacen las mismas pruebas?',\n '¿En las clases de ciencias, algunos alumnos son evaluados con informes escritos u otra forma?',\n '¿En las clases de ciencias, algunos alumnos no realizan pruebas escritas?',\n 'En las pruebas de Ciencias, ¿hay variedad de formas de preguntar la materia, ejemplo; alternativas, sopa de letras, completación de frase, ¿términos pareados y otros?',\n 'En las actividades de ciencias ¿usamos tecnologías como data, computadores, tablet, videos, etc?',\n 'Cuando el profesor explica utilizando aparatos tecnológicos ¿comprendo mejor la materia?',\n '¿El profesor realiza distintas actividades durante la clase para que podamos aprender?',\n 'Cuando tenemos salidas pedagógicas a museos, parques, zoológicos, o algún otro lugar ¿comprendo mejor la materia?',\n 'Durante la actividad, ¿el profesor promueve a que todos participen activamente dando opinión o haciendo preguntas respecto de la materia?',\n 'Cuando me queda alguna duda de la clase, ¿me dirijo confiadamente al profesor a preguntar?',\n 'Cuando el profesor es cercano conmigo y mis compañeros, ¿nos da confianza y seguridad para preguntar todas las dudas?',\n 'Cuando tengo más cercanía y confianza con el profesor ¿aprendo mejor?',\n '¿Los profesores de ciencias ofrecen diversas actividades grupales de un mismo tema, para que los estudiantes, elijan en la que quieren trabajar?',\n '¿Los profesores de ciencias integran a todos los estudiantes para que participen en las actividades grupales dentro de la sala de clases?',\n '¿Los profesores de ciencias integran a todos los estudiantes en grupos, para que participen en las actividades de investigación, fuera del colegio?',\n '¿Los profesores, muestran interés por reforzar a los alumnos que más les cuesta?',\n 'Cuando el profesor nos hace realizar actividades variadas, en ciencias ¿comprendo mejor la materia?',\n '¿Los profesores de ciencias integran a todos los estudiantes para que participen en las actividades prácticas de laboratorio?',\n 'En las clases de ciencias, ¿algunos alumnos son evaluados con carpetas de actividades realizadas en el colegio y fuera de él?']"
     },
     "execution_count": 54,
     "metadata": {},
     "output_type": "execute_result"
    }
   ],
   "source": [
    "questions = list(df.columns)[1:]\n",
    "questions"
   ],
   "metadata": {
    "collapsed": false,
    "pycharm": {
     "name": "#%%\n"
    }
   }
  },
  {
   "cell_type": "code",
   "execution_count": 55,
   "outputs": [
    {
     "name": "stderr",
     "output_type": "stream",
     "text": [
      "DEBUG: (2022-12-13 21:39:43,534) [2321751420.py: 4] Renombrando columnas\n"
     ]
    },
    {
     "data": {
      "text/plain": "   Notas                            P1                            P2  \\\n0    6.8                Ocasionalmente                  Casi siempre   \n1    6.7  Siempre, en todas las clases  Siempre, en todas las clases   \n2    6.1  Siempre, en todas las clases  Siempre, en todas las clases   \n3    4.6                  Casi siempre                  Casi siempre   \n4    6.5  Siempre, en todas las clases  Siempre, en todas las clases   \n\n                             P3                            P4  \\\n0  Siempre, en todas las clases  Siempre, en todas las clases   \n1  Siempre, en todas las clases  Siempre, en todas las clases   \n2  Siempre, en todas las clases  Siempre, en todas las clases   \n3                      Rara vez                  Casi siempre   \n4  Siempre, en todas las clases  Siempre, en todas las clases   \n\n                             P5                            P6  \\\n0  Siempre, en todas las clases                  Casi siempre   \n1                  Casi siempre  Siempre, en todas las clases   \n2                Ocasionalmente  Siempre, en todas las clases   \n3                  Casi siempre                  Casi siempre   \n4  Siempre, en todas las clases  Siempre, en todas las clases   \n\n                             P7                            P8  \\\n0  Siempre, en todas las clases                         Nunca   \n1  Siempre, en todas las clases  Siempre, en todas las clases   \n2  Siempre, en todas las clases                         Nunca   \n3                Ocasionalmente                         Nunca   \n4                  Casi siempre                         Nunca   \n\n                             P9  ...                           P22  \\\n0                      Rara vez  ...                  Casi siempre   \n1  Siempre, en todas las clases  ...  Siempre, en todas las clases   \n2                Ocasionalmente  ...  Siempre, en todas las clases   \n3                Ocasionalmente  ...                         Nunca   \n4                Ocasionalmente  ...  Siempre, en todas las clases   \n\n                            P23                           P24  \\\n0  Siempre, en todas las clases  Siempre, en todas las clases   \n1  Siempre, en todas las clases  Siempre, en todas las clases   \n2  Siempre, en todas las clases  Siempre, en todas las clases   \n3                  Casi siempre  Siempre, en todas las clases   \n4  Siempre, en todas las clases  Siempre, en todas las clases   \n\n                            P25                           P26  \\\n0                  Casi siempre                  Casi siempre   \n1  Siempre, en todas las clases  Siempre, en todas las clases   \n2  Siempre, en todas las clases  Siempre, en todas las clases   \n3                Ocasionalmente                  Casi siempre   \n4  Siempre, en todas las clases  Siempre, en todas las clases   \n\n                            P27                           P28  \\\n0                      Rara vez                  Casi siempre   \n1  Siempre, en todas las clases  Siempre, en todas las clases   \n2                         Nunca  Siempre, en todas las clases   \n3  Siempre, en todas las clases                      Rara vez   \n4                Ocasionalmente  Siempre, en todas las clases   \n\n                            P29                           P30  \\\n0  Siempre, en todas las clases  Siempre, en todas las clases   \n1  Siempre, en todas las clases  Siempre, en todas las clases   \n2  Siempre, en todas las clases  Siempre, en todas las clases   \n3                Ocasionalmente                      Rara vez   \n4  Siempre, en todas las clases  Siempre, en todas las clases   \n\n                            P31  \n0                         Nunca  \n1  Siempre, en todas las clases  \n2                Ocasionalmente  \n3                         Nunca  \n4                         Nunca  \n\n[5 rows x 32 columns]",
      "text/html": "<div>\n<style scoped>\n    .dataframe tbody tr th:only-of-type {\n        vertical-align: middle;\n    }\n\n    .dataframe tbody tr th {\n        vertical-align: top;\n    }\n\n    .dataframe thead th {\n        text-align: right;\n    }\n</style>\n<table border=\"1\" class=\"dataframe\">\n  <thead>\n    <tr style=\"text-align: right;\">\n      <th></th>\n      <th>Notas</th>\n      <th>P1</th>\n      <th>P2</th>\n      <th>P3</th>\n      <th>P4</th>\n      <th>P5</th>\n      <th>P6</th>\n      <th>P7</th>\n      <th>P8</th>\n      <th>P9</th>\n      <th>...</th>\n      <th>P22</th>\n      <th>P23</th>\n      <th>P24</th>\n      <th>P25</th>\n      <th>P26</th>\n      <th>P27</th>\n      <th>P28</th>\n      <th>P29</th>\n      <th>P30</th>\n      <th>P31</th>\n    </tr>\n  </thead>\n  <tbody>\n    <tr>\n      <th>0</th>\n      <td>6.8</td>\n      <td>Ocasionalmente</td>\n      <td>Casi siempre</td>\n      <td>Siempre, en todas las clases</td>\n      <td>Siempre, en todas las clases</td>\n      <td>Siempre, en todas las clases</td>\n      <td>Casi siempre</td>\n      <td>Siempre, en todas las clases</td>\n      <td>Nunca</td>\n      <td>Rara vez</td>\n      <td>...</td>\n      <td>Casi siempre</td>\n      <td>Siempre, en todas las clases</td>\n      <td>Siempre, en todas las clases</td>\n      <td>Casi siempre</td>\n      <td>Casi siempre</td>\n      <td>Rara vez</td>\n      <td>Casi siempre</td>\n      <td>Siempre, en todas las clases</td>\n      <td>Siempre, en todas las clases</td>\n      <td>Nunca</td>\n    </tr>\n    <tr>\n      <th>1</th>\n      <td>6.7</td>\n      <td>Siempre, en todas las clases</td>\n      <td>Siempre, en todas las clases</td>\n      <td>Siempre, en todas las clases</td>\n      <td>Siempre, en todas las clases</td>\n      <td>Casi siempre</td>\n      <td>Siempre, en todas las clases</td>\n      <td>Siempre, en todas las clases</td>\n      <td>Siempre, en todas las clases</td>\n      <td>Siempre, en todas las clases</td>\n      <td>...</td>\n      <td>Siempre, en todas las clases</td>\n      <td>Siempre, en todas las clases</td>\n      <td>Siempre, en todas las clases</td>\n      <td>Siempre, en todas las clases</td>\n      <td>Siempre, en todas las clases</td>\n      <td>Siempre, en todas las clases</td>\n      <td>Siempre, en todas las clases</td>\n      <td>Siempre, en todas las clases</td>\n      <td>Siempre, en todas las clases</td>\n      <td>Siempre, en todas las clases</td>\n    </tr>\n    <tr>\n      <th>2</th>\n      <td>6.1</td>\n      <td>Siempre, en todas las clases</td>\n      <td>Siempre, en todas las clases</td>\n      <td>Siempre, en todas las clases</td>\n      <td>Siempre, en todas las clases</td>\n      <td>Ocasionalmente</td>\n      <td>Siempre, en todas las clases</td>\n      <td>Siempre, en todas las clases</td>\n      <td>Nunca</td>\n      <td>Ocasionalmente</td>\n      <td>...</td>\n      <td>Siempre, en todas las clases</td>\n      <td>Siempre, en todas las clases</td>\n      <td>Siempre, en todas las clases</td>\n      <td>Siempre, en todas las clases</td>\n      <td>Siempre, en todas las clases</td>\n      <td>Nunca</td>\n      <td>Siempre, en todas las clases</td>\n      <td>Siempre, en todas las clases</td>\n      <td>Siempre, en todas las clases</td>\n      <td>Ocasionalmente</td>\n    </tr>\n    <tr>\n      <th>3</th>\n      <td>4.6</td>\n      <td>Casi siempre</td>\n      <td>Casi siempre</td>\n      <td>Rara vez</td>\n      <td>Casi siempre</td>\n      <td>Casi siempre</td>\n      <td>Casi siempre</td>\n      <td>Ocasionalmente</td>\n      <td>Nunca</td>\n      <td>Ocasionalmente</td>\n      <td>...</td>\n      <td>Nunca</td>\n      <td>Casi siempre</td>\n      <td>Siempre, en todas las clases</td>\n      <td>Ocasionalmente</td>\n      <td>Casi siempre</td>\n      <td>Siempre, en todas las clases</td>\n      <td>Rara vez</td>\n      <td>Ocasionalmente</td>\n      <td>Rara vez</td>\n      <td>Nunca</td>\n    </tr>\n    <tr>\n      <th>4</th>\n      <td>6.5</td>\n      <td>Siempre, en todas las clases</td>\n      <td>Siempre, en todas las clases</td>\n      <td>Siempre, en todas las clases</td>\n      <td>Siempre, en todas las clases</td>\n      <td>Siempre, en todas las clases</td>\n      <td>Siempre, en todas las clases</td>\n      <td>Casi siempre</td>\n      <td>Nunca</td>\n      <td>Ocasionalmente</td>\n      <td>...</td>\n      <td>Siempre, en todas las clases</td>\n      <td>Siempre, en todas las clases</td>\n      <td>Siempre, en todas las clases</td>\n      <td>Siempre, en todas las clases</td>\n      <td>Siempre, en todas las clases</td>\n      <td>Ocasionalmente</td>\n      <td>Siempre, en todas las clases</td>\n      <td>Siempre, en todas las clases</td>\n      <td>Siempre, en todas las clases</td>\n      <td>Nunca</td>\n    </tr>\n  </tbody>\n</table>\n<p>5 rows × 32 columns</p>\n</div>"
     },
     "execution_count": 55,
     "metadata": {},
     "output_type": "execute_result"
    }
   ],
   "source": [
    "import copy\n",
    "\n",
    "\n",
    "log.debug(\"Renombrando columnas\")\n",
    "questions_copy = copy.copy(questions)\n",
    "for i in range(len(questions)):\n",
    "    # questions_copy[i] = f\"P{i+1}.: \" + questions[i]\n",
    "    questions_copy[i] = f\"P{i+1}\"\n",
    "\n",
    "df.columns = questions = [\"Notas\"] +  questions_copy\n",
    "\n",
    "\n",
    "df.head()"
   ],
   "metadata": {
    "collapsed": false,
    "pycharm": {
     "name": "#%%\n"
    }
   }
  },
  {
   "cell_type": "code",
   "execution_count": 56,
   "outputs": [],
   "source": [
    "scales = [\n",
    "    \"Nunca\",\n",
    "    \"Rara vez\",\n",
    "    \"Ocasionalmente\",\n",
    "    \"Casi siempre\",\n",
    "    \"Siempre, en todas las clases\"\n",
    "]"
   ],
   "metadata": {
    "collapsed": false,
    "pycharm": {
     "name": "#%%\n"
    }
   }
  },
  {
   "cell_type": "code",
   "execution_count": 57,
   "outputs": [
    {
     "data": {
      "text/plain": "    P1  P2  P3  P4  P5  P6  P7  P8  P9  P10  ...  P23  P24  P25  P26  P27  \\\n0    0   1   2   2   2   1   2  -2  -1    1  ...    2    2    1    1   -1   \n1    2   2   2   2   1   2   2   2   2    2  ...    2    2    2    2    2   \n2    2   2   2   2   0   2   2  -2   0    2  ...    2    2    2    2   -2   \n3    1   1  -1   1   1   1   0  -2   0    0  ...    1    2    0    1    2   \n4    2   2   2   2   2   2   1  -2   0    2  ...    2    2    2    2    0   \n..  ..  ..  ..  ..  ..  ..  ..  ..  ..  ...  ...  ...  ...  ...  ...  ...   \n81   1   2   1   2   1   1   1  -1   1    2  ...    1    1    1    1    1   \n82   0  -1   1   2   0   2  -1  -1  -1   -2  ...   -1   -1    0    0    0   \n83   2   0   1   2   2   0   2  -2  -1    2  ...    1   -1    0    2    1   \n84   2   2   2   2   2   2   2  -1  -1    2  ...    1    2    1    2    2   \n85   1   1   0   1   0   0   1  -1  -1   -1  ...    0    0   -1    1   -1   \n\n    P28  P29  P30  P31     Notas  \n0     1    2    2   -2  0.966667  \n1     2    2    2    2  0.950000  \n2     2    2    2    0  0.850000  \n3    -1    0   -1   -2  0.600000  \n4     2    2    2   -2  0.916667  \n..  ...  ...  ...  ...       ...  \n81    2    1    1    1  0.633333  \n82    0   -2   -2   -2  0.783333  \n83    2    1    2   -2  0.933333  \n84    2    2    2    0  0.900000  \n85   -1    0    0   -2  0.566667  \n\n[86 rows x 32 columns]",
      "text/html": "<div>\n<style scoped>\n    .dataframe tbody tr th:only-of-type {\n        vertical-align: middle;\n    }\n\n    .dataframe tbody tr th {\n        vertical-align: top;\n    }\n\n    .dataframe thead th {\n        text-align: right;\n    }\n</style>\n<table border=\"1\" class=\"dataframe\">\n  <thead>\n    <tr style=\"text-align: right;\">\n      <th></th>\n      <th>P1</th>\n      <th>P2</th>\n      <th>P3</th>\n      <th>P4</th>\n      <th>P5</th>\n      <th>P6</th>\n      <th>P7</th>\n      <th>P8</th>\n      <th>P9</th>\n      <th>P10</th>\n      <th>...</th>\n      <th>P23</th>\n      <th>P24</th>\n      <th>P25</th>\n      <th>P26</th>\n      <th>P27</th>\n      <th>P28</th>\n      <th>P29</th>\n      <th>P30</th>\n      <th>P31</th>\n      <th>Notas</th>\n    </tr>\n  </thead>\n  <tbody>\n    <tr>\n      <th>0</th>\n      <td>0</td>\n      <td>1</td>\n      <td>2</td>\n      <td>2</td>\n      <td>2</td>\n      <td>1</td>\n      <td>2</td>\n      <td>-2</td>\n      <td>-1</td>\n      <td>1</td>\n      <td>...</td>\n      <td>2</td>\n      <td>2</td>\n      <td>1</td>\n      <td>1</td>\n      <td>-1</td>\n      <td>1</td>\n      <td>2</td>\n      <td>2</td>\n      <td>-2</td>\n      <td>0.966667</td>\n    </tr>\n    <tr>\n      <th>1</th>\n      <td>2</td>\n      <td>2</td>\n      <td>2</td>\n      <td>2</td>\n      <td>1</td>\n      <td>2</td>\n      <td>2</td>\n      <td>2</td>\n      <td>2</td>\n      <td>2</td>\n      <td>...</td>\n      <td>2</td>\n      <td>2</td>\n      <td>2</td>\n      <td>2</td>\n      <td>2</td>\n      <td>2</td>\n      <td>2</td>\n      <td>2</td>\n      <td>2</td>\n      <td>0.950000</td>\n    </tr>\n    <tr>\n      <th>2</th>\n      <td>2</td>\n      <td>2</td>\n      <td>2</td>\n      <td>2</td>\n      <td>0</td>\n      <td>2</td>\n      <td>2</td>\n      <td>-2</td>\n      <td>0</td>\n      <td>2</td>\n      <td>...</td>\n      <td>2</td>\n      <td>2</td>\n      <td>2</td>\n      <td>2</td>\n      <td>-2</td>\n      <td>2</td>\n      <td>2</td>\n      <td>2</td>\n      <td>0</td>\n      <td>0.850000</td>\n    </tr>\n    <tr>\n      <th>3</th>\n      <td>1</td>\n      <td>1</td>\n      <td>-1</td>\n      <td>1</td>\n      <td>1</td>\n      <td>1</td>\n      <td>0</td>\n      <td>-2</td>\n      <td>0</td>\n      <td>0</td>\n      <td>...</td>\n      <td>1</td>\n      <td>2</td>\n      <td>0</td>\n      <td>1</td>\n      <td>2</td>\n      <td>-1</td>\n      <td>0</td>\n      <td>-1</td>\n      <td>-2</td>\n      <td>0.600000</td>\n    </tr>\n    <tr>\n      <th>4</th>\n      <td>2</td>\n      <td>2</td>\n      <td>2</td>\n      <td>2</td>\n      <td>2</td>\n      <td>2</td>\n      <td>1</td>\n      <td>-2</td>\n      <td>0</td>\n      <td>2</td>\n      <td>...</td>\n      <td>2</td>\n      <td>2</td>\n      <td>2</td>\n      <td>2</td>\n      <td>0</td>\n      <td>2</td>\n      <td>2</td>\n      <td>2</td>\n      <td>-2</td>\n      <td>0.916667</td>\n    </tr>\n    <tr>\n      <th>...</th>\n      <td>...</td>\n      <td>...</td>\n      <td>...</td>\n      <td>...</td>\n      <td>...</td>\n      <td>...</td>\n      <td>...</td>\n      <td>...</td>\n      <td>...</td>\n      <td>...</td>\n      <td>...</td>\n      <td>...</td>\n      <td>...</td>\n      <td>...</td>\n      <td>...</td>\n      <td>...</td>\n      <td>...</td>\n      <td>...</td>\n      <td>...</td>\n      <td>...</td>\n      <td>...</td>\n    </tr>\n    <tr>\n      <th>81</th>\n      <td>1</td>\n      <td>2</td>\n      <td>1</td>\n      <td>2</td>\n      <td>1</td>\n      <td>1</td>\n      <td>1</td>\n      <td>-1</td>\n      <td>1</td>\n      <td>2</td>\n      <td>...</td>\n      <td>1</td>\n      <td>1</td>\n      <td>1</td>\n      <td>1</td>\n      <td>1</td>\n      <td>2</td>\n      <td>1</td>\n      <td>1</td>\n      <td>1</td>\n      <td>0.633333</td>\n    </tr>\n    <tr>\n      <th>82</th>\n      <td>0</td>\n      <td>-1</td>\n      <td>1</td>\n      <td>2</td>\n      <td>0</td>\n      <td>2</td>\n      <td>-1</td>\n      <td>-1</td>\n      <td>-1</td>\n      <td>-2</td>\n      <td>...</td>\n      <td>-1</td>\n      <td>-1</td>\n      <td>0</td>\n      <td>0</td>\n      <td>0</td>\n      <td>0</td>\n      <td>-2</td>\n      <td>-2</td>\n      <td>-2</td>\n      <td>0.783333</td>\n    </tr>\n    <tr>\n      <th>83</th>\n      <td>2</td>\n      <td>0</td>\n      <td>1</td>\n      <td>2</td>\n      <td>2</td>\n      <td>0</td>\n      <td>2</td>\n      <td>-2</td>\n      <td>-1</td>\n      <td>2</td>\n      <td>...</td>\n      <td>1</td>\n      <td>-1</td>\n      <td>0</td>\n      <td>2</td>\n      <td>1</td>\n      <td>2</td>\n      <td>1</td>\n      <td>2</td>\n      <td>-2</td>\n      <td>0.933333</td>\n    </tr>\n    <tr>\n      <th>84</th>\n      <td>2</td>\n      <td>2</td>\n      <td>2</td>\n      <td>2</td>\n      <td>2</td>\n      <td>2</td>\n      <td>2</td>\n      <td>-1</td>\n      <td>-1</td>\n      <td>2</td>\n      <td>...</td>\n      <td>1</td>\n      <td>2</td>\n      <td>1</td>\n      <td>2</td>\n      <td>2</td>\n      <td>2</td>\n      <td>2</td>\n      <td>2</td>\n      <td>0</td>\n      <td>0.900000</td>\n    </tr>\n    <tr>\n      <th>85</th>\n      <td>1</td>\n      <td>1</td>\n      <td>0</td>\n      <td>1</td>\n      <td>0</td>\n      <td>0</td>\n      <td>1</td>\n      <td>-1</td>\n      <td>-1</td>\n      <td>-1</td>\n      <td>...</td>\n      <td>0</td>\n      <td>0</td>\n      <td>-1</td>\n      <td>1</td>\n      <td>-1</td>\n      <td>-1</td>\n      <td>0</td>\n      <td>0</td>\n      <td>-2</td>\n      <td>0.566667</td>\n    </tr>\n  </tbody>\n</table>\n<p>86 rows × 32 columns</p>\n</div>"
     },
     "execution_count": 57,
     "metadata": {},
     "output_type": "execute_result"
    }
   ],
   "source": [
    "from collections import OrderedDict\n",
    "df_enc = OrderedDict()\n",
    "\n",
    "encoder = {name: i-2 for i, name in enumerate(scales)}\n",
    "for col_name in questions_copy:\n",
    "    df_enc[col_name] = df[col_name].map(encoder)\n",
    "\n",
    "df_enc[\"Notas\"] = (df[\"Notas\"] - 1) / 6\n",
    "\n",
    "df_enc = pd.DataFrame(df_enc)\n",
    "df_enc"
   ],
   "metadata": {
    "collapsed": false,
    "pycharm": {
     "name": "#%%\n"
    }
   }
  },
  {
   "cell_type": "code",
   "execution_count": 58,
   "outputs": [],
   "source": [
    "import statsmodels.api as sm"
   ],
   "metadata": {
    "collapsed": false,
    "pycharm": {
     "name": "#%%\n"
    }
   }
  },
  {
   "cell_type": "code",
   "execution_count": 59,
   "outputs": [
    {
     "data": {
      "text/plain": "array([[0.96666667],\n       [0.95      ],\n       [0.85      ],\n       [0.6       ],\n       [0.91666667],\n       [0.93333333],\n       [0.96666667],\n       [0.9       ],\n       [0.9       ],\n       [0.81666667],\n       [0.93333333],\n       [0.8       ],\n       [0.86666667],\n       [0.85      ],\n       [0.91666667],\n       [0.91666667],\n       [0.6       ],\n       [0.7       ],\n       [0.78333333],\n       [0.85      ],\n       [0.88333333],\n       [0.81666667],\n       [0.9       ],\n       [0.86666667],\n       [0.75      ],\n       [0.83333333],\n       [0.9       ],\n       [0.66666667],\n       [0.91666667],\n       [0.68333333],\n       [0.95      ],\n       [0.78333333],\n       [0.65      ],\n       [0.83333333],\n       [0.83333333],\n       [0.76666667],\n       [0.65      ],\n       [0.6       ],\n       [0.9       ],\n       [0.66666667],\n       [0.9       ],\n       [0.76666667],\n       [0.9       ],\n       [0.71666667],\n       [0.66666667],\n       [0.71666667],\n       [0.91666667],\n       [0.81666667],\n       [0.63333333],\n       [0.65      ],\n       [0.83333333],\n       [0.66666667],\n       [0.96666667],\n       [0.85      ],\n       [0.75      ],\n       [0.68333333],\n       [0.68333333],\n       [0.75      ],\n       [0.83333333],\n       [0.6       ],\n       [0.75      ],\n       [0.66666667],\n       [0.73333333],\n       [0.85      ],\n       [0.8       ],\n       [0.81666667],\n       [0.76666667],\n       [0.58333333],\n       [0.66666667],\n       [0.63333333],\n       [0.8       ],\n       [0.71666667],\n       [0.88333333],\n       [0.83333333],\n       [0.93333333],\n       [0.68333333],\n       [0.86666667],\n       [0.76666667],\n       [0.58333333],\n       [0.78333333],\n       [0.93333333],\n       [0.63333333],\n       [0.78333333],\n       [0.93333333],\n       [0.9       ],\n       [0.56666667]])"
     },
     "execution_count": 59,
     "metadata": {},
     "output_type": "execute_result"
    }
   ],
   "source": [
    "df_enc.endog = np.array(df_enc.pop(\"Notas\")).reshape((-1, 1))\n",
    "\n",
    "df_enc.endog"
   ],
   "metadata": {
    "collapsed": false,
    "pycharm": {
     "name": "#%%\n"
    }
   }
  },
  {
   "cell_type": "code",
   "execution_count": 63,
   "outputs": [
    {
     "data": {
      "text/plain": "0.7910852713178296"
     },
     "execution_count": 63,
     "metadata": {},
     "output_type": "execute_result"
    }
   ],
   "source": [
    "np.mean(df_enc.endog)"
   ],
   "metadata": {
    "collapsed": false,
    "pycharm": {
     "name": "#%%\n"
    }
   }
  },
  {
   "cell_type": "code",
   "execution_count": 60,
   "outputs": [
    {
     "data": {
      "text/plain": "    const  P1  P2  P3  P4  P5  P6  P7  P8  P9  ...  P22  P23  P24  P25  P26  \\\n0     1.0   0   1   2   2   2   1   2  -2  -1  ...    1    2    2    1    1   \n1     1.0   2   2   2   2   1   2   2   2   2  ...    2    2    2    2    2   \n2     1.0   2   2   2   2   0   2   2  -2   0  ...    2    2    2    2    2   \n3     1.0   1   1  -1   1   1   1   0  -2   0  ...   -2    1    2    0    1   \n4     1.0   2   2   2   2   2   2   1  -2   0  ...    2    2    2    2    2   \n..    ...  ..  ..  ..  ..  ..  ..  ..  ..  ..  ...  ...  ...  ...  ...  ...   \n81    1.0   1   2   1   2   1   1   1  -1   1  ...    1    1    1    1    1   \n82    1.0   0  -1   1   2   0   2  -1  -1  -1  ...   -2   -1   -1    0    0   \n83    1.0   2   0   1   2   2   0   2  -2  -1  ...    2    1   -1    0    2   \n84    1.0   2   2   2   2   2   2   2  -1  -1  ...    1    1    2    1    2   \n85    1.0   1   1   0   1   0   0   1  -1  -1  ...   -1    0    0   -1    1   \n\n    P27  P28  P29  P30  P31  \n0    -1    1    2    2   -2  \n1     2    2    2    2    2  \n2    -2    2    2    2    0  \n3     2   -1    0   -1   -2  \n4     0    2    2    2   -2  \n..  ...  ...  ...  ...  ...  \n81    1    2    1    1    1  \n82    0    0   -2   -2   -2  \n83    1    2    1    2   -2  \n84    2    2    2    2    0  \n85   -1   -1    0    0   -2  \n\n[86 rows x 32 columns]",
      "text/html": "<div>\n<style scoped>\n    .dataframe tbody tr th:only-of-type {\n        vertical-align: middle;\n    }\n\n    .dataframe tbody tr th {\n        vertical-align: top;\n    }\n\n    .dataframe thead th {\n        text-align: right;\n    }\n</style>\n<table border=\"1\" class=\"dataframe\">\n  <thead>\n    <tr style=\"text-align: right;\">\n      <th></th>\n      <th>const</th>\n      <th>P1</th>\n      <th>P2</th>\n      <th>P3</th>\n      <th>P4</th>\n      <th>P5</th>\n      <th>P6</th>\n      <th>P7</th>\n      <th>P8</th>\n      <th>P9</th>\n      <th>...</th>\n      <th>P22</th>\n      <th>P23</th>\n      <th>P24</th>\n      <th>P25</th>\n      <th>P26</th>\n      <th>P27</th>\n      <th>P28</th>\n      <th>P29</th>\n      <th>P30</th>\n      <th>P31</th>\n    </tr>\n  </thead>\n  <tbody>\n    <tr>\n      <th>0</th>\n      <td>1.0</td>\n      <td>0</td>\n      <td>1</td>\n      <td>2</td>\n      <td>2</td>\n      <td>2</td>\n      <td>1</td>\n      <td>2</td>\n      <td>-2</td>\n      <td>-1</td>\n      <td>...</td>\n      <td>1</td>\n      <td>2</td>\n      <td>2</td>\n      <td>1</td>\n      <td>1</td>\n      <td>-1</td>\n      <td>1</td>\n      <td>2</td>\n      <td>2</td>\n      <td>-2</td>\n    </tr>\n    <tr>\n      <th>1</th>\n      <td>1.0</td>\n      <td>2</td>\n      <td>2</td>\n      <td>2</td>\n      <td>2</td>\n      <td>1</td>\n      <td>2</td>\n      <td>2</td>\n      <td>2</td>\n      <td>2</td>\n      <td>...</td>\n      <td>2</td>\n      <td>2</td>\n      <td>2</td>\n      <td>2</td>\n      <td>2</td>\n      <td>2</td>\n      <td>2</td>\n      <td>2</td>\n      <td>2</td>\n      <td>2</td>\n    </tr>\n    <tr>\n      <th>2</th>\n      <td>1.0</td>\n      <td>2</td>\n      <td>2</td>\n      <td>2</td>\n      <td>2</td>\n      <td>0</td>\n      <td>2</td>\n      <td>2</td>\n      <td>-2</td>\n      <td>0</td>\n      <td>...</td>\n      <td>2</td>\n      <td>2</td>\n      <td>2</td>\n      <td>2</td>\n      <td>2</td>\n      <td>-2</td>\n      <td>2</td>\n      <td>2</td>\n      <td>2</td>\n      <td>0</td>\n    </tr>\n    <tr>\n      <th>3</th>\n      <td>1.0</td>\n      <td>1</td>\n      <td>1</td>\n      <td>-1</td>\n      <td>1</td>\n      <td>1</td>\n      <td>1</td>\n      <td>0</td>\n      <td>-2</td>\n      <td>0</td>\n      <td>...</td>\n      <td>-2</td>\n      <td>1</td>\n      <td>2</td>\n      <td>0</td>\n      <td>1</td>\n      <td>2</td>\n      <td>-1</td>\n      <td>0</td>\n      <td>-1</td>\n      <td>-2</td>\n    </tr>\n    <tr>\n      <th>4</th>\n      <td>1.0</td>\n      <td>2</td>\n      <td>2</td>\n      <td>2</td>\n      <td>2</td>\n      <td>2</td>\n      <td>2</td>\n      <td>1</td>\n      <td>-2</td>\n      <td>0</td>\n      <td>...</td>\n      <td>2</td>\n      <td>2</td>\n      <td>2</td>\n      <td>2</td>\n      <td>2</td>\n      <td>0</td>\n      <td>2</td>\n      <td>2</td>\n      <td>2</td>\n      <td>-2</td>\n    </tr>\n    <tr>\n      <th>...</th>\n      <td>...</td>\n      <td>...</td>\n      <td>...</td>\n      <td>...</td>\n      <td>...</td>\n      <td>...</td>\n      <td>...</td>\n      <td>...</td>\n      <td>...</td>\n      <td>...</td>\n      <td>...</td>\n      <td>...</td>\n      <td>...</td>\n      <td>...</td>\n      <td>...</td>\n      <td>...</td>\n      <td>...</td>\n      <td>...</td>\n      <td>...</td>\n      <td>...</td>\n      <td>...</td>\n    </tr>\n    <tr>\n      <th>81</th>\n      <td>1.0</td>\n      <td>1</td>\n      <td>2</td>\n      <td>1</td>\n      <td>2</td>\n      <td>1</td>\n      <td>1</td>\n      <td>1</td>\n      <td>-1</td>\n      <td>1</td>\n      <td>...</td>\n      <td>1</td>\n      <td>1</td>\n      <td>1</td>\n      <td>1</td>\n      <td>1</td>\n      <td>1</td>\n      <td>2</td>\n      <td>1</td>\n      <td>1</td>\n      <td>1</td>\n    </tr>\n    <tr>\n      <th>82</th>\n      <td>1.0</td>\n      <td>0</td>\n      <td>-1</td>\n      <td>1</td>\n      <td>2</td>\n      <td>0</td>\n      <td>2</td>\n      <td>-1</td>\n      <td>-1</td>\n      <td>-1</td>\n      <td>...</td>\n      <td>-2</td>\n      <td>-1</td>\n      <td>-1</td>\n      <td>0</td>\n      <td>0</td>\n      <td>0</td>\n      <td>0</td>\n      <td>-2</td>\n      <td>-2</td>\n      <td>-2</td>\n    </tr>\n    <tr>\n      <th>83</th>\n      <td>1.0</td>\n      <td>2</td>\n      <td>0</td>\n      <td>1</td>\n      <td>2</td>\n      <td>2</td>\n      <td>0</td>\n      <td>2</td>\n      <td>-2</td>\n      <td>-1</td>\n      <td>...</td>\n      <td>2</td>\n      <td>1</td>\n      <td>-1</td>\n      <td>0</td>\n      <td>2</td>\n      <td>1</td>\n      <td>2</td>\n      <td>1</td>\n      <td>2</td>\n      <td>-2</td>\n    </tr>\n    <tr>\n      <th>84</th>\n      <td>1.0</td>\n      <td>2</td>\n      <td>2</td>\n      <td>2</td>\n      <td>2</td>\n      <td>2</td>\n      <td>2</td>\n      <td>2</td>\n      <td>-1</td>\n      <td>-1</td>\n      <td>...</td>\n      <td>1</td>\n      <td>1</td>\n      <td>2</td>\n      <td>1</td>\n      <td>2</td>\n      <td>2</td>\n      <td>2</td>\n      <td>2</td>\n      <td>2</td>\n      <td>0</td>\n    </tr>\n    <tr>\n      <th>85</th>\n      <td>1.0</td>\n      <td>1</td>\n      <td>1</td>\n      <td>0</td>\n      <td>1</td>\n      <td>0</td>\n      <td>0</td>\n      <td>1</td>\n      <td>-1</td>\n      <td>-1</td>\n      <td>...</td>\n      <td>-1</td>\n      <td>0</td>\n      <td>0</td>\n      <td>-1</td>\n      <td>1</td>\n      <td>-1</td>\n      <td>-1</td>\n      <td>0</td>\n      <td>0</td>\n      <td>-2</td>\n    </tr>\n  </tbody>\n</table>\n<p>86 rows × 32 columns</p>\n</div>"
     },
     "execution_count": 60,
     "metadata": {},
     "output_type": "execute_result"
    }
   ],
   "source": [
    "df_enc.exog = sm.add_constant(df_enc)\n",
    "df_enc.exog"
   ],
   "metadata": {
    "collapsed": false,
    "pycharm": {
     "name": "#%%\n"
    }
   }
  },
  {
   "cell_type": "code",
   "execution_count": 62,
   "outputs": [
    {
     "name": "stdout",
     "output_type": "stream",
     "text": [
      "Optimization terminated successfully.\n",
      "         Current function value: 0.375446\n",
      "         Iterations 6\n"
     ]
    },
    {
     "data": {
      "text/plain": "<class 'statsmodels.iolib.summary.Summary'>\n\"\"\"\n                           Logit Regression Results                           \n==============================================================================\nDep. Variable:                      y   No. Observations:                   86\nModel:                          Logit   Df Residuals:                       54\nMethod:                           MLE   Df Model:                           31\nDate:                Tue, 13 Dec 2022   Pseudo R-squ.:                     inf\nTime:                        21:44:46   Log-Likelihood:                -32.288\nconverged:                       True   LL-Null:                        0.0000\nCovariance Type:            nonrobust   LLR p-value:                     1.000\n==============================================================================\n                 coef    std err          z      P>|z|      [0.025      0.975]\n------------------------------------------------------------------------------\nconst          0.9334      1.313      0.711      0.477      -1.640       3.507\nP1            -0.0042      0.512     -0.008      0.993      -1.008       0.999\nP2            -0.1002      0.447     -0.224      0.823      -0.977       0.777\nP3             0.0549      0.638      0.086      0.931      -1.196       1.306\nP4            -0.0100      0.611     -0.016      0.987      -1.207       1.187\nP5             0.1107      0.462      0.240      0.810      -0.794       1.016\nP6             0.0094      0.534      0.018      0.986      -1.037       1.056\nP7            -0.0592      0.529     -0.112      0.911      -1.095       0.977\nP8            -0.0153      0.568     -0.027      0.979      -1.128       1.097\nP9             0.0687      0.492      0.139      0.889      -0.896       1.034\nP10           -0.0801      0.473     -0.169      0.866      -1.008       0.848\nP11            0.1379      0.840      0.164      0.870      -1.508       1.784\nP12           -0.1700      0.499     -0.341      0.733      -1.147       0.807\nP13            0.0471      0.805      0.059      0.953      -1.530       1.624\nP14           -0.0138      0.275     -0.050      0.960      -0.552       0.525\nP15           -0.0865      0.332     -0.261      0.794      -0.736       0.563\nP16           -0.0690      0.355     -0.194      0.846      -0.765       0.627\nP17           -0.0814      0.396     -0.206      0.837      -0.857       0.694\nP18           -0.0067      0.582     -0.011      0.991      -1.147       1.134\nP19            0.0071      0.516      0.014      0.989      -1.005       1.019\nP20           -0.0562      0.288     -0.195      0.845      -0.620       0.508\nP21            0.1895      0.605      0.313      0.754      -0.995       1.375\nP22            0.1086      0.455      0.239      0.811      -0.784       1.001\nP23            0.2555      0.539      0.474      0.635      -0.801       1.312\nP24           -0.1784      0.459     -0.389      0.697      -1.078       0.721\nP25            0.0013      0.323      0.004      0.997      -0.633       0.635\nP26            0.0095      0.515      0.018      0.985      -1.000       1.019\nP27           -0.0890      0.285     -0.312      0.755      -0.647       0.469\nP28           -0.1032      0.612     -0.169      0.866      -1.303       1.096\nP29            0.1461      0.474      0.308      0.758      -0.783       1.075\nP30            0.1544      0.232      0.664      0.506      -0.301       0.610\nP31            0.1105      0.367      0.301      0.763      -0.608       0.829\n==============================================================================\n\"\"\"",
      "text/html": "<table class=\"simpletable\">\n<caption>Logit Regression Results</caption>\n<tr>\n  <th>Dep. Variable:</th>           <td>y</td>        <th>  No. Observations:  </th>  <td>    86</td> \n</tr>\n<tr>\n  <th>Model:</th>                 <td>Logit</td>      <th>  Df Residuals:      </th>  <td>    54</td> \n</tr>\n<tr>\n  <th>Method:</th>                 <td>MLE</td>       <th>  Df Model:          </th>  <td>    31</td> \n</tr>\n<tr>\n  <th>Date:</th>            <td>Tue, 13 Dec 2022</td> <th>  Pseudo R-squ.:     </th>  <td>   inf</td> \n</tr>\n<tr>\n  <th>Time:</th>                <td>21:44:46</td>     <th>  Log-Likelihood:    </th> <td> -32.288</td>\n</tr>\n<tr>\n  <th>converged:</th>             <td>True</td>       <th>  LL-Null:           </th> <td>  0.0000</td>\n</tr>\n<tr>\n  <th>Covariance Type:</th>     <td>nonrobust</td>    <th>  LLR p-value:       </th>  <td> 1.000</td> \n</tr>\n</table>\n<table class=\"simpletable\">\n<tr>\n    <td></td>       <th>coef</th>     <th>std err</th>      <th>z</th>      <th>P>|z|</th>  <th>[0.025</th>    <th>0.975]</th>  \n</tr>\n<tr>\n  <th>const</th> <td>    0.9334</td> <td>    1.313</td> <td>    0.711</td> <td> 0.477</td> <td>   -1.640</td> <td>    3.507</td>\n</tr>\n<tr>\n  <th>P1</th>    <td>   -0.0042</td> <td>    0.512</td> <td>   -0.008</td> <td> 0.993</td> <td>   -1.008</td> <td>    0.999</td>\n</tr>\n<tr>\n  <th>P2</th>    <td>   -0.1002</td> <td>    0.447</td> <td>   -0.224</td> <td> 0.823</td> <td>   -0.977</td> <td>    0.777</td>\n</tr>\n<tr>\n  <th>P3</th>    <td>    0.0549</td> <td>    0.638</td> <td>    0.086</td> <td> 0.931</td> <td>   -1.196</td> <td>    1.306</td>\n</tr>\n<tr>\n  <th>P4</th>    <td>   -0.0100</td> <td>    0.611</td> <td>   -0.016</td> <td> 0.987</td> <td>   -1.207</td> <td>    1.187</td>\n</tr>\n<tr>\n  <th>P5</th>    <td>    0.1107</td> <td>    0.462</td> <td>    0.240</td> <td> 0.810</td> <td>   -0.794</td> <td>    1.016</td>\n</tr>\n<tr>\n  <th>P6</th>    <td>    0.0094</td> <td>    0.534</td> <td>    0.018</td> <td> 0.986</td> <td>   -1.037</td> <td>    1.056</td>\n</tr>\n<tr>\n  <th>P7</th>    <td>   -0.0592</td> <td>    0.529</td> <td>   -0.112</td> <td> 0.911</td> <td>   -1.095</td> <td>    0.977</td>\n</tr>\n<tr>\n  <th>P8</th>    <td>   -0.0153</td> <td>    0.568</td> <td>   -0.027</td> <td> 0.979</td> <td>   -1.128</td> <td>    1.097</td>\n</tr>\n<tr>\n  <th>P9</th>    <td>    0.0687</td> <td>    0.492</td> <td>    0.139</td> <td> 0.889</td> <td>   -0.896</td> <td>    1.034</td>\n</tr>\n<tr>\n  <th>P10</th>   <td>   -0.0801</td> <td>    0.473</td> <td>   -0.169</td> <td> 0.866</td> <td>   -1.008</td> <td>    0.848</td>\n</tr>\n<tr>\n  <th>P11</th>   <td>    0.1379</td> <td>    0.840</td> <td>    0.164</td> <td> 0.870</td> <td>   -1.508</td> <td>    1.784</td>\n</tr>\n<tr>\n  <th>P12</th>   <td>   -0.1700</td> <td>    0.499</td> <td>   -0.341</td> <td> 0.733</td> <td>   -1.147</td> <td>    0.807</td>\n</tr>\n<tr>\n  <th>P13</th>   <td>    0.0471</td> <td>    0.805</td> <td>    0.059</td> <td> 0.953</td> <td>   -1.530</td> <td>    1.624</td>\n</tr>\n<tr>\n  <th>P14</th>   <td>   -0.0138</td> <td>    0.275</td> <td>   -0.050</td> <td> 0.960</td> <td>   -0.552</td> <td>    0.525</td>\n</tr>\n<tr>\n  <th>P15</th>   <td>   -0.0865</td> <td>    0.332</td> <td>   -0.261</td> <td> 0.794</td> <td>   -0.736</td> <td>    0.563</td>\n</tr>\n<tr>\n  <th>P16</th>   <td>   -0.0690</td> <td>    0.355</td> <td>   -0.194</td> <td> 0.846</td> <td>   -0.765</td> <td>    0.627</td>\n</tr>\n<tr>\n  <th>P17</th>   <td>   -0.0814</td> <td>    0.396</td> <td>   -0.206</td> <td> 0.837</td> <td>   -0.857</td> <td>    0.694</td>\n</tr>\n<tr>\n  <th>P18</th>   <td>   -0.0067</td> <td>    0.582</td> <td>   -0.011</td> <td> 0.991</td> <td>   -1.147</td> <td>    1.134</td>\n</tr>\n<tr>\n  <th>P19</th>   <td>    0.0071</td> <td>    0.516</td> <td>    0.014</td> <td> 0.989</td> <td>   -1.005</td> <td>    1.019</td>\n</tr>\n<tr>\n  <th>P20</th>   <td>   -0.0562</td> <td>    0.288</td> <td>   -0.195</td> <td> 0.845</td> <td>   -0.620</td> <td>    0.508</td>\n</tr>\n<tr>\n  <th>P21</th>   <td>    0.1895</td> <td>    0.605</td> <td>    0.313</td> <td> 0.754</td> <td>   -0.995</td> <td>    1.375</td>\n</tr>\n<tr>\n  <th>P22</th>   <td>    0.1086</td> <td>    0.455</td> <td>    0.239</td> <td> 0.811</td> <td>   -0.784</td> <td>    1.001</td>\n</tr>\n<tr>\n  <th>P23</th>   <td>    0.2555</td> <td>    0.539</td> <td>    0.474</td> <td> 0.635</td> <td>   -0.801</td> <td>    1.312</td>\n</tr>\n<tr>\n  <th>P24</th>   <td>   -0.1784</td> <td>    0.459</td> <td>   -0.389</td> <td> 0.697</td> <td>   -1.078</td> <td>    0.721</td>\n</tr>\n<tr>\n  <th>P25</th>   <td>    0.0013</td> <td>    0.323</td> <td>    0.004</td> <td> 0.997</td> <td>   -0.633</td> <td>    0.635</td>\n</tr>\n<tr>\n  <th>P26</th>   <td>    0.0095</td> <td>    0.515</td> <td>    0.018</td> <td> 0.985</td> <td>   -1.000</td> <td>    1.019</td>\n</tr>\n<tr>\n  <th>P27</th>   <td>   -0.0890</td> <td>    0.285</td> <td>   -0.312</td> <td> 0.755</td> <td>   -0.647</td> <td>    0.469</td>\n</tr>\n<tr>\n  <th>P28</th>   <td>   -0.1032</td> <td>    0.612</td> <td>   -0.169</td> <td> 0.866</td> <td>   -1.303</td> <td>    1.096</td>\n</tr>\n<tr>\n  <th>P29</th>   <td>    0.1461</td> <td>    0.474</td> <td>    0.308</td> <td> 0.758</td> <td>   -0.783</td> <td>    1.075</td>\n</tr>\n<tr>\n  <th>P30</th>   <td>    0.1544</td> <td>    0.232</td> <td>    0.664</td> <td> 0.506</td> <td>   -0.301</td> <td>    0.610</td>\n</tr>\n<tr>\n  <th>P31</th>   <td>    0.1105</td> <td>    0.367</td> <td>    0.301</td> <td> 0.763</td> <td>   -0.608</td> <td>    0.829</td>\n</tr>\n</table>"
     },
     "execution_count": 62,
     "metadata": {},
     "output_type": "execute_result"
    }
   ],
   "source": [
    "logit_mod = sm.Logit(df_enc.endog, df_enc.exog)\n",
    "\n",
    "logit_res = logit_mod.fit()\n",
    "\n",
    "logit_res.summary()"
   ],
   "metadata": {
    "collapsed": false,
    "pycharm": {
     "name": "#%%\n"
    }
   }
  }
 ],
 "metadata": {
  "kernelspec": {
   "display_name": "Python 3",
   "language": "python",
   "name": "python3"
  },
  "language_info": {
   "codemirror_mode": {
    "name": "ipython",
    "version": 2
   },
   "file_extension": ".py",
   "mimetype": "text/x-python",
   "name": "python",
   "nbconvert_exporter": "python",
   "pygments_lexer": "ipython2",
   "version": "2.7.6"
  }
 },
 "nbformat": 4,
 "nbformat_minor": 0
}