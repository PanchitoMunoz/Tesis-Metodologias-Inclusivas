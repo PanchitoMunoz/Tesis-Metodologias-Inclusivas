{
 "cells": [
  {
   "cell_type": "markdown",
   "source": [
    "# Imports y configuraciones iniciales"
   ],
   "metadata": {
    "collapsed": false,
    "pycharm": {
     "name": "#%% md\n"
    }
   }
  },
  {
   "cell_type": "code",
   "execution_count": 1,
   "outputs": [],
   "source": [
    "import warnings\n",
    "\n",
    "from typing import List\n",
    "\n",
    "warnings.filterwarnings(\"ignore\")"
   ],
   "metadata": {
    "collapsed": false,
    "pycharm": {
     "name": "#%%\n"
    }
   }
  },
  {
   "cell_type": "code",
   "execution_count": 2,
   "outputs": [],
   "source": [
    "# Dejar el path principal como el anterior.\n",
    "import sys\n",
    "\n",
    "sys.path.append('../')"
   ],
   "metadata": {
    "collapsed": false,
    "pycharm": {
     "name": "#%%\n"
    }
   }
  },
  {
   "cell_type": "code",
   "execution_count": 3,
   "outputs": [],
   "source": [
    "import logging\n",
    "\n",
    "# Crear el logger\n",
    "log = logging.getLogger(__name__)\n",
    "\n",
    "# Setear el nivel del registro\n",
    "log.setLevel(logging.WARNING)\n",
    "\n",
    "# Formato de los mensajes\n",
    "formatter = logging.Formatter(\"%(levelname)s: (%(asctime)s) [%(filename)s: %(lineno)s] %(message)s\")\n",
    "\n",
    "if not log.hasHandlers():\n",
    "    # Handlers\n",
    "    file_handler = logging.FileHandler(\"logging.log\")\n",
    "    file_handler.setFormatter(formatter)  # Setear el formato del handler\n",
    "    # Agregar el handler al logger\n",
    "    # log.addHandler(file_handler)\n",
    "\n",
    "    stream_handler = logging.StreamHandler()\n",
    "    stream_handler.setFormatter(formatter)\n",
    "    # Agregar el handler al logger\n",
    "    log.addHandler(stream_handler)"
   ],
   "metadata": {
    "collapsed": false,
    "pycharm": {
     "name": "#%%\n"
    }
   }
  },
  {
   "cell_type": "markdown",
   "source": [
    "Instalar la librería plot-likert y otras librerías útiles"
   ],
   "metadata": {
    "collapsed": false,
    "pycharm": {
     "name": "#%% md\n"
    }
   }
  },
  {
   "cell_type": "code",
   "execution_count": 4,
   "outputs": [],
   "source": [
    "# Librería para hacer gráficos Likert\n",
    "# !pip install plot-likert\n",
    "\n",
    "# Para obtener datos de excel\n",
    "# !pip install openpyxl\n",
    "\n",
    "# Para tener un transformador de data\n",
    "# !pip install -U scikit-learn\n",
    "\n",
    "# Para tener herramientas estadísticas\n",
    "# !python -m pip install statsmodels\n",
    "\n",
    "# Para tener Seaborn\n",
    "# !pip install seaborn"
   ],
   "metadata": {
    "collapsed": false,
    "pycharm": {
     "name": "#%%\n"
    }
   }
  },
  {
   "cell_type": "markdown",
   "source": [
    "Importamos algunas librerías útiles para el resto del notebook"
   ],
   "metadata": {
    "collapsed": false,
    "pycharm": {
     "name": "#%% md\n"
    }
   }
  },
  {
   "cell_type": "code",
   "execution_count": 5,
   "outputs": [],
   "source": [
    "import pandas as pd\n",
    "import numpy as np\n",
    "import matplotlib.pyplot as plt\n",
    "import seaborn as sns\n",
    "from pathlib import Path"
   ],
   "metadata": {
    "collapsed": false,
    "pycharm": {
     "name": "#%%\n"
    }
   }
  },
  {
   "cell_type": "markdown",
   "source": [
    "# Importación del data set"
   ],
   "metadata": {
    "collapsed": false,
    "pycharm": {
     "name": "#%% md\n"
    }
   }
  },
  {
   "cell_type": "markdown",
   "source": [
    "Empezamos obteniendo los datos"
   ],
   "metadata": {
    "collapsed": false,
    "pycharm": {
     "name": "#%% md\n"
    }
   }
  },
  {
   "cell_type": "code",
   "execution_count": 6,
   "outputs": [],
   "source": [
    "DATA_PATH = Path(r\"..\\data\")\n",
    "\n",
    "if not DATA_PATH.exists():\n",
    "    log.info(f\"Creando carpeta {DATA_PATH = }\")\n",
    "    DATA_PATH.mkdir()"
   ],
   "metadata": {
    "collapsed": false,
    "pycharm": {
     "name": "#%%\n"
    }
   }
  },
  {
   "cell_type": "code",
   "execution_count": 7,
   "outputs": [
    {
     "data": {
      "text/plain": "WindowsPath('../data/questions-and-answers-complete.xlsx')"
     },
     "execution_count": 7,
     "metadata": {},
     "output_type": "execute_result"
    }
   ],
   "source": [
    "QNA_COMPLETE_PATH = DATA_PATH / \"questions-and-answers-complete.xlsx\"\n",
    "QNA_COMPLETE_PATH"
   ],
   "metadata": {
    "collapsed": false,
    "pycharm": {
     "name": "#%%\n"
    }
   }
  },
  {
   "cell_type": "code",
   "execution_count": 8,
   "outputs": [
    {
     "data": {
      "text/plain": "   Prom Cs  \\\n0      6.8   \n1      6.7   \n2      6.1   \n3      4.6   \n4      6.5   \n\n  ¿Los profesores de ciencias consideran los intereses de los alumnos para elaborar y organizar las evaluaciones?  \\\n0                                     Ocasionalmente                                                                \n1                       Siempre, en todas las clases                                                                \n2                       Siempre, en todas las clases                                                                \n3                                       Casi siempre                                                                \n4                       Siempre, en todas las clases                                                                \n\n  De las actividades realizadas en clase ¿el profesor considera y respeta nuestros intereses?  \\\n0                                       Casi siempre                                            \n1                       Siempre, en todas las clases                                            \n2                       Siempre, en todas las clases                                            \n3                                       Casi siempre                                            \n4                       Siempre, en todas las clases                                            \n\n  ¿El profesor retroalimenta y refuerza en todas las clases lo que hemos ido aprendiendo?  \\\n0                       Siempre, en todas las clases                                        \n1                       Siempre, en todas las clases                                        \n2                       Siempre, en todas las clases                                        \n3                                           Rara vez                                        \n4                       Siempre, en todas las clases                                        \n\n  El profesor de la clase de ciencias ¿anota y explica el objetivo que se va a trabajar durante la clase?  \\\n0                       Siempre, en todas las clases                                                        \n1                       Siempre, en todas las clases                                                        \n2                       Siempre, en todas las clases                                                        \n3                                       Casi siempre                                                        \n4                       Siempre, en todas las clases                                                        \n\n  El profesor, al cierre de su clase ¿realiza preguntas para verificar si hemos aprendido?  \\\n0                       Siempre, en todas las clases                                         \n1                                       Casi siempre                                         \n2                                     Ocasionalmente                                         \n3                                       Casi siempre                                         \n4                       Siempre, en todas las clases                                         \n\n  Cuando el profesor da tareas ¿las explica claramente y nos da ejemplos que orientan para realizarlas?  \\\n0                                       Casi siempre                                                      \n1                       Siempre, en todas las clases                                                      \n2                       Siempre, en todas las clases                                                      \n3                                       Casi siempre                                                      \n4                       Siempre, en todas las clases                                                      \n\n  Durante la actividad ¿el profesor circula explicando y resolviendo dudas?  \\\n0                       Siempre, en todas las clases                          \n1                       Siempre, en todas las clases                          \n2                       Siempre, en todas las clases                          \n3                                     Ocasionalmente                          \n4                                       Casi siempre                          \n\n  ¿Se realizan salidas a terreno: museos, zoológicos y otros lugares que ayudan al aprendizaje?  \\\n0                                              Nunca                                              \n1                       Siempre, en todas las clases                                              \n2                                              Nunca                                              \n3                                              Nunca                                              \n4                                              Nunca                                              \n\n  Para hacer las clases, el profesor ¿nos lleva a otros espacios motivantes para que aprendamos mejor?  \\\n0                                           Rara vez                                                     \n1                       Siempre, en todas las clases                                                     \n2                                     Ocasionalmente                                                     \n3                                     Ocasionalmente                                                     \n4                                     Ocasionalmente                                                     \n\n   ...  \\\n0  ...   \n1  ...   \n2  ...   \n3  ...   \n4  ...   \n\n  Cuando me queda alguna duda de la clase, ¿me dirijo confiadamente al profesor a preguntar?  \\\n0                                       Casi siempre                                           \n1                       Siempre, en todas las clases                                           \n2                       Siempre, en todas las clases                                           \n3                                              Nunca                                           \n4                       Siempre, en todas las clases                                           \n\n  Cuando el profesor es cercano conmigo y mis compañeros, ¿nos da confianza y seguridad para preguntar todas las dudas?  \\\n0                       Siempre, en todas las clases                                                                      \n1                       Siempre, en todas las clases                                                                      \n2                       Siempre, en todas las clases                                                                      \n3                                       Casi siempre                                                                      \n4                       Siempre, en todas las clases                                                                      \n\n  Cuando tengo más cercanía y confianza con el profesor ¿aprendo mejor?  \\\n0                       Siempre, en todas las clases                      \n1                       Siempre, en todas las clases                      \n2                       Siempre, en todas las clases                      \n3                       Siempre, en todas las clases                      \n4                       Siempre, en todas las clases                      \n\n  ¿Los profesores de ciencias ofrecen diversas actividades grupales de un mismo tema, para que los estudiantes, elijan en la que quieren trabajar?  \\\n0                                       Casi siempre                                                                                                 \n1                       Siempre, en todas las clases                                                                                                 \n2                       Siempre, en todas las clases                                                                                                 \n3                                     Ocasionalmente                                                                                                 \n4                       Siempre, en todas las clases                                                                                                 \n\n  ¿Los profesores de ciencias integran a todos los estudiantes para que participen en las actividades grupales dentro de la sala de clases?  \\\n0                                       Casi siempre                                                                                          \n1                       Siempre, en todas las clases                                                                                          \n2                       Siempre, en todas las clases                                                                                          \n3                                       Casi siempre                                                                                          \n4                       Siempre, en todas las clases                                                                                          \n\n  ¿Los profesores de ciencias integran a todos los estudiantes en grupos, para que participen en las actividades de investigación, fuera del colegio?  \\\n0                                           Rara vez                                                                                                    \n1                       Siempre, en todas las clases                                                                                                    \n2                                              Nunca                                                                                                    \n3                       Siempre, en todas las clases                                                                                                    \n4                                     Ocasionalmente                                                                                                    \n\n  ¿Los profesores, muestran interés por reforzar a los alumnos que más les cuesta?  \\\n0                                       Casi siempre                                 \n1                       Siempre, en todas las clases                                 \n2                       Siempre, en todas las clases                                 \n3                                           Rara vez                                 \n4                       Siempre, en todas las clases                                 \n\n  Cuando el profesor nos hace realizar actividades variadas, en ciencias ¿comprendo mejor la materia?  \\\n0                       Siempre, en todas las clases                                                    \n1                       Siempre, en todas las clases                                                    \n2                       Siempre, en todas las clases                                                    \n3                                     Ocasionalmente                                                    \n4                       Siempre, en todas las clases                                                    \n\n  ¿Los profesores de ciencias integran a todos los estudiantes para que participen en las actividades prácticas de laboratorio?  \\\n0                       Siempre, en todas las clases                                                                              \n1                       Siempre, en todas las clases                                                                              \n2                       Siempre, en todas las clases                                                                              \n3                                           Rara vez                                                                              \n4                       Siempre, en todas las clases                                                                              \n\n  En las clases de ciencias, ¿algunos alumnos son evaluados con carpetas de actividades realizadas en el colegio y fuera de él?  \n0                                              Nunca                                                                             \n1                       Siempre, en todas las clases                                                                             \n2                                     Ocasionalmente                                                                             \n3                                              Nunca                                                                             \n4                                              Nunca                                                                             \n\n[5 rows x 32 columns]",
      "text/html": "<div>\n<style scoped>\n    .dataframe tbody tr th:only-of-type {\n        vertical-align: middle;\n    }\n\n    .dataframe tbody tr th {\n        vertical-align: top;\n    }\n\n    .dataframe thead th {\n        text-align: right;\n    }\n</style>\n<table border=\"1\" class=\"dataframe\">\n  <thead>\n    <tr style=\"text-align: right;\">\n      <th></th>\n      <th>Prom Cs</th>\n      <th>¿Los profesores de ciencias consideran los intereses de los alumnos para elaborar y organizar las evaluaciones?</th>\n      <th>De las actividades realizadas en clase ¿el profesor considera y respeta nuestros intereses?</th>\n      <th>¿El profesor retroalimenta y refuerza en todas las clases lo que hemos ido aprendiendo?</th>\n      <th>El profesor de la clase de ciencias ¿anota y explica el objetivo que se va a trabajar durante la clase?</th>\n      <th>El profesor, al cierre de su clase ¿realiza preguntas para verificar si hemos aprendido?</th>\n      <th>Cuando el profesor da tareas ¿las explica claramente y nos da ejemplos que orientan para realizarlas?</th>\n      <th>Durante la actividad ¿el profesor circula explicando y resolviendo dudas?</th>\n      <th>¿Se realizan salidas a terreno: museos, zoológicos y otros lugares que ayudan al aprendizaje?</th>\n      <th>Para hacer las clases, el profesor ¿nos lleva a otros espacios motivantes para que aprendamos mejor?</th>\n      <th>...</th>\n      <th>Cuando me queda alguna duda de la clase, ¿me dirijo confiadamente al profesor a preguntar?</th>\n      <th>Cuando el profesor es cercano conmigo y mis compañeros, ¿nos da confianza y seguridad para preguntar todas las dudas?</th>\n      <th>Cuando tengo más cercanía y confianza con el profesor ¿aprendo mejor?</th>\n      <th>¿Los profesores de ciencias ofrecen diversas actividades grupales de un mismo tema, para que los estudiantes, elijan en la que quieren trabajar?</th>\n      <th>¿Los profesores de ciencias integran a todos los estudiantes para que participen en las actividades grupales dentro de la sala de clases?</th>\n      <th>¿Los profesores de ciencias integran a todos los estudiantes en grupos, para que participen en las actividades de investigación, fuera del colegio?</th>\n      <th>¿Los profesores, muestran interés por reforzar a los alumnos que más les cuesta?</th>\n      <th>Cuando el profesor nos hace realizar actividades variadas, en ciencias ¿comprendo mejor la materia?</th>\n      <th>¿Los profesores de ciencias integran a todos los estudiantes para que participen en las actividades prácticas de laboratorio?</th>\n      <th>En las clases de ciencias, ¿algunos alumnos son evaluados con carpetas de actividades realizadas en el colegio y fuera de él?</th>\n    </tr>\n  </thead>\n  <tbody>\n    <tr>\n      <th>0</th>\n      <td>6.8</td>\n      <td>Ocasionalmente</td>\n      <td>Casi siempre</td>\n      <td>Siempre, en todas las clases</td>\n      <td>Siempre, en todas las clases</td>\n      <td>Siempre, en todas las clases</td>\n      <td>Casi siempre</td>\n      <td>Siempre, en todas las clases</td>\n      <td>Nunca</td>\n      <td>Rara vez</td>\n      <td>...</td>\n      <td>Casi siempre</td>\n      <td>Siempre, en todas las clases</td>\n      <td>Siempre, en todas las clases</td>\n      <td>Casi siempre</td>\n      <td>Casi siempre</td>\n      <td>Rara vez</td>\n      <td>Casi siempre</td>\n      <td>Siempre, en todas las clases</td>\n      <td>Siempre, en todas las clases</td>\n      <td>Nunca</td>\n    </tr>\n    <tr>\n      <th>1</th>\n      <td>6.7</td>\n      <td>Siempre, en todas las clases</td>\n      <td>Siempre, en todas las clases</td>\n      <td>Siempre, en todas las clases</td>\n      <td>Siempre, en todas las clases</td>\n      <td>Casi siempre</td>\n      <td>Siempre, en todas las clases</td>\n      <td>Siempre, en todas las clases</td>\n      <td>Siempre, en todas las clases</td>\n      <td>Siempre, en todas las clases</td>\n      <td>...</td>\n      <td>Siempre, en todas las clases</td>\n      <td>Siempre, en todas las clases</td>\n      <td>Siempre, en todas las clases</td>\n      <td>Siempre, en todas las clases</td>\n      <td>Siempre, en todas las clases</td>\n      <td>Siempre, en todas las clases</td>\n      <td>Siempre, en todas las clases</td>\n      <td>Siempre, en todas las clases</td>\n      <td>Siempre, en todas las clases</td>\n      <td>Siempre, en todas las clases</td>\n    </tr>\n    <tr>\n      <th>2</th>\n      <td>6.1</td>\n      <td>Siempre, en todas las clases</td>\n      <td>Siempre, en todas las clases</td>\n      <td>Siempre, en todas las clases</td>\n      <td>Siempre, en todas las clases</td>\n      <td>Ocasionalmente</td>\n      <td>Siempre, en todas las clases</td>\n      <td>Siempre, en todas las clases</td>\n      <td>Nunca</td>\n      <td>Ocasionalmente</td>\n      <td>...</td>\n      <td>Siempre, en todas las clases</td>\n      <td>Siempre, en todas las clases</td>\n      <td>Siempre, en todas las clases</td>\n      <td>Siempre, en todas las clases</td>\n      <td>Siempre, en todas las clases</td>\n      <td>Nunca</td>\n      <td>Siempre, en todas las clases</td>\n      <td>Siempre, en todas las clases</td>\n      <td>Siempre, en todas las clases</td>\n      <td>Ocasionalmente</td>\n    </tr>\n    <tr>\n      <th>3</th>\n      <td>4.6</td>\n      <td>Casi siempre</td>\n      <td>Casi siempre</td>\n      <td>Rara vez</td>\n      <td>Casi siempre</td>\n      <td>Casi siempre</td>\n      <td>Casi siempre</td>\n      <td>Ocasionalmente</td>\n      <td>Nunca</td>\n      <td>Ocasionalmente</td>\n      <td>...</td>\n      <td>Nunca</td>\n      <td>Casi siempre</td>\n      <td>Siempre, en todas las clases</td>\n      <td>Ocasionalmente</td>\n      <td>Casi siempre</td>\n      <td>Siempre, en todas las clases</td>\n      <td>Rara vez</td>\n      <td>Ocasionalmente</td>\n      <td>Rara vez</td>\n      <td>Nunca</td>\n    </tr>\n    <tr>\n      <th>4</th>\n      <td>6.5</td>\n      <td>Siempre, en todas las clases</td>\n      <td>Siempre, en todas las clases</td>\n      <td>Siempre, en todas las clases</td>\n      <td>Siempre, en todas las clases</td>\n      <td>Siempre, en todas las clases</td>\n      <td>Siempre, en todas las clases</td>\n      <td>Casi siempre</td>\n      <td>Nunca</td>\n      <td>Ocasionalmente</td>\n      <td>...</td>\n      <td>Siempre, en todas las clases</td>\n      <td>Siempre, en todas las clases</td>\n      <td>Siempre, en todas las clases</td>\n      <td>Siempre, en todas las clases</td>\n      <td>Siempre, en todas las clases</td>\n      <td>Ocasionalmente</td>\n      <td>Siempre, en todas las clases</td>\n      <td>Siempre, en todas las clases</td>\n      <td>Siempre, en todas las clases</td>\n      <td>Nunca</td>\n    </tr>\n  </tbody>\n</table>\n<p>5 rows × 32 columns</p>\n</div>"
     },
     "execution_count": 8,
     "metadata": {},
     "output_type": "execute_result"
    }
   ],
   "source": [
    "log.debug(f\"Importando datos de {QNA_COMPLETE_PATH}\")\n",
    "df = pd.read_excel(QNA_COMPLETE_PATH)\n",
    "\n",
    "log.debug(f\"Cantidad de respuestas: {len(df) = }\")\n",
    "\n",
    "columnas = list(df.columns)\n",
    "preguntas = columnas[1:]\n",
    "notas = columnas[0]\n",
    "\n",
    "df.head()"
   ],
   "metadata": {
    "collapsed": false,
    "pycharm": {
     "name": "#%%\n"
    }
   }
  },
  {
   "cell_type": "code",
   "execution_count": 9,
   "outputs": [],
   "source": [
    "questions_ = preguntas.copy()\n",
    "# Separar por subdimensiones\n",
    "\n",
    "# Subdim 1.1\n",
    "subdim_1_1 = [questions_.pop(0), questions_.pop(0), questions_.pop(0), questions_.pop(0), questions_.pop(0)]\n",
    "\n",
    "# Subdim 1.2\n",
    "subdim_1_2 = [questions_.pop(0), questions_.pop(0), questions_.pop(0), questions_.pop(0), questions_.pop(0)]\n",
    "\n",
    "# Subdim 1.3\n",
    "subdim_1_3 = [questions_.pop(0), questions_.pop(0), questions_.pop(0), questions_.pop(0), questions_.pop(0),\n",
    "              questions_.pop(0)]\n",
    "\n",
    "# Subdim 2.1\n",
    "subdim_2_1 = [questions_.pop(0), questions_.pop(0)]\n",
    "\n",
    "# Subdim 2.2\n",
    "subdim_2_2 = [questions_.pop(0), questions_.pop(0)]\n",
    "\n",
    "# Subdim 2.3\n",
    "subdim_2_3 = [questions_.pop(0), questions_.pop(0), questions_.pop(0), questions_.pop(0)]\n",
    "\n",
    "# Subdim 2.4\n",
    "subdim_2_4 = [questions_.pop(0), questions_.pop(0), questions_.pop(0), questions_.pop(0), questions_.pop(0),\n",
    "              questions_.pop(0), questions_.pop(0)]\n",
    "\n",
    "del questions_"
   ],
   "metadata": {
    "collapsed": false,
    "pycharm": {
     "name": "#%%\n"
    }
   }
  },
  {
   "cell_type": "code",
   "execution_count": 10,
   "outputs": [
    {
     "data": {
      "text/plain": "['¿Los profesores de ciencias consideran los intereses de los alumnos para elaborar y organizar las evaluaciones?',\n 'De las actividades realizadas en clase ¿el profesor considera y respeta nuestros intereses?',\n '¿El profesor retroalimenta y refuerza en todas las clases lo que hemos ido aprendiendo?',\n 'El profesor de la clase de ciencias ¿anota y explica el objetivo que se va a trabajar durante la clase?',\n 'El profesor, al cierre de su clase ¿realiza preguntas para verificar si hemos aprendido?',\n 'Cuando el profesor da tareas ¿las explica claramente y nos da ejemplos que orientan para realizarlas?',\n 'Durante la actividad ¿el profesor circula explicando y resolviendo dudas?',\n '¿Se realizan salidas a terreno: museos, zoológicos y otros lugares que ayudan al aprendizaje?',\n 'Para hacer las clases, el profesor ¿nos lleva a otros espacios motivantes para que aprendamos mejor?',\n 'El profesor de ciencias ¿presenta en sus clases material atractivo para aprender?',\n '¿Los profesores comprueban clase a clase los avances de lo aprendido?',\n '¿El profesor, nos ayuda para que todos podamos corregir los errores antes de evaluar?',\n 'En las clases de ciencias, ¿todos los alumnos hacen las mismas pruebas?',\n '¿En las clases de ciencias, algunos alumnos son evaluados con informes escritos u otra forma?',\n '¿En las clases de ciencias, algunos alumnos no realizan pruebas escritas?',\n 'En las pruebas de Ciencias, ¿hay variedad de formas de preguntar la materia, ejemplo; alternativas, sopa de letras, completación de frase, ¿términos pareados y otros?',\n 'En las actividades de ciencias ¿usamos tecnologías como data, computadores, tablet, videos, etc?',\n 'Cuando el profesor explica utilizando aparatos tecnológicos ¿comprendo mejor la materia?',\n '¿El profesor realiza distintas actividades durante la clase para que podamos aprender?',\n 'Cuando tenemos salidas pedagógicas a museos, parques, zoológicos, o algún otro lugar ¿comprendo mejor la materia?',\n 'Durante la actividad, ¿el profesor promueve a que todos participen activamente dando opinión o haciendo preguntas respecto de la materia?',\n 'Cuando me queda alguna duda de la clase, ¿me dirijo confiadamente al profesor a preguntar?',\n 'Cuando el profesor es cercano conmigo y mis compañeros, ¿nos da confianza y seguridad para preguntar todas las dudas?',\n 'Cuando tengo más cercanía y confianza con el profesor ¿aprendo mejor?',\n '¿Los profesores de ciencias ofrecen diversas actividades grupales de un mismo tema, para que los estudiantes, elijan en la que quieren trabajar?',\n '¿Los profesores de ciencias integran a todos los estudiantes para que participen en las actividades grupales dentro de la sala de clases?',\n '¿Los profesores de ciencias integran a todos los estudiantes en grupos, para que participen en las actividades de investigación, fuera del colegio?',\n '¿Los profesores, muestran interés por reforzar a los alumnos que más les cuesta?',\n 'Cuando el profesor nos hace realizar actividades variadas, en ciencias ¿comprendo mejor la materia?',\n '¿Los profesores de ciencias integran a todos los estudiantes para que participen en las actividades prácticas de laboratorio?',\n 'En las clases de ciencias, ¿algunos alumnos son evaluados con carpetas de actividades realizadas en el colegio y fuera de él?']"
     },
     "execution_count": 10,
     "metadata": {},
     "output_type": "execute_result"
    }
   ],
   "source": [
    "questions = list(df.columns)[1:]\n",
    "questions"
   ],
   "metadata": {
    "collapsed": false,
    "pycharm": {
     "name": "#%%\n"
    }
   }
  },
  {
   "cell_type": "code",
   "execution_count": 11,
   "outputs": [
    {
     "data": {
      "text/plain": "   Notas                            P1                            P2  \\\n0    6.8                Ocasionalmente                  Casi siempre   \n1    6.7  Siempre, en todas las clases  Siempre, en todas las clases   \n2    6.1  Siempre, en todas las clases  Siempre, en todas las clases   \n3    4.6                  Casi siempre                  Casi siempre   \n4    6.5  Siempre, en todas las clases  Siempre, en todas las clases   \n\n                             P3                            P4  \\\n0  Siempre, en todas las clases  Siempre, en todas las clases   \n1  Siempre, en todas las clases  Siempre, en todas las clases   \n2  Siempre, en todas las clases  Siempre, en todas las clases   \n3                      Rara vez                  Casi siempre   \n4  Siempre, en todas las clases  Siempre, en todas las clases   \n\n                             P5                            P6  \\\n0  Siempre, en todas las clases                  Casi siempre   \n1                  Casi siempre  Siempre, en todas las clases   \n2                Ocasionalmente  Siempre, en todas las clases   \n3                  Casi siempre                  Casi siempre   \n4  Siempre, en todas las clases  Siempre, en todas las clases   \n\n                             P7                            P8  \\\n0  Siempre, en todas las clases                         Nunca   \n1  Siempre, en todas las clases  Siempre, en todas las clases   \n2  Siempre, en todas las clases                         Nunca   \n3                Ocasionalmente                         Nunca   \n4                  Casi siempre                         Nunca   \n\n                             P9  ...                           P22  \\\n0                      Rara vez  ...                  Casi siempre   \n1  Siempre, en todas las clases  ...  Siempre, en todas las clases   \n2                Ocasionalmente  ...  Siempre, en todas las clases   \n3                Ocasionalmente  ...                         Nunca   \n4                Ocasionalmente  ...  Siempre, en todas las clases   \n\n                            P23                           P24  \\\n0  Siempre, en todas las clases  Siempre, en todas las clases   \n1  Siempre, en todas las clases  Siempre, en todas las clases   \n2  Siempre, en todas las clases  Siempre, en todas las clases   \n3                  Casi siempre  Siempre, en todas las clases   \n4  Siempre, en todas las clases  Siempre, en todas las clases   \n\n                            P25                           P26  \\\n0                  Casi siempre                  Casi siempre   \n1  Siempre, en todas las clases  Siempre, en todas las clases   \n2  Siempre, en todas las clases  Siempre, en todas las clases   \n3                Ocasionalmente                  Casi siempre   \n4  Siempre, en todas las clases  Siempre, en todas las clases   \n\n                            P27                           P28  \\\n0                      Rara vez                  Casi siempre   \n1  Siempre, en todas las clases  Siempre, en todas las clases   \n2                         Nunca  Siempre, en todas las clases   \n3  Siempre, en todas las clases                      Rara vez   \n4                Ocasionalmente  Siempre, en todas las clases   \n\n                            P29                           P30  \\\n0  Siempre, en todas las clases  Siempre, en todas las clases   \n1  Siempre, en todas las clases  Siempre, en todas las clases   \n2  Siempre, en todas las clases  Siempre, en todas las clases   \n3                Ocasionalmente                      Rara vez   \n4  Siempre, en todas las clases  Siempre, en todas las clases   \n\n                            P31  \n0                         Nunca  \n1  Siempre, en todas las clases  \n2                Ocasionalmente  \n3                         Nunca  \n4                         Nunca  \n\n[5 rows x 32 columns]",
      "text/html": "<div>\n<style scoped>\n    .dataframe tbody tr th:only-of-type {\n        vertical-align: middle;\n    }\n\n    .dataframe tbody tr th {\n        vertical-align: top;\n    }\n\n    .dataframe thead th {\n        text-align: right;\n    }\n</style>\n<table border=\"1\" class=\"dataframe\">\n  <thead>\n    <tr style=\"text-align: right;\">\n      <th></th>\n      <th>Notas</th>\n      <th>P1</th>\n      <th>P2</th>\n      <th>P3</th>\n      <th>P4</th>\n      <th>P5</th>\n      <th>P6</th>\n      <th>P7</th>\n      <th>P8</th>\n      <th>P9</th>\n      <th>...</th>\n      <th>P22</th>\n      <th>P23</th>\n      <th>P24</th>\n      <th>P25</th>\n      <th>P26</th>\n      <th>P27</th>\n      <th>P28</th>\n      <th>P29</th>\n      <th>P30</th>\n      <th>P31</th>\n    </tr>\n  </thead>\n  <tbody>\n    <tr>\n      <th>0</th>\n      <td>6.8</td>\n      <td>Ocasionalmente</td>\n      <td>Casi siempre</td>\n      <td>Siempre, en todas las clases</td>\n      <td>Siempre, en todas las clases</td>\n      <td>Siempre, en todas las clases</td>\n      <td>Casi siempre</td>\n      <td>Siempre, en todas las clases</td>\n      <td>Nunca</td>\n      <td>Rara vez</td>\n      <td>...</td>\n      <td>Casi siempre</td>\n      <td>Siempre, en todas las clases</td>\n      <td>Siempre, en todas las clases</td>\n      <td>Casi siempre</td>\n      <td>Casi siempre</td>\n      <td>Rara vez</td>\n      <td>Casi siempre</td>\n      <td>Siempre, en todas las clases</td>\n      <td>Siempre, en todas las clases</td>\n      <td>Nunca</td>\n    </tr>\n    <tr>\n      <th>1</th>\n      <td>6.7</td>\n      <td>Siempre, en todas las clases</td>\n      <td>Siempre, en todas las clases</td>\n      <td>Siempre, en todas las clases</td>\n      <td>Siempre, en todas las clases</td>\n      <td>Casi siempre</td>\n      <td>Siempre, en todas las clases</td>\n      <td>Siempre, en todas las clases</td>\n      <td>Siempre, en todas las clases</td>\n      <td>Siempre, en todas las clases</td>\n      <td>...</td>\n      <td>Siempre, en todas las clases</td>\n      <td>Siempre, en todas las clases</td>\n      <td>Siempre, en todas las clases</td>\n      <td>Siempre, en todas las clases</td>\n      <td>Siempre, en todas las clases</td>\n      <td>Siempre, en todas las clases</td>\n      <td>Siempre, en todas las clases</td>\n      <td>Siempre, en todas las clases</td>\n      <td>Siempre, en todas las clases</td>\n      <td>Siempre, en todas las clases</td>\n    </tr>\n    <tr>\n      <th>2</th>\n      <td>6.1</td>\n      <td>Siempre, en todas las clases</td>\n      <td>Siempre, en todas las clases</td>\n      <td>Siempre, en todas las clases</td>\n      <td>Siempre, en todas las clases</td>\n      <td>Ocasionalmente</td>\n      <td>Siempre, en todas las clases</td>\n      <td>Siempre, en todas las clases</td>\n      <td>Nunca</td>\n      <td>Ocasionalmente</td>\n      <td>...</td>\n      <td>Siempre, en todas las clases</td>\n      <td>Siempre, en todas las clases</td>\n      <td>Siempre, en todas las clases</td>\n      <td>Siempre, en todas las clases</td>\n      <td>Siempre, en todas las clases</td>\n      <td>Nunca</td>\n      <td>Siempre, en todas las clases</td>\n      <td>Siempre, en todas las clases</td>\n      <td>Siempre, en todas las clases</td>\n      <td>Ocasionalmente</td>\n    </tr>\n    <tr>\n      <th>3</th>\n      <td>4.6</td>\n      <td>Casi siempre</td>\n      <td>Casi siempre</td>\n      <td>Rara vez</td>\n      <td>Casi siempre</td>\n      <td>Casi siempre</td>\n      <td>Casi siempre</td>\n      <td>Ocasionalmente</td>\n      <td>Nunca</td>\n      <td>Ocasionalmente</td>\n      <td>...</td>\n      <td>Nunca</td>\n      <td>Casi siempre</td>\n      <td>Siempre, en todas las clases</td>\n      <td>Ocasionalmente</td>\n      <td>Casi siempre</td>\n      <td>Siempre, en todas las clases</td>\n      <td>Rara vez</td>\n      <td>Ocasionalmente</td>\n      <td>Rara vez</td>\n      <td>Nunca</td>\n    </tr>\n    <tr>\n      <th>4</th>\n      <td>6.5</td>\n      <td>Siempre, en todas las clases</td>\n      <td>Siempre, en todas las clases</td>\n      <td>Siempre, en todas las clases</td>\n      <td>Siempre, en todas las clases</td>\n      <td>Siempre, en todas las clases</td>\n      <td>Siempre, en todas las clases</td>\n      <td>Casi siempre</td>\n      <td>Nunca</td>\n      <td>Ocasionalmente</td>\n      <td>...</td>\n      <td>Siempre, en todas las clases</td>\n      <td>Siempre, en todas las clases</td>\n      <td>Siempre, en todas las clases</td>\n      <td>Siempre, en todas las clases</td>\n      <td>Siempre, en todas las clases</td>\n      <td>Ocasionalmente</td>\n      <td>Siempre, en todas las clases</td>\n      <td>Siempre, en todas las clases</td>\n      <td>Siempre, en todas las clases</td>\n      <td>Nunca</td>\n    </tr>\n  </tbody>\n</table>\n<p>5 rows × 32 columns</p>\n</div>"
     },
     "execution_count": 11,
     "metadata": {},
     "output_type": "execute_result"
    }
   ],
   "source": [
    "import copy\n",
    "\n",
    "\n",
    "log.debug(\"Renombrando columnas\")\n",
    "questions_copy = copy.copy(questions)\n",
    "for i in range(len(questions)):\n",
    "    # questions_copy[i] = f\"P{i+1}.: \" + questions[i]\n",
    "    questions_copy[i] = f\"P{i+1}\"\n",
    "\n",
    "questions = questions_copy.copy()\n",
    "\n",
    "df.columns = [\"Notas\"] +  questions_copy\n",
    "\n",
    "\n",
    "df.head()"
   ],
   "metadata": {
    "collapsed": false,
    "pycharm": {
     "name": "#%%\n"
    }
   }
  },
  {
   "cell_type": "code",
   "execution_count": 12,
   "outputs": [],
   "source": [
    "scales = [\n",
    "    \"Nunca\",\n",
    "    \"Rara vez\",\n",
    "    \"Ocasionalmente\",\n",
    "    \"Casi siempre\",\n",
    "    \"Siempre, en todas las clases\"\n",
    "]"
   ],
   "metadata": {
    "collapsed": false,
    "pycharm": {
     "name": "#%%\n"
    }
   }
  },
  {
   "cell_type": "code",
   "execution_count": 13,
   "outputs": [
    {
     "data": {
      "text/plain": "    Notas                            P1                            P2  \\\n0     6.8                Ocasionalmente                  Casi siempre   \n1     6.7  Siempre, en todas las clases  Siempre, en todas las clases   \n2     6.1  Siempre, en todas las clases  Siempre, en todas las clases   \n3     4.6                  Casi siempre                  Casi siempre   \n4     6.5  Siempre, en todas las clases  Siempre, en todas las clases   \n..    ...                           ...                           ...   \n81    4.8                  Casi siempre  Siempre, en todas las clases   \n82    5.7                Ocasionalmente                      Rara vez   \n83    6.6  Siempre, en todas las clases                Ocasionalmente   \n84    6.4  Siempre, en todas las clases  Siempre, en todas las clases   \n85    4.4                  Casi siempre                  Casi siempre   \n\n                              P3                            P4  \\\n0   Siempre, en todas las clases  Siempre, en todas las clases   \n1   Siempre, en todas las clases  Siempre, en todas las clases   \n2   Siempre, en todas las clases  Siempre, en todas las clases   \n3                       Rara vez                  Casi siempre   \n4   Siempre, en todas las clases  Siempre, en todas las clases   \n..                           ...                           ...   \n81                  Casi siempre  Siempre, en todas las clases   \n82                  Casi siempre  Siempre, en todas las clases   \n83                  Casi siempre  Siempre, en todas las clases   \n84  Siempre, en todas las clases  Siempre, en todas las clases   \n85                Ocasionalmente                  Casi siempre   \n\n                              P5                            P6  \\\n0   Siempre, en todas las clases                  Casi siempre   \n1                   Casi siempre  Siempre, en todas las clases   \n2                 Ocasionalmente  Siempre, en todas las clases   \n3                   Casi siempre                  Casi siempre   \n4   Siempre, en todas las clases  Siempre, en todas las clases   \n..                           ...                           ...   \n81                  Casi siempre                  Casi siempre   \n82                Ocasionalmente  Siempre, en todas las clases   \n83  Siempre, en todas las clases                Ocasionalmente   \n84  Siempre, en todas las clases  Siempre, en todas las clases   \n85                Ocasionalmente                Ocasionalmente   \n\n                              P7                            P8  \\\n0   Siempre, en todas las clases                         Nunca   \n1   Siempre, en todas las clases  Siempre, en todas las clases   \n2   Siempre, en todas las clases                         Nunca   \n3                 Ocasionalmente                         Nunca   \n4                   Casi siempre                         Nunca   \n..                           ...                           ...   \n81                  Casi siempre                      Rara vez   \n82                      Rara vez                      Rara vez   \n83  Siempre, en todas las clases                         Nunca   \n84  Siempre, en todas las clases                      Rara vez   \n85                  Casi siempre                      Rara vez   \n\n                              P9  ...                           P22  \\\n0                       Rara vez  ...                  Casi siempre   \n1   Siempre, en todas las clases  ...  Siempre, en todas las clases   \n2                 Ocasionalmente  ...  Siempre, en todas las clases   \n3                 Ocasionalmente  ...                         Nunca   \n4                 Ocasionalmente  ...  Siempre, en todas las clases   \n..                           ...  ...                           ...   \n81                  Casi siempre  ...                  Casi siempre   \n82                      Rara vez  ...                         Nunca   \n83                      Rara vez  ...  Siempre, en todas las clases   \n84                      Rara vez  ...                  Casi siempre   \n85                      Rara vez  ...                      Rara vez   \n\n                             P23                           P24  \\\n0   Siempre, en todas las clases  Siempre, en todas las clases   \n1   Siempre, en todas las clases  Siempre, en todas las clases   \n2   Siempre, en todas las clases  Siempre, en todas las clases   \n3                   Casi siempre  Siempre, en todas las clases   \n4   Siempre, en todas las clases  Siempre, en todas las clases   \n..                           ...                           ...   \n81                  Casi siempre                  Casi siempre   \n82                      Rara vez                      Rara vez   \n83                  Casi siempre                      Rara vez   \n84                  Casi siempre  Siempre, en todas las clases   \n85                Ocasionalmente                Ocasionalmente   \n\n                             P25                           P26  \\\n0                   Casi siempre                  Casi siempre   \n1   Siempre, en todas las clases  Siempre, en todas las clases   \n2   Siempre, en todas las clases  Siempre, en todas las clases   \n3                 Ocasionalmente                  Casi siempre   \n4   Siempre, en todas las clases  Siempre, en todas las clases   \n..                           ...                           ...   \n81                  Casi siempre                  Casi siempre   \n82                Ocasionalmente                Ocasionalmente   \n83                Ocasionalmente  Siempre, en todas las clases   \n84                  Casi siempre  Siempre, en todas las clases   \n85                      Rara vez                  Casi siempre   \n\n                             P27                           P28  \\\n0                       Rara vez                  Casi siempre   \n1   Siempre, en todas las clases  Siempre, en todas las clases   \n2                          Nunca  Siempre, en todas las clases   \n3   Siempre, en todas las clases                      Rara vez   \n4                 Ocasionalmente  Siempre, en todas las clases   \n..                           ...                           ...   \n81                  Casi siempre  Siempre, en todas las clases   \n82                Ocasionalmente                Ocasionalmente   \n83                  Casi siempre  Siempre, en todas las clases   \n84  Siempre, en todas las clases  Siempre, en todas las clases   \n85                      Rara vez                      Rara vez   \n\n                             P29                           P30  \\\n0   Siempre, en todas las clases  Siempre, en todas las clases   \n1   Siempre, en todas las clases  Siempre, en todas las clases   \n2   Siempre, en todas las clases  Siempre, en todas las clases   \n3                 Ocasionalmente                      Rara vez   \n4   Siempre, en todas las clases  Siempre, en todas las clases   \n..                           ...                           ...   \n81                  Casi siempre                  Casi siempre   \n82                         Nunca                         Nunca   \n83                  Casi siempre  Siempre, en todas las clases   \n84  Siempre, en todas las clases  Siempre, en todas las clases   \n85                Ocasionalmente                Ocasionalmente   \n\n                             P31  \n0                          Nunca  \n1   Siempre, en todas las clases  \n2                 Ocasionalmente  \n3                          Nunca  \n4                          Nunca  \n..                           ...  \n81                  Casi siempre  \n82                         Nunca  \n83                         Nunca  \n84                Ocasionalmente  \n85                         Nunca  \n\n[86 rows x 32 columns]",
      "text/html": "<div>\n<style scoped>\n    .dataframe tbody tr th:only-of-type {\n        vertical-align: middle;\n    }\n\n    .dataframe tbody tr th {\n        vertical-align: top;\n    }\n\n    .dataframe thead th {\n        text-align: right;\n    }\n</style>\n<table border=\"1\" class=\"dataframe\">\n  <thead>\n    <tr style=\"text-align: right;\">\n      <th></th>\n      <th>Notas</th>\n      <th>P1</th>\n      <th>P2</th>\n      <th>P3</th>\n      <th>P4</th>\n      <th>P5</th>\n      <th>P6</th>\n      <th>P7</th>\n      <th>P8</th>\n      <th>P9</th>\n      <th>...</th>\n      <th>P22</th>\n      <th>P23</th>\n      <th>P24</th>\n      <th>P25</th>\n      <th>P26</th>\n      <th>P27</th>\n      <th>P28</th>\n      <th>P29</th>\n      <th>P30</th>\n      <th>P31</th>\n    </tr>\n  </thead>\n  <tbody>\n    <tr>\n      <th>0</th>\n      <td>6.8</td>\n      <td>Ocasionalmente</td>\n      <td>Casi siempre</td>\n      <td>Siempre, en todas las clases</td>\n      <td>Siempre, en todas las clases</td>\n      <td>Siempre, en todas las clases</td>\n      <td>Casi siempre</td>\n      <td>Siempre, en todas las clases</td>\n      <td>Nunca</td>\n      <td>Rara vez</td>\n      <td>...</td>\n      <td>Casi siempre</td>\n      <td>Siempre, en todas las clases</td>\n      <td>Siempre, en todas las clases</td>\n      <td>Casi siempre</td>\n      <td>Casi siempre</td>\n      <td>Rara vez</td>\n      <td>Casi siempre</td>\n      <td>Siempre, en todas las clases</td>\n      <td>Siempre, en todas las clases</td>\n      <td>Nunca</td>\n    </tr>\n    <tr>\n      <th>1</th>\n      <td>6.7</td>\n      <td>Siempre, en todas las clases</td>\n      <td>Siempre, en todas las clases</td>\n      <td>Siempre, en todas las clases</td>\n      <td>Siempre, en todas las clases</td>\n      <td>Casi siempre</td>\n      <td>Siempre, en todas las clases</td>\n      <td>Siempre, en todas las clases</td>\n      <td>Siempre, en todas las clases</td>\n      <td>Siempre, en todas las clases</td>\n      <td>...</td>\n      <td>Siempre, en todas las clases</td>\n      <td>Siempre, en todas las clases</td>\n      <td>Siempre, en todas las clases</td>\n      <td>Siempre, en todas las clases</td>\n      <td>Siempre, en todas las clases</td>\n      <td>Siempre, en todas las clases</td>\n      <td>Siempre, en todas las clases</td>\n      <td>Siempre, en todas las clases</td>\n      <td>Siempre, en todas las clases</td>\n      <td>Siempre, en todas las clases</td>\n    </tr>\n    <tr>\n      <th>2</th>\n      <td>6.1</td>\n      <td>Siempre, en todas las clases</td>\n      <td>Siempre, en todas las clases</td>\n      <td>Siempre, en todas las clases</td>\n      <td>Siempre, en todas las clases</td>\n      <td>Ocasionalmente</td>\n      <td>Siempre, en todas las clases</td>\n      <td>Siempre, en todas las clases</td>\n      <td>Nunca</td>\n      <td>Ocasionalmente</td>\n      <td>...</td>\n      <td>Siempre, en todas las clases</td>\n      <td>Siempre, en todas las clases</td>\n      <td>Siempre, en todas las clases</td>\n      <td>Siempre, en todas las clases</td>\n      <td>Siempre, en todas las clases</td>\n      <td>Nunca</td>\n      <td>Siempre, en todas las clases</td>\n      <td>Siempre, en todas las clases</td>\n      <td>Siempre, en todas las clases</td>\n      <td>Ocasionalmente</td>\n    </tr>\n    <tr>\n      <th>3</th>\n      <td>4.6</td>\n      <td>Casi siempre</td>\n      <td>Casi siempre</td>\n      <td>Rara vez</td>\n      <td>Casi siempre</td>\n      <td>Casi siempre</td>\n      <td>Casi siempre</td>\n      <td>Ocasionalmente</td>\n      <td>Nunca</td>\n      <td>Ocasionalmente</td>\n      <td>...</td>\n      <td>Nunca</td>\n      <td>Casi siempre</td>\n      <td>Siempre, en todas las clases</td>\n      <td>Ocasionalmente</td>\n      <td>Casi siempre</td>\n      <td>Siempre, en todas las clases</td>\n      <td>Rara vez</td>\n      <td>Ocasionalmente</td>\n      <td>Rara vez</td>\n      <td>Nunca</td>\n    </tr>\n    <tr>\n      <th>4</th>\n      <td>6.5</td>\n      <td>Siempre, en todas las clases</td>\n      <td>Siempre, en todas las clases</td>\n      <td>Siempre, en todas las clases</td>\n      <td>Siempre, en todas las clases</td>\n      <td>Siempre, en todas las clases</td>\n      <td>Siempre, en todas las clases</td>\n      <td>Casi siempre</td>\n      <td>Nunca</td>\n      <td>Ocasionalmente</td>\n      <td>...</td>\n      <td>Siempre, en todas las clases</td>\n      <td>Siempre, en todas las clases</td>\n      <td>Siempre, en todas las clases</td>\n      <td>Siempre, en todas las clases</td>\n      <td>Siempre, en todas las clases</td>\n      <td>Ocasionalmente</td>\n      <td>Siempre, en todas las clases</td>\n      <td>Siempre, en todas las clases</td>\n      <td>Siempre, en todas las clases</td>\n      <td>Nunca</td>\n    </tr>\n    <tr>\n      <th>...</th>\n      <td>...</td>\n      <td>...</td>\n      <td>...</td>\n      <td>...</td>\n      <td>...</td>\n      <td>...</td>\n      <td>...</td>\n      <td>...</td>\n      <td>...</td>\n      <td>...</td>\n      <td>...</td>\n      <td>...</td>\n      <td>...</td>\n      <td>...</td>\n      <td>...</td>\n      <td>...</td>\n      <td>...</td>\n      <td>...</td>\n      <td>...</td>\n      <td>...</td>\n      <td>...</td>\n    </tr>\n    <tr>\n      <th>81</th>\n      <td>4.8</td>\n      <td>Casi siempre</td>\n      <td>Siempre, en todas las clases</td>\n      <td>Casi siempre</td>\n      <td>Siempre, en todas las clases</td>\n      <td>Casi siempre</td>\n      <td>Casi siempre</td>\n      <td>Casi siempre</td>\n      <td>Rara vez</td>\n      <td>Casi siempre</td>\n      <td>...</td>\n      <td>Casi siempre</td>\n      <td>Casi siempre</td>\n      <td>Casi siempre</td>\n      <td>Casi siempre</td>\n      <td>Casi siempre</td>\n      <td>Casi siempre</td>\n      <td>Siempre, en todas las clases</td>\n      <td>Casi siempre</td>\n      <td>Casi siempre</td>\n      <td>Casi siempre</td>\n    </tr>\n    <tr>\n      <th>82</th>\n      <td>5.7</td>\n      <td>Ocasionalmente</td>\n      <td>Rara vez</td>\n      <td>Casi siempre</td>\n      <td>Siempre, en todas las clases</td>\n      <td>Ocasionalmente</td>\n      <td>Siempre, en todas las clases</td>\n      <td>Rara vez</td>\n      <td>Rara vez</td>\n      <td>Rara vez</td>\n      <td>...</td>\n      <td>Nunca</td>\n      <td>Rara vez</td>\n      <td>Rara vez</td>\n      <td>Ocasionalmente</td>\n      <td>Ocasionalmente</td>\n      <td>Ocasionalmente</td>\n      <td>Ocasionalmente</td>\n      <td>Nunca</td>\n      <td>Nunca</td>\n      <td>Nunca</td>\n    </tr>\n    <tr>\n      <th>83</th>\n      <td>6.6</td>\n      <td>Siempre, en todas las clases</td>\n      <td>Ocasionalmente</td>\n      <td>Casi siempre</td>\n      <td>Siempre, en todas las clases</td>\n      <td>Siempre, en todas las clases</td>\n      <td>Ocasionalmente</td>\n      <td>Siempre, en todas las clases</td>\n      <td>Nunca</td>\n      <td>Rara vez</td>\n      <td>...</td>\n      <td>Siempre, en todas las clases</td>\n      <td>Casi siempre</td>\n      <td>Rara vez</td>\n      <td>Ocasionalmente</td>\n      <td>Siempre, en todas las clases</td>\n      <td>Casi siempre</td>\n      <td>Siempre, en todas las clases</td>\n      <td>Casi siempre</td>\n      <td>Siempre, en todas las clases</td>\n      <td>Nunca</td>\n    </tr>\n    <tr>\n      <th>84</th>\n      <td>6.4</td>\n      <td>Siempre, en todas las clases</td>\n      <td>Siempre, en todas las clases</td>\n      <td>Siempre, en todas las clases</td>\n      <td>Siempre, en todas las clases</td>\n      <td>Siempre, en todas las clases</td>\n      <td>Siempre, en todas las clases</td>\n      <td>Siempre, en todas las clases</td>\n      <td>Rara vez</td>\n      <td>Rara vez</td>\n      <td>...</td>\n      <td>Casi siempre</td>\n      <td>Casi siempre</td>\n      <td>Siempre, en todas las clases</td>\n      <td>Casi siempre</td>\n      <td>Siempre, en todas las clases</td>\n      <td>Siempre, en todas las clases</td>\n      <td>Siempre, en todas las clases</td>\n      <td>Siempre, en todas las clases</td>\n      <td>Siempre, en todas las clases</td>\n      <td>Ocasionalmente</td>\n    </tr>\n    <tr>\n      <th>85</th>\n      <td>4.4</td>\n      <td>Casi siempre</td>\n      <td>Casi siempre</td>\n      <td>Ocasionalmente</td>\n      <td>Casi siempre</td>\n      <td>Ocasionalmente</td>\n      <td>Ocasionalmente</td>\n      <td>Casi siempre</td>\n      <td>Rara vez</td>\n      <td>Rara vez</td>\n      <td>...</td>\n      <td>Rara vez</td>\n      <td>Ocasionalmente</td>\n      <td>Ocasionalmente</td>\n      <td>Rara vez</td>\n      <td>Casi siempre</td>\n      <td>Rara vez</td>\n      <td>Rara vez</td>\n      <td>Ocasionalmente</td>\n      <td>Ocasionalmente</td>\n      <td>Nunca</td>\n    </tr>\n  </tbody>\n</table>\n<p>86 rows × 32 columns</p>\n</div>"
     },
     "execution_count": 13,
     "metadata": {},
     "output_type": "execute_result"
    }
   ],
   "source": [
    "df"
   ],
   "metadata": {
    "collapsed": false,
    "pycharm": {
     "name": "#%%\n"
    }
   }
  },
  {
   "cell_type": "markdown",
   "source": [
    "Codificamos las preguntas para calcular el VIF"
   ],
   "metadata": {
    "collapsed": false,
    "pycharm": {
     "name": "#%% md\n"
    }
   }
  },
  {
   "cell_type": "code",
   "execution_count": 14,
   "outputs": [
    {
     "data": {
      "text/plain": "    P1  P2  P3  P4  P5  P6  P7  P8  P9  P10  ...  P23  P24  P25  P26  P27  \\\n0    0   1   2   2   2   1   2  -2  -1    1  ...    2    2    1    1   -1   \n1    2   2   2   2   1   2   2   2   2    2  ...    2    2    2    2    2   \n2    2   2   2   2   0   2   2  -2   0    2  ...    2    2    2    2   -2   \n3    1   1  -1   1   1   1   0  -2   0    0  ...    1    2    0    1    2   \n4    2   2   2   2   2   2   1  -2   0    2  ...    2    2    2    2    0   \n..  ..  ..  ..  ..  ..  ..  ..  ..  ..  ...  ...  ...  ...  ...  ...  ...   \n81   1   2   1   2   1   1   1  -1   1    2  ...    1    1    1    1    1   \n82   0  -1   1   2   0   2  -1  -1  -1   -2  ...   -1   -1    0    0    0   \n83   2   0   1   2   2   0   2  -2  -1    2  ...    1   -1    0    2    1   \n84   2   2   2   2   2   2   2  -1  -1    2  ...    1    2    1    2    2   \n85   1   1   0   1   0   0   1  -1  -1   -1  ...    0    0   -1    1   -1   \n\n    P28  P29  P30  P31     Notas  \n0     1    2    2   -2  0.966667  \n1     2    2    2    2  0.950000  \n2     2    2    2    0  0.850000  \n3    -1    0   -1   -2  0.600000  \n4     2    2    2   -2  0.916667  \n..  ...  ...  ...  ...       ...  \n81    2    1    1    1  0.633333  \n82    0   -2   -2   -2  0.783333  \n83    2    1    2   -2  0.933333  \n84    2    2    2    0  0.900000  \n85   -1    0    0   -2  0.566667  \n\n[86 rows x 32 columns]",
      "text/html": "<div>\n<style scoped>\n    .dataframe tbody tr th:only-of-type {\n        vertical-align: middle;\n    }\n\n    .dataframe tbody tr th {\n        vertical-align: top;\n    }\n\n    .dataframe thead th {\n        text-align: right;\n    }\n</style>\n<table border=\"1\" class=\"dataframe\">\n  <thead>\n    <tr style=\"text-align: right;\">\n      <th></th>\n      <th>P1</th>\n      <th>P2</th>\n      <th>P3</th>\n      <th>P4</th>\n      <th>P5</th>\n      <th>P6</th>\n      <th>P7</th>\n      <th>P8</th>\n      <th>P9</th>\n      <th>P10</th>\n      <th>...</th>\n      <th>P23</th>\n      <th>P24</th>\n      <th>P25</th>\n      <th>P26</th>\n      <th>P27</th>\n      <th>P28</th>\n      <th>P29</th>\n      <th>P30</th>\n      <th>P31</th>\n      <th>Notas</th>\n    </tr>\n  </thead>\n  <tbody>\n    <tr>\n      <th>0</th>\n      <td>0</td>\n      <td>1</td>\n      <td>2</td>\n      <td>2</td>\n      <td>2</td>\n      <td>1</td>\n      <td>2</td>\n      <td>-2</td>\n      <td>-1</td>\n      <td>1</td>\n      <td>...</td>\n      <td>2</td>\n      <td>2</td>\n      <td>1</td>\n      <td>1</td>\n      <td>-1</td>\n      <td>1</td>\n      <td>2</td>\n      <td>2</td>\n      <td>-2</td>\n      <td>0.966667</td>\n    </tr>\n    <tr>\n      <th>1</th>\n      <td>2</td>\n      <td>2</td>\n      <td>2</td>\n      <td>2</td>\n      <td>1</td>\n      <td>2</td>\n      <td>2</td>\n      <td>2</td>\n      <td>2</td>\n      <td>2</td>\n      <td>...</td>\n      <td>2</td>\n      <td>2</td>\n      <td>2</td>\n      <td>2</td>\n      <td>2</td>\n      <td>2</td>\n      <td>2</td>\n      <td>2</td>\n      <td>2</td>\n      <td>0.950000</td>\n    </tr>\n    <tr>\n      <th>2</th>\n      <td>2</td>\n      <td>2</td>\n      <td>2</td>\n      <td>2</td>\n      <td>0</td>\n      <td>2</td>\n      <td>2</td>\n      <td>-2</td>\n      <td>0</td>\n      <td>2</td>\n      <td>...</td>\n      <td>2</td>\n      <td>2</td>\n      <td>2</td>\n      <td>2</td>\n      <td>-2</td>\n      <td>2</td>\n      <td>2</td>\n      <td>2</td>\n      <td>0</td>\n      <td>0.850000</td>\n    </tr>\n    <tr>\n      <th>3</th>\n      <td>1</td>\n      <td>1</td>\n      <td>-1</td>\n      <td>1</td>\n      <td>1</td>\n      <td>1</td>\n      <td>0</td>\n      <td>-2</td>\n      <td>0</td>\n      <td>0</td>\n      <td>...</td>\n      <td>1</td>\n      <td>2</td>\n      <td>0</td>\n      <td>1</td>\n      <td>2</td>\n      <td>-1</td>\n      <td>0</td>\n      <td>-1</td>\n      <td>-2</td>\n      <td>0.600000</td>\n    </tr>\n    <tr>\n      <th>4</th>\n      <td>2</td>\n      <td>2</td>\n      <td>2</td>\n      <td>2</td>\n      <td>2</td>\n      <td>2</td>\n      <td>1</td>\n      <td>-2</td>\n      <td>0</td>\n      <td>2</td>\n      <td>...</td>\n      <td>2</td>\n      <td>2</td>\n      <td>2</td>\n      <td>2</td>\n      <td>0</td>\n      <td>2</td>\n      <td>2</td>\n      <td>2</td>\n      <td>-2</td>\n      <td>0.916667</td>\n    </tr>\n    <tr>\n      <th>...</th>\n      <td>...</td>\n      <td>...</td>\n      <td>...</td>\n      <td>...</td>\n      <td>...</td>\n      <td>...</td>\n      <td>...</td>\n      <td>...</td>\n      <td>...</td>\n      <td>...</td>\n      <td>...</td>\n      <td>...</td>\n      <td>...</td>\n      <td>...</td>\n      <td>...</td>\n      <td>...</td>\n      <td>...</td>\n      <td>...</td>\n      <td>...</td>\n      <td>...</td>\n      <td>...</td>\n    </tr>\n    <tr>\n      <th>81</th>\n      <td>1</td>\n      <td>2</td>\n      <td>1</td>\n      <td>2</td>\n      <td>1</td>\n      <td>1</td>\n      <td>1</td>\n      <td>-1</td>\n      <td>1</td>\n      <td>2</td>\n      <td>...</td>\n      <td>1</td>\n      <td>1</td>\n      <td>1</td>\n      <td>1</td>\n      <td>1</td>\n      <td>2</td>\n      <td>1</td>\n      <td>1</td>\n      <td>1</td>\n      <td>0.633333</td>\n    </tr>\n    <tr>\n      <th>82</th>\n      <td>0</td>\n      <td>-1</td>\n      <td>1</td>\n      <td>2</td>\n      <td>0</td>\n      <td>2</td>\n      <td>-1</td>\n      <td>-1</td>\n      <td>-1</td>\n      <td>-2</td>\n      <td>...</td>\n      <td>-1</td>\n      <td>-1</td>\n      <td>0</td>\n      <td>0</td>\n      <td>0</td>\n      <td>0</td>\n      <td>-2</td>\n      <td>-2</td>\n      <td>-2</td>\n      <td>0.783333</td>\n    </tr>\n    <tr>\n      <th>83</th>\n      <td>2</td>\n      <td>0</td>\n      <td>1</td>\n      <td>2</td>\n      <td>2</td>\n      <td>0</td>\n      <td>2</td>\n      <td>-2</td>\n      <td>-1</td>\n      <td>2</td>\n      <td>...</td>\n      <td>1</td>\n      <td>-1</td>\n      <td>0</td>\n      <td>2</td>\n      <td>1</td>\n      <td>2</td>\n      <td>1</td>\n      <td>2</td>\n      <td>-2</td>\n      <td>0.933333</td>\n    </tr>\n    <tr>\n      <th>84</th>\n      <td>2</td>\n      <td>2</td>\n      <td>2</td>\n      <td>2</td>\n      <td>2</td>\n      <td>2</td>\n      <td>2</td>\n      <td>-1</td>\n      <td>-1</td>\n      <td>2</td>\n      <td>...</td>\n      <td>1</td>\n      <td>2</td>\n      <td>1</td>\n      <td>2</td>\n      <td>2</td>\n      <td>2</td>\n      <td>2</td>\n      <td>2</td>\n      <td>0</td>\n      <td>0.900000</td>\n    </tr>\n    <tr>\n      <th>85</th>\n      <td>1</td>\n      <td>1</td>\n      <td>0</td>\n      <td>1</td>\n      <td>0</td>\n      <td>0</td>\n      <td>1</td>\n      <td>-1</td>\n      <td>-1</td>\n      <td>-1</td>\n      <td>...</td>\n      <td>0</td>\n      <td>0</td>\n      <td>-1</td>\n      <td>1</td>\n      <td>-1</td>\n      <td>-1</td>\n      <td>0</td>\n      <td>0</td>\n      <td>-2</td>\n      <td>0.566667</td>\n    </tr>\n  </tbody>\n</table>\n<p>86 rows × 32 columns</p>\n</div>"
     },
     "execution_count": 14,
     "metadata": {},
     "output_type": "execute_result"
    }
   ],
   "source": [
    "from collections import OrderedDict\n",
    "df_enc = OrderedDict()\n",
    "\n",
    "encoder = {name: i-2 for i, name in enumerate(scales)}\n",
    "for col_name in questions_copy:\n",
    "    df_enc[col_name] = df[col_name].map(encoder)\n",
    "\n",
    "df_enc[\"Notas\"] = (df[\"Notas\"] - 1) / 6\n",
    "\n",
    "df_enc = pd.DataFrame(df_enc)\n",
    "df_enc"
   ],
   "metadata": {
    "collapsed": false,
    "pycharm": {
     "name": "#%%\n"
    }
   }
  },
  {
   "cell_type": "markdown",
   "source": [
    "Asignamos a la variable `X` las columnas a determinar si poseen algún tipo de correlación"
   ],
   "metadata": {
    "collapsed": false,
    "pycharm": {
     "name": "#%% md\n"
    }
   }
  },
  {
   "cell_type": "code",
   "execution_count": 15,
   "outputs": [
    {
     "data": {
      "text/plain": "    P1  P2  P3  P4  P5  P6  P7  P8  P9  P10  ...  P22  P23  P24  P25  P26  \\\n0    0   1   2   2   2   1   2  -2  -1    1  ...    1    2    2    1    1   \n1    2   2   2   2   1   2   2   2   2    2  ...    2    2    2    2    2   \n2    2   2   2   2   0   2   2  -2   0    2  ...    2    2    2    2    2   \n3    1   1  -1   1   1   1   0  -2   0    0  ...   -2    1    2    0    1   \n4    2   2   2   2   2   2   1  -2   0    2  ...    2    2    2    2    2   \n..  ..  ..  ..  ..  ..  ..  ..  ..  ..  ...  ...  ...  ...  ...  ...  ...   \n81   1   2   1   2   1   1   1  -1   1    2  ...    1    1    1    1    1   \n82   0  -1   1   2   0   2  -1  -1  -1   -2  ...   -2   -1   -1    0    0   \n83   2   0   1   2   2   0   2  -2  -1    2  ...    2    1   -1    0    2   \n84   2   2   2   2   2   2   2  -1  -1    2  ...    1    1    2    1    2   \n85   1   1   0   1   0   0   1  -1  -1   -1  ...   -1    0    0   -1    1   \n\n    P27  P28  P29  P30  P31  \n0    -1    1    2    2   -2  \n1     2    2    2    2    2  \n2    -2    2    2    2    0  \n3     2   -1    0   -1   -2  \n4     0    2    2    2   -2  \n..  ...  ...  ...  ...  ...  \n81    1    2    1    1    1  \n82    0    0   -2   -2   -2  \n83    1    2    1    2   -2  \n84    2    2    2    2    0  \n85   -1   -1    0    0   -2  \n\n[86 rows x 31 columns]",
      "text/html": "<div>\n<style scoped>\n    .dataframe tbody tr th:only-of-type {\n        vertical-align: middle;\n    }\n\n    .dataframe tbody tr th {\n        vertical-align: top;\n    }\n\n    .dataframe thead th {\n        text-align: right;\n    }\n</style>\n<table border=\"1\" class=\"dataframe\">\n  <thead>\n    <tr style=\"text-align: right;\">\n      <th></th>\n      <th>P1</th>\n      <th>P2</th>\n      <th>P3</th>\n      <th>P4</th>\n      <th>P5</th>\n      <th>P6</th>\n      <th>P7</th>\n      <th>P8</th>\n      <th>P9</th>\n      <th>P10</th>\n      <th>...</th>\n      <th>P22</th>\n      <th>P23</th>\n      <th>P24</th>\n      <th>P25</th>\n      <th>P26</th>\n      <th>P27</th>\n      <th>P28</th>\n      <th>P29</th>\n      <th>P30</th>\n      <th>P31</th>\n    </tr>\n  </thead>\n  <tbody>\n    <tr>\n      <th>0</th>\n      <td>0</td>\n      <td>1</td>\n      <td>2</td>\n      <td>2</td>\n      <td>2</td>\n      <td>1</td>\n      <td>2</td>\n      <td>-2</td>\n      <td>-1</td>\n      <td>1</td>\n      <td>...</td>\n      <td>1</td>\n      <td>2</td>\n      <td>2</td>\n      <td>1</td>\n      <td>1</td>\n      <td>-1</td>\n      <td>1</td>\n      <td>2</td>\n      <td>2</td>\n      <td>-2</td>\n    </tr>\n    <tr>\n      <th>1</th>\n      <td>2</td>\n      <td>2</td>\n      <td>2</td>\n      <td>2</td>\n      <td>1</td>\n      <td>2</td>\n      <td>2</td>\n      <td>2</td>\n      <td>2</td>\n      <td>2</td>\n      <td>...</td>\n      <td>2</td>\n      <td>2</td>\n      <td>2</td>\n      <td>2</td>\n      <td>2</td>\n      <td>2</td>\n      <td>2</td>\n      <td>2</td>\n      <td>2</td>\n      <td>2</td>\n    </tr>\n    <tr>\n      <th>2</th>\n      <td>2</td>\n      <td>2</td>\n      <td>2</td>\n      <td>2</td>\n      <td>0</td>\n      <td>2</td>\n      <td>2</td>\n      <td>-2</td>\n      <td>0</td>\n      <td>2</td>\n      <td>...</td>\n      <td>2</td>\n      <td>2</td>\n      <td>2</td>\n      <td>2</td>\n      <td>2</td>\n      <td>-2</td>\n      <td>2</td>\n      <td>2</td>\n      <td>2</td>\n      <td>0</td>\n    </tr>\n    <tr>\n      <th>3</th>\n      <td>1</td>\n      <td>1</td>\n      <td>-1</td>\n      <td>1</td>\n      <td>1</td>\n      <td>1</td>\n      <td>0</td>\n      <td>-2</td>\n      <td>0</td>\n      <td>0</td>\n      <td>...</td>\n      <td>-2</td>\n      <td>1</td>\n      <td>2</td>\n      <td>0</td>\n      <td>1</td>\n      <td>2</td>\n      <td>-1</td>\n      <td>0</td>\n      <td>-1</td>\n      <td>-2</td>\n    </tr>\n    <tr>\n      <th>4</th>\n      <td>2</td>\n      <td>2</td>\n      <td>2</td>\n      <td>2</td>\n      <td>2</td>\n      <td>2</td>\n      <td>1</td>\n      <td>-2</td>\n      <td>0</td>\n      <td>2</td>\n      <td>...</td>\n      <td>2</td>\n      <td>2</td>\n      <td>2</td>\n      <td>2</td>\n      <td>2</td>\n      <td>0</td>\n      <td>2</td>\n      <td>2</td>\n      <td>2</td>\n      <td>-2</td>\n    </tr>\n    <tr>\n      <th>...</th>\n      <td>...</td>\n      <td>...</td>\n      <td>...</td>\n      <td>...</td>\n      <td>...</td>\n      <td>...</td>\n      <td>...</td>\n      <td>...</td>\n      <td>...</td>\n      <td>...</td>\n      <td>...</td>\n      <td>...</td>\n      <td>...</td>\n      <td>...</td>\n      <td>...</td>\n      <td>...</td>\n      <td>...</td>\n      <td>...</td>\n      <td>...</td>\n      <td>...</td>\n      <td>...</td>\n    </tr>\n    <tr>\n      <th>81</th>\n      <td>1</td>\n      <td>2</td>\n      <td>1</td>\n      <td>2</td>\n      <td>1</td>\n      <td>1</td>\n      <td>1</td>\n      <td>-1</td>\n      <td>1</td>\n      <td>2</td>\n      <td>...</td>\n      <td>1</td>\n      <td>1</td>\n      <td>1</td>\n      <td>1</td>\n      <td>1</td>\n      <td>1</td>\n      <td>2</td>\n      <td>1</td>\n      <td>1</td>\n      <td>1</td>\n    </tr>\n    <tr>\n      <th>82</th>\n      <td>0</td>\n      <td>-1</td>\n      <td>1</td>\n      <td>2</td>\n      <td>0</td>\n      <td>2</td>\n      <td>-1</td>\n      <td>-1</td>\n      <td>-1</td>\n      <td>-2</td>\n      <td>...</td>\n      <td>-2</td>\n      <td>-1</td>\n      <td>-1</td>\n      <td>0</td>\n      <td>0</td>\n      <td>0</td>\n      <td>0</td>\n      <td>-2</td>\n      <td>-2</td>\n      <td>-2</td>\n    </tr>\n    <tr>\n      <th>83</th>\n      <td>2</td>\n      <td>0</td>\n      <td>1</td>\n      <td>2</td>\n      <td>2</td>\n      <td>0</td>\n      <td>2</td>\n      <td>-2</td>\n      <td>-1</td>\n      <td>2</td>\n      <td>...</td>\n      <td>2</td>\n      <td>1</td>\n      <td>-1</td>\n      <td>0</td>\n      <td>2</td>\n      <td>1</td>\n      <td>2</td>\n      <td>1</td>\n      <td>2</td>\n      <td>-2</td>\n    </tr>\n    <tr>\n      <th>84</th>\n      <td>2</td>\n      <td>2</td>\n      <td>2</td>\n      <td>2</td>\n      <td>2</td>\n      <td>2</td>\n      <td>2</td>\n      <td>-1</td>\n      <td>-1</td>\n      <td>2</td>\n      <td>...</td>\n      <td>1</td>\n      <td>1</td>\n      <td>2</td>\n      <td>1</td>\n      <td>2</td>\n      <td>2</td>\n      <td>2</td>\n      <td>2</td>\n      <td>2</td>\n      <td>0</td>\n    </tr>\n    <tr>\n      <th>85</th>\n      <td>1</td>\n      <td>1</td>\n      <td>0</td>\n      <td>1</td>\n      <td>0</td>\n      <td>0</td>\n      <td>1</td>\n      <td>-1</td>\n      <td>-1</td>\n      <td>-1</td>\n      <td>...</td>\n      <td>-1</td>\n      <td>0</td>\n      <td>0</td>\n      <td>-1</td>\n      <td>1</td>\n      <td>-1</td>\n      <td>-1</td>\n      <td>0</td>\n      <td>0</td>\n      <td>-2</td>\n    </tr>\n  </tbody>\n</table>\n<p>86 rows × 31 columns</p>\n</div>"
     },
     "execution_count": 15,
     "metadata": {},
     "output_type": "execute_result"
    }
   ],
   "source": [
    "X = df_enc[questions]\n",
    "X"
   ],
   "metadata": {
    "collapsed": false,
    "pycharm": {
     "name": "#%%\n"
    }
   }
  },
  {
   "cell_type": "markdown",
   "source": [
    "Armamos la matriz con los valores del VIF"
   ],
   "metadata": {
    "collapsed": false,
    "pycharm": {
     "name": "#%% md\n"
    }
   }
  },
  {
   "cell_type": "code",
   "execution_count": 16,
   "outputs": [
    {
     "data": {
      "text/plain": "   feature        VIF\n0       P1   5.323083\n1       P2   4.729647\n2       P3  13.560347\n3       P4  13.861366\n4       P5   5.564450\n5       P6   8.411208\n6       P7   9.623082\n7       P8  14.770040\n8       P9   7.026705\n9      P10   5.982414\n10     P11  16.880739\n11     P12   6.937460\n12     P13  22.888118\n13     P14   2.318745\n14     P15   4.638542\n15     P16   3.823538\n16     P17   3.241056\n17     P18   7.966609\n18     P19   6.385154\n19     P20   3.543329\n20     P21  11.229895\n21     P22   6.810209\n22     P23  11.799326\n23     P24   7.231885\n24     P25   2.698775\n25     P26   8.287617\n26     P27   2.793751\n27     P28  11.241214\n28     P29   6.465080\n29     P30   1.924325\n30     P31   4.269762",
      "text/html": "<div>\n<style scoped>\n    .dataframe tbody tr th:only-of-type {\n        vertical-align: middle;\n    }\n\n    .dataframe tbody tr th {\n        vertical-align: top;\n    }\n\n    .dataframe thead th {\n        text-align: right;\n    }\n</style>\n<table border=\"1\" class=\"dataframe\">\n  <thead>\n    <tr style=\"text-align: right;\">\n      <th></th>\n      <th>feature</th>\n      <th>VIF</th>\n    </tr>\n  </thead>\n  <tbody>\n    <tr>\n      <th>0</th>\n      <td>P1</td>\n      <td>5.323083</td>\n    </tr>\n    <tr>\n      <th>1</th>\n      <td>P2</td>\n      <td>4.729647</td>\n    </tr>\n    <tr>\n      <th>2</th>\n      <td>P3</td>\n      <td>13.560347</td>\n    </tr>\n    <tr>\n      <th>3</th>\n      <td>P4</td>\n      <td>13.861366</td>\n    </tr>\n    <tr>\n      <th>4</th>\n      <td>P5</td>\n      <td>5.564450</td>\n    </tr>\n    <tr>\n      <th>5</th>\n      <td>P6</td>\n      <td>8.411208</td>\n    </tr>\n    <tr>\n      <th>6</th>\n      <td>P7</td>\n      <td>9.623082</td>\n    </tr>\n    <tr>\n      <th>7</th>\n      <td>P8</td>\n      <td>14.770040</td>\n    </tr>\n    <tr>\n      <th>8</th>\n      <td>P9</td>\n      <td>7.026705</td>\n    </tr>\n    <tr>\n      <th>9</th>\n      <td>P10</td>\n      <td>5.982414</td>\n    </tr>\n    <tr>\n      <th>10</th>\n      <td>P11</td>\n      <td>16.880739</td>\n    </tr>\n    <tr>\n      <th>11</th>\n      <td>P12</td>\n      <td>6.937460</td>\n    </tr>\n    <tr>\n      <th>12</th>\n      <td>P13</td>\n      <td>22.888118</td>\n    </tr>\n    <tr>\n      <th>13</th>\n      <td>P14</td>\n      <td>2.318745</td>\n    </tr>\n    <tr>\n      <th>14</th>\n      <td>P15</td>\n      <td>4.638542</td>\n    </tr>\n    <tr>\n      <th>15</th>\n      <td>P16</td>\n      <td>3.823538</td>\n    </tr>\n    <tr>\n      <th>16</th>\n      <td>P17</td>\n      <td>3.241056</td>\n    </tr>\n    <tr>\n      <th>17</th>\n      <td>P18</td>\n      <td>7.966609</td>\n    </tr>\n    <tr>\n      <th>18</th>\n      <td>P19</td>\n      <td>6.385154</td>\n    </tr>\n    <tr>\n      <th>19</th>\n      <td>P20</td>\n      <td>3.543329</td>\n    </tr>\n    <tr>\n      <th>20</th>\n      <td>P21</td>\n      <td>11.229895</td>\n    </tr>\n    <tr>\n      <th>21</th>\n      <td>P22</td>\n      <td>6.810209</td>\n    </tr>\n    <tr>\n      <th>22</th>\n      <td>P23</td>\n      <td>11.799326</td>\n    </tr>\n    <tr>\n      <th>23</th>\n      <td>P24</td>\n      <td>7.231885</td>\n    </tr>\n    <tr>\n      <th>24</th>\n      <td>P25</td>\n      <td>2.698775</td>\n    </tr>\n    <tr>\n      <th>25</th>\n      <td>P26</td>\n      <td>8.287617</td>\n    </tr>\n    <tr>\n      <th>26</th>\n      <td>P27</td>\n      <td>2.793751</td>\n    </tr>\n    <tr>\n      <th>27</th>\n      <td>P28</td>\n      <td>11.241214</td>\n    </tr>\n    <tr>\n      <th>28</th>\n      <td>P29</td>\n      <td>6.465080</td>\n    </tr>\n    <tr>\n      <th>29</th>\n      <td>P30</td>\n      <td>1.924325</td>\n    </tr>\n    <tr>\n      <th>30</th>\n      <td>P31</td>\n      <td>4.269762</td>\n    </tr>\n  </tbody>\n</table>\n</div>"
     },
     "execution_count": 16,
     "metadata": {},
     "output_type": "execute_result"
    }
   ],
   "source": [
    "from statsmodels.stats.outliers_influence import variance_inflation_factor\n",
    "\n",
    "vif_data = pd.DataFrame()\n",
    "vif_data[\"feature\"] = X.columns\n",
    "\n",
    "vif_data[\"VIF\"] = [variance_inflation_factor(X.values, i) for i in range(len(X.columns))]\n",
    "\n",
    "vif_data"
   ],
   "metadata": {
    "collapsed": false,
    "pycharm": {
     "name": "#%%\n"
    }
   }
  },
  {
   "cell_type": "markdown",
   "source": [
    "Obtenemos aquellas preguntas que servirán para hacer la regresión"
   ],
   "metadata": {
    "collapsed": false,
    "pycharm": {
     "name": "#%% md\n"
    }
   }
  },
  {
   "cell_type": "code",
   "execution_count": 17,
   "outputs": [
    {
     "data": {
      "text/plain": "   feature       VIF\n1       P2  4.729647\n13     P14  2.318745\n14     P15  4.638542\n15     P16  3.823538\n16     P17  3.241056\n19     P20  3.543329\n24     P25  2.698775\n26     P27  2.793751\n29     P30  1.924325\n30     P31  4.269762",
      "text/html": "<div>\n<style scoped>\n    .dataframe tbody tr th:only-of-type {\n        vertical-align: middle;\n    }\n\n    .dataframe tbody tr th {\n        vertical-align: top;\n    }\n\n    .dataframe thead th {\n        text-align: right;\n    }\n</style>\n<table border=\"1\" class=\"dataframe\">\n  <thead>\n    <tr style=\"text-align: right;\">\n      <th></th>\n      <th>feature</th>\n      <th>VIF</th>\n    </tr>\n  </thead>\n  <tbody>\n    <tr>\n      <th>1</th>\n      <td>P2</td>\n      <td>4.729647</td>\n    </tr>\n    <tr>\n      <th>13</th>\n      <td>P14</td>\n      <td>2.318745</td>\n    </tr>\n    <tr>\n      <th>14</th>\n      <td>P15</td>\n      <td>4.638542</td>\n    </tr>\n    <tr>\n      <th>15</th>\n      <td>P16</td>\n      <td>3.823538</td>\n    </tr>\n    <tr>\n      <th>16</th>\n      <td>P17</td>\n      <td>3.241056</td>\n    </tr>\n    <tr>\n      <th>19</th>\n      <td>P20</td>\n      <td>3.543329</td>\n    </tr>\n    <tr>\n      <th>24</th>\n      <td>P25</td>\n      <td>2.698775</td>\n    </tr>\n    <tr>\n      <th>26</th>\n      <td>P27</td>\n      <td>2.793751</td>\n    </tr>\n    <tr>\n      <th>29</th>\n      <td>P30</td>\n      <td>1.924325</td>\n    </tr>\n    <tr>\n      <th>30</th>\n      <td>P31</td>\n      <td>4.269762</td>\n    </tr>\n  </tbody>\n</table>\n</div>"
     },
     "execution_count": 17,
     "metadata": {},
     "output_type": "execute_result"
    }
   ],
   "source": [
    "vif_data[vif_data[\"VIF\"] <= 5]"
   ],
   "metadata": {
    "collapsed": false,
    "pycharm": {
     "name": "#%%\n"
    }
   }
  },
  {
   "cell_type": "code",
   "execution_count": 18,
   "outputs": [
    {
     "data": {
      "text/plain": "   feature        VIF\n0       P1   5.323083\n1       P2   4.729647\n4       P5   5.564450\n5       P6   8.411208\n6       P7   9.623082\n8       P9   7.026705\n9      P10   5.982414\n11     P12   6.937460\n13     P14   2.318745\n14     P15   4.638542\n15     P16   3.823538\n16     P17   3.241056\n17     P18   7.966609\n18     P19   6.385154\n19     P20   3.543329\n20     P21  11.229895\n21     P22   6.810209\n22     P23  11.799326\n23     P24   7.231885\n24     P25   2.698775\n25     P26   8.287617\n26     P27   2.793751\n27     P28  11.241214\n28     P29   6.465080\n29     P30   1.924325\n30     P31   4.269762",
      "text/html": "<div>\n<style scoped>\n    .dataframe tbody tr th:only-of-type {\n        vertical-align: middle;\n    }\n\n    .dataframe tbody tr th {\n        vertical-align: top;\n    }\n\n    .dataframe thead th {\n        text-align: right;\n    }\n</style>\n<table border=\"1\" class=\"dataframe\">\n  <thead>\n    <tr style=\"text-align: right;\">\n      <th></th>\n      <th>feature</th>\n      <th>VIF</th>\n    </tr>\n  </thead>\n  <tbody>\n    <tr>\n      <th>0</th>\n      <td>P1</td>\n      <td>5.323083</td>\n    </tr>\n    <tr>\n      <th>1</th>\n      <td>P2</td>\n      <td>4.729647</td>\n    </tr>\n    <tr>\n      <th>4</th>\n      <td>P5</td>\n      <td>5.564450</td>\n    </tr>\n    <tr>\n      <th>5</th>\n      <td>P6</td>\n      <td>8.411208</td>\n    </tr>\n    <tr>\n      <th>6</th>\n      <td>P7</td>\n      <td>9.623082</td>\n    </tr>\n    <tr>\n      <th>8</th>\n      <td>P9</td>\n      <td>7.026705</td>\n    </tr>\n    <tr>\n      <th>9</th>\n      <td>P10</td>\n      <td>5.982414</td>\n    </tr>\n    <tr>\n      <th>11</th>\n      <td>P12</td>\n      <td>6.937460</td>\n    </tr>\n    <tr>\n      <th>13</th>\n      <td>P14</td>\n      <td>2.318745</td>\n    </tr>\n    <tr>\n      <th>14</th>\n      <td>P15</td>\n      <td>4.638542</td>\n    </tr>\n    <tr>\n      <th>15</th>\n      <td>P16</td>\n      <td>3.823538</td>\n    </tr>\n    <tr>\n      <th>16</th>\n      <td>P17</td>\n      <td>3.241056</td>\n    </tr>\n    <tr>\n      <th>17</th>\n      <td>P18</td>\n      <td>7.966609</td>\n    </tr>\n    <tr>\n      <th>18</th>\n      <td>P19</td>\n      <td>6.385154</td>\n    </tr>\n    <tr>\n      <th>19</th>\n      <td>P20</td>\n      <td>3.543329</td>\n    </tr>\n    <tr>\n      <th>20</th>\n      <td>P21</td>\n      <td>11.229895</td>\n    </tr>\n    <tr>\n      <th>21</th>\n      <td>P22</td>\n      <td>6.810209</td>\n    </tr>\n    <tr>\n      <th>22</th>\n      <td>P23</td>\n      <td>11.799326</td>\n    </tr>\n    <tr>\n      <th>23</th>\n      <td>P24</td>\n      <td>7.231885</td>\n    </tr>\n    <tr>\n      <th>24</th>\n      <td>P25</td>\n      <td>2.698775</td>\n    </tr>\n    <tr>\n      <th>25</th>\n      <td>P26</td>\n      <td>8.287617</td>\n    </tr>\n    <tr>\n      <th>26</th>\n      <td>P27</td>\n      <td>2.793751</td>\n    </tr>\n    <tr>\n      <th>27</th>\n      <td>P28</td>\n      <td>11.241214</td>\n    </tr>\n    <tr>\n      <th>28</th>\n      <td>P29</td>\n      <td>6.465080</td>\n    </tr>\n    <tr>\n      <th>29</th>\n      <td>P30</td>\n      <td>1.924325</td>\n    </tr>\n    <tr>\n      <th>30</th>\n      <td>P31</td>\n      <td>4.269762</td>\n    </tr>\n  </tbody>\n</table>\n</div>"
     },
     "execution_count": 18,
     "metadata": {},
     "output_type": "execute_result"
    }
   ],
   "source": [
    "vif_data[vif_data[\"VIF\"] <= 12]"
   ],
   "metadata": {
    "collapsed": false,
    "pycharm": {
     "name": "#%%\n"
    }
   }
  }
 ],
 "metadata": {
  "kernelspec": {
   "display_name": "Python 3",
   "language": "python",
   "name": "python3"
  },
  "language_info": {
   "codemirror_mode": {
    "name": "ipython",
    "version": 2
   },
   "file_extension": ".py",
   "mimetype": "text/x-python",
   "name": "python",
   "nbconvert_exporter": "python",
   "pygments_lexer": "ipython2",
   "version": "2.7.6"
  }
 },
 "nbformat": 4,
 "nbformat_minor": 0
}