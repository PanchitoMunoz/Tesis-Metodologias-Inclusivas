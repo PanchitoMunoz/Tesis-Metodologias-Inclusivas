{
 "cells": [
  {
   "cell_type": "markdown",
   "metadata": {
    "pycharm": {
     "name": "#%% md\n"
    }
   },
   "source": [
    "# Imports y configuraciones iniciales"
   ]
  },
  {
   "cell_type": "code",
   "execution_count": null,
   "metadata": {
    "pycharm": {
     "name": "#%%\n"
    }
   },
   "outputs": [],
   "source": [
    "import warnings\n",
    "\n",
    "from typing import List\n",
    "\n",
    "warnings.filterwarnings(\"ignore\")"
   ]
  },
  {
   "cell_type": "code",
   "execution_count": null,
   "metadata": {
    "pycharm": {
     "name": "#%%\n"
    }
   },
   "outputs": [],
   "source": [
    "# Dejar el path principal como el anterior.\n",
    "import sys\n",
    "\n",
    "sys.path.append('../')"
   ]
  },
  {
   "cell_type": "code",
   "execution_count": null,
   "metadata": {
    "pycharm": {
     "name": "#%%\n"
    }
   },
   "outputs": [],
   "source": [
    "import logging\n",
    "\n",
    "# Crear el logger\n",
    "log = logging.getLogger(__name__)\n",
    "\n",
    "# Setear el nivel del registro\n",
    "log.setLevel(logging.WARNING)\n",
    "\n",
    "# Formato de los mensajes\n",
    "formatter = logging.Formatter(\"%(levelname)s: (%(asctime)s) [%(filename)s: %(lineno)s] %(message)s\")\n",
    "\n",
    "if not log.hasHandlers():\n",
    "    # Handlers\n",
    "    file_handler = logging.FileHandler(\"logging.log\")\n",
    "    file_handler.setFormatter(formatter)  # Setear el formato del handler\n",
    "    # Agregar el handler al logger\n",
    "    # log.addHandler(file_handler)\n",
    "\n",
    "    stream_handler = logging.StreamHandler()\n",
    "    stream_handler.setFormatter(formatter)\n",
    "    # Agregar el handler al logger\n",
    "    log.addHandler(stream_handler)"
   ]
  },
  {
   "cell_type": "markdown",
   "metadata": {
    "pycharm": {
     "name": "#%% md\n"
    }
   },
   "source": [
    "Instalar la librería plot-likert y otras librerías útiles"
   ]
  },
  {
   "cell_type": "code",
   "execution_count": null,
   "metadata": {
    "pycharm": {
     "name": "#%%\n"
    }
   },
   "outputs": [],
   "source": [
    "# Librería para hacer gráficos Likert\n",
    "# !pip install plot-likert\n",
    "\n",
    "# Para obtener datos de excel\n",
    "# !pip install openpyxl\n",
    "\n",
    "# Para tener un transformador de data\n",
    "# !pip install -U scikit-learn\n",
    "\n",
    "# Para tener herramientas estadísticas\n",
    "# !python -m pip install statsmodels\n",
    "\n",
    "# Para tener Seaborn\n",
    "# !pip install seaborn"
   ]
  },
  {
   "cell_type": "markdown",
   "metadata": {
    "pycharm": {
     "name": "#%% md\n"
    }
   },
   "source": [
    "Importamos algunas librerías útiles para el resto del notebook"
   ]
  },
  {
   "cell_type": "code",
   "execution_count": null,
   "metadata": {
    "pycharm": {
     "name": "#%%\n"
    }
   },
   "outputs": [],
   "source": [
    "import pandas as pd\n",
    "import numpy as np\n",
    "import matplotlib.pyplot as plt\n",
    "import seaborn as sns\n",
    "from pathlib import Path"
   ]
  },
  {
   "cell_type": "markdown",
   "metadata": {
    "pycharm": {
     "name": "#%% md\n"
    }
   },
   "source": [
    "# Importación del data set"
   ]
  },
  {
   "cell_type": "markdown",
   "metadata": {
    "pycharm": {
     "name": "#%% md\n"
    }
   },
   "source": [
    "Empezamos obteniendo los datos"
   ]
  },
  {
   "cell_type": "code",
   "execution_count": null,
   "metadata": {
    "pycharm": {
     "name": "#%%\n"
    }
   },
   "outputs": [],
   "source": [
    "DATA_PATH = Path(r\"..\\data\")\n",
    "\n",
    "if not DATA_PATH.exists():\n",
    "    log.info(f\"Creando carpeta {DATA_PATH = }\")\n",
    "    DATA_PATH.mkdir()"
   ]
  },
  {
   "cell_type": "code",
   "execution_count": null,
   "metadata": {
    "pycharm": {
     "name": "#%%\n"
    }
   },
   "outputs": [],
   "source": [
    "QNA_COMPLETE_PATH = DATA_PATH / \"questions-and-answers-complete.xlsx\"\n",
    "QNA_COMPLETE_PATH"
   ]
  },
  {
   "cell_type": "code",
   "execution_count": null,
   "metadata": {
    "pycharm": {
     "name": "#%%\n"
    }
   },
   "outputs": [],
   "source": [
    "log.debug(f\"Importando datos de {QNA_COMPLETE_PATH}\")\n",
    "df = pd.read_excel(QNA_COMPLETE_PATH)\n",
    "\n",
    "log.debug(f\"Cantidad de respuestas: {len(df) = }\")\n",
    "\n",
    "columnas = list(df.columns)\n",
    "preguntas = columnas[1:]\n",
    "notas = columnas[0]\n",
    "\n",
    "df.head()"
   ]
  },
  {
   "cell_type": "code",
   "execution_count": null,
   "metadata": {
    "pycharm": {
     "name": "#%%\n"
    }
   },
   "outputs": [],
   "source": [
    "questions_ = preguntas.copy()\n",
    "# Separar por subdimensiones\n",
    "\n",
    "# Subdim 1.1\n",
    "subdim_1_1 = [questions_.pop(0), questions_.pop(0), questions_.pop(0), questions_.pop(0), questions_.pop(0)]\n",
    "\n",
    "# Subdim 1.2\n",
    "subdim_1_2 = [questions_.pop(0), questions_.pop(0), questions_.pop(0), questions_.pop(0), questions_.pop(0)]\n",
    "\n",
    "# Subdim 1.3\n",
    "subdim_1_3 = [questions_.pop(0), questions_.pop(0), questions_.pop(0), questions_.pop(0), questions_.pop(0),\n",
    "              questions_.pop(0)]\n",
    "\n",
    "# Subdim 2.1\n",
    "subdim_2_1 = [questions_.pop(0), questions_.pop(0)]\n",
    "\n",
    "# Subdim 2.2\n",
    "subdim_2_2 = [questions_.pop(0), questions_.pop(0)]\n",
    "\n",
    "# Subdim 2.3\n",
    "subdim_2_3 = [questions_.pop(0), questions_.pop(0), questions_.pop(0), questions_.pop(0)]\n",
    "\n",
    "# Subdim 2.4\n",
    "subdim_2_4 = [questions_.pop(0), questions_.pop(0), questions_.pop(0), questions_.pop(0), questions_.pop(0),\n",
    "              questions_.pop(0), questions_.pop(0)]\n",
    "\n",
    "del questions_"
   ]
  },
  {
   "cell_type": "code",
   "execution_count": null,
   "metadata": {
    "pycharm": {
     "name": "#%%\n"
    }
   },
   "outputs": [],
   "source": [
    "questions = list(df.columns)[1:]\n",
    "questions"
   ]
  },
  {
   "cell_type": "code",
   "execution_count": null,
   "metadata": {
    "pycharm": {
     "name": "#%%\n"
    }
   },
   "outputs": [],
   "source": [
    "import copy\n",
    "\n",
    "\n",
    "log.debug(\"Renombrando columnas\")\n",
    "questions_copy = copy.copy(questions)\n",
    "for i in range(len(questions)):\n",
    "    # questions_copy[i] = f\"P{i+1}.: \" + questions[i]\n",
    "    questions_copy[i] = f\"P{i+1}\"\n",
    "\n",
    "questions = questions_copy.copy()\n",
    "\n",
    "df.columns = [\"Notas\"] +  questions_copy\n",
    "\n",
    "\n",
    "df.head()"
   ]
  },
  {
   "cell_type": "code",
   "execution_count": null,
   "metadata": {
    "pycharm": {
     "name": "#%%\n"
    }
   },
   "outputs": [],
   "source": [
    "scales = [\n",
    "    \"Nunca\",\n",
    "    \"Rara vez\",\n",
    "    \"Ocasionalmente\",\n",
    "    \"Casi siempre\",\n",
    "    \"Siempre, en todas las clases\"\n",
    "]"
   ]
  },
  {
   "cell_type": "code",
   "execution_count": null,
   "metadata": {
    "pycharm": {
     "name": "#%%\n"
    }
   },
   "outputs": [],
   "source": [
    "df"
   ]
  },
  {
   "cell_type": "markdown",
   "metadata": {
    "pycharm": {
     "name": "#%% md\n"
    }
   },
   "source": [
    "Codificamos las preguntas para calcular el VIF"
   ]
  },
  {
   "cell_type": "code",
   "execution_count": null,
   "metadata": {
    "pycharm": {
     "name": "#%%\n"
    }
   },
   "outputs": [],
   "source": [
    "from collections import OrderedDict\n",
    "df_enc = OrderedDict()\n",
    "\n",
    "encoder = {name: i-2 for i, name in enumerate(scales)}\n",
    "for col_name in questions_copy:\n",
    "    df_enc[col_name] = df[col_name].map(encoder)\n",
    "\n",
    "df_enc[\"Notas\"] = (df[\"Notas\"] - 1) / 6\n",
    "\n",
    "df_enc = pd.DataFrame(df_enc)\n",
    "df_enc"
   ]
  },
  {
   "cell_type": "markdown",
   "metadata": {
    "pycharm": {
     "name": "#%% md\n"
    }
   },
   "source": [
    "Asignamos a la variable `X` las columnas a determinar si poseen algún tipo de correlación"
   ]
  },
  {
   "cell_type": "code",
   "execution_count": null,
   "metadata": {
    "pycharm": {
     "name": "#%%\n"
    }
   },
   "outputs": [],
   "source": [
    "X = df_enc[questions]\n",
    "X"
   ]
  },
  {
   "cell_type": "markdown",
   "metadata": {
    "pycharm": {
     "name": "#%% md\n"
    }
   },
   "source": [
    "Armamos la matriz con los valores del VIF"
   ]
  },
  {
   "cell_type": "code",
   "execution_count": null,
   "metadata": {
    "pycharm": {
     "name": "#%%\n"
    }
   },
   "outputs": [],
   "source": [
    "from statsmodels.stats.outliers_influence import variance_inflation_factor\n",
    "\n",
    "vif_data = pd.DataFrame()\n",
    "vif_data[\"feature\"] = X.columns\n",
    "\n",
    "vif_data[\"VIF\"] = [variance_inflation_factor(X.values, i) for i in range(len(X.columns))]\n",
    "\n",
    "vif_data"
   ]
  },
  {
   "cell_type": "markdown",
   "metadata": {
    "pycharm": {
     "name": "#%% md\n"
    }
   },
   "source": [
    "Obtenemos aquellas preguntas que servirán para hacer la regresión"
   ]
  },
  {
   "cell_type": "code",
   "execution_count": null,
   "metadata": {
    "pycharm": {
     "name": "#%%\n"
    }
   },
   "outputs": [],
   "source": [
    "vif_data[vif_data[\"VIF\"] <= 5]"
   ]
  },
  {
   "cell_type": "code",
   "execution_count": null,
   "metadata": {
    "pycharm": {
     "name": "#%%\n"
    }
   },
   "outputs": [],
   "source": [
    "vif_data[vif_data[\"VIF\"] <= 12]"
   ]
  }
 ],
 "metadata": {
  "kernelspec": {
   "display_name": "Python 3",
   "language": "python",
   "name": "python3"
  },
  "language_info": {
   "codemirror_mode": {
    "name": "ipython",
    "version": 2
   },
   "file_extension": ".py",
   "mimetype": "text/x-python",
   "name": "python",
   "nbconvert_exporter": "python",
   "pygments_lexer": "ipython2",
   "version": "2.7.6"
  }
 },
 "nbformat": 4,
 "nbformat_minor": 0
}
