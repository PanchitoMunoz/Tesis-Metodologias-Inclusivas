{
 "cells": [
  {
   "cell_type": "markdown",
   "metadata": {
    "pycharm": {
     "name": "#%% md\n"
    }
   },
   "source": [
    "# Imports y configuraciones iniciales"
   ]
  },
  {
   "cell_type": "code",
   "execution_count": 1,
   "metadata": {
    "pycharm": {
     "name": "#%%\n"
    }
   },
   "outputs": [],
   "source": [
    "import warnings\n",
    "\n",
    "from typing import List\n",
    "\n",
    "warnings.filterwarnings(\"ignore\")"
   ]
  },
  {
   "cell_type": "code",
   "execution_count": 2,
   "metadata": {
    "pycharm": {
     "name": "#%%\n"
    }
   },
   "outputs": [],
   "source": [
    "# Dejar el path principal como el anterior.\n",
    "import sys\n",
    "sys.path.append('../')"
   ]
  },
  {
   "cell_type": "markdown",
   "metadata": {
    "pycharm": {
     "name": "#%% md\n"
    }
   },
   "source": [
    "Seteamos las configuraciones del Logging"
   ]
  },
  {
   "cell_type": "code",
   "execution_count": 3,
   "metadata": {
    "pycharm": {
     "name": "#%%\n"
    }
   },
   "outputs": [],
   "source": [
    "import logging\n",
    "\n",
    "# Crear el logger\n",
    "log = logging.getLogger(__name__)\n",
    "\n",
    "# Setear el nivel del registro\n",
    "log.setLevel(logging.DEBUG)\n",
    "\n",
    "# Formato de los mensajes\n",
    "formatter = logging.Formatter(\"%(levelname)s: (%(asctime)s) [%(filename)s: %(lineno)s] %(message)s\")\n",
    "\n",
    "if not log.hasHandlers():\n",
    "    # Handlers\n",
    "    file_handler = logging.FileHandler(\"logging.log\")\n",
    "    file_handler.setFormatter(formatter)  # Setear el formato del handler\n",
    "    # Agregar el handler al logger\n",
    "    # log.addHandler(file_handler)\n",
    "\n",
    "    stream_handler = logging.StreamHandler()\n",
    "    stream_handler.setFormatter(formatter)\n",
    "    # Agregar el handler al logger\n",
    "    log.addHandler(stream_handler)"
   ]
  },
  {
   "cell_type": "markdown",
   "metadata": {
    "pycharm": {
     "name": "#%% md\n"
    }
   },
   "source": [
    "Instalar la librería plot-likert y otras librerías útiles"
   ]
  },
  {
   "cell_type": "code",
   "execution_count": 4,
   "metadata": {
    "pycharm": {
     "name": "#%%\n"
    }
   },
   "outputs": [],
   "source": [
    "# Librería para hacer gráficos Likert\n",
    "# !pip install plot-likert\n",
    "\n",
    "# Para obtener datos de excel\n",
    "# !pip install openpyxl\n",
    "\n",
    "# Para tener un transformador de data\n",
    "# !pip install -U scikit-learn\n",
    "\n",
    "# Para tener herramientas estadísticas\n",
    "# !python -m pip install statsmodels\n",
    "\n",
    "# Para tener Seaborn\n",
    "# !pip install seaborn"
   ]
  },
  {
   "cell_type": "markdown",
   "metadata": {
    "pycharm": {
     "name": "#%% md\n"
    }
   },
   "source": [
    "Empezamos importando la librería para verificar que estuvo bien instalada."
   ]
  },
  {
   "cell_type": "code",
   "execution_count": 5,
   "metadata": {
    "pycharm": {
     "name": "#%%\n"
    }
   },
   "outputs": [],
   "source": [
    "import plot_likert"
   ]
  },
  {
   "cell_type": "markdown",
   "metadata": {
    "pycharm": {
     "name": "#%% md\n"
    }
   },
   "source": [
    "Importamos algunas librerías útiles para el resto del notebook"
   ]
  },
  {
   "cell_type": "code",
   "execution_count": 6,
   "metadata": {
    "pycharm": {
     "name": "#%%\n"
    }
   },
   "outputs": [],
   "source": [
    "import pandas as pd\n",
    "import numpy as np\n",
    "import matplotlib.pyplot as plt\n",
    "import seaborn as sns\n",
    "from pathlib import Path"
   ]
  },
  {
   "cell_type": "code",
   "execution_count": 7,
   "metadata": {
    "pycharm": {
     "name": "#%%\n"
    }
   },
   "outputs": [],
   "source": [
    "DATA_PATH = Path(r\"..\\data\")\n",
    "\n",
    "if not DATA_PATH.exists():\n",
    "    log.info(f\"Creando carpeta {DATA_PATH = }\")\n",
    "    DATA_PATH.mkdir()"
   ]
  },
  {
   "cell_type": "code",
   "execution_count": 8,
   "metadata": {
    "pycharm": {
     "name": "#%%\n"
    }
   },
   "outputs": [
    {
     "data": {
      "text/plain": "WindowsPath('../data/questions-and-answers-complete.xlsx')"
     },
     "execution_count": 8,
     "metadata": {},
     "output_type": "execute_result"
    }
   ],
   "source": [
    "QNA_COMPLETE_PATH = DATA_PATH / \"questions-and-answers-complete.xlsx\"\n",
    "QNA_COMPLETE_PATH"
   ]
  },
  {
   "cell_type": "code",
   "execution_count": 9,
   "metadata": {
    "pycharm": {
     "name": "#%%\n"
    }
   },
   "outputs": [
    {
     "name": "stderr",
     "output_type": "stream",
     "text": [
      "DEBUG: (2023-01-08 19:19:44,086) [2491434066.py: 1] Importando datos de ..\\data\\questions-and-answers-complete.xlsx\n"
     ]
    },
    {
     "data": {
      "text/plain": "   Prom Cs  \\\n0      6.8   \n1      6.7   \n2      6.1   \n3      4.6   \n4      6.5   \n\n  ¿Los profesores de ciencias consideran los intereses de los alumnos para elaborar y organizar las evaluaciones?  \\\n0                                     Ocasionalmente                                                                \n1                       Siempre, en todas las clases                                                                \n2                       Siempre, en todas las clases                                                                \n3                                       Casi siempre                                                                \n4                       Siempre, en todas las clases                                                                \n\n  De las actividades realizadas en clase ¿el profesor considera y respeta nuestros intereses?  \\\n0                                       Casi siempre                                            \n1                       Siempre, en todas las clases                                            \n2                       Siempre, en todas las clases                                            \n3                                       Casi siempre                                            \n4                       Siempre, en todas las clases                                            \n\n  ¿El profesor retroalimenta y refuerza en todas las clases lo que hemos ido aprendiendo?  \\\n0                       Siempre, en todas las clases                                        \n1                       Siempre, en todas las clases                                        \n2                       Siempre, en todas las clases                                        \n3                                           Rara vez                                        \n4                       Siempre, en todas las clases                                        \n\n  El profesor de la clase de ciencias ¿anota y explica el objetivo que se va a trabajar durante la clase?  \\\n0                       Siempre, en todas las clases                                                        \n1                       Siempre, en todas las clases                                                        \n2                       Siempre, en todas las clases                                                        \n3                                       Casi siempre                                                        \n4                       Siempre, en todas las clases                                                        \n\n  El profesor, al cierre de su clase ¿realiza preguntas para verificar si hemos aprendido?  \\\n0                       Siempre, en todas las clases                                         \n1                                       Casi siempre                                         \n2                                     Ocasionalmente                                         \n3                                       Casi siempre                                         \n4                       Siempre, en todas las clases                                         \n\n  Cuando el profesor da tareas ¿las explica claramente y nos da ejemplos que orientan para realizarlas?  \\\n0                                       Casi siempre                                                      \n1                       Siempre, en todas las clases                                                      \n2                       Siempre, en todas las clases                                                      \n3                                       Casi siempre                                                      \n4                       Siempre, en todas las clases                                                      \n\n  Durante la actividad ¿el profesor circula explicando y resolviendo dudas?  \\\n0                       Siempre, en todas las clases                          \n1                       Siempre, en todas las clases                          \n2                       Siempre, en todas las clases                          \n3                                     Ocasionalmente                          \n4                                       Casi siempre                          \n\n  ¿Se realizan salidas a terreno: museos, zoológicos y otros lugares que ayudan al aprendizaje?  \\\n0                                              Nunca                                              \n1                       Siempre, en todas las clases                                              \n2                                              Nunca                                              \n3                                              Nunca                                              \n4                                              Nunca                                              \n\n  Para hacer las clases, el profesor ¿nos lleva a otros espacios motivantes para que aprendamos mejor?  \\\n0                                           Rara vez                                                     \n1                       Siempre, en todas las clases                                                     \n2                                     Ocasionalmente                                                     \n3                                     Ocasionalmente                                                     \n4                                     Ocasionalmente                                                     \n\n   ...  \\\n0  ...   \n1  ...   \n2  ...   \n3  ...   \n4  ...   \n\n  Cuando me queda alguna duda de la clase, ¿me dirijo confiadamente al profesor a preguntar?  \\\n0                                       Casi siempre                                           \n1                       Siempre, en todas las clases                                           \n2                       Siempre, en todas las clases                                           \n3                                              Nunca                                           \n4                       Siempre, en todas las clases                                           \n\n  Cuando el profesor es cercano conmigo y mis compañeros, ¿nos da confianza y seguridad para preguntar todas las dudas?  \\\n0                       Siempre, en todas las clases                                                                      \n1                       Siempre, en todas las clases                                                                      \n2                       Siempre, en todas las clases                                                                      \n3                                       Casi siempre                                                                      \n4                       Siempre, en todas las clases                                                                      \n\n  Cuando tengo más cercanía y confianza con el profesor ¿aprendo mejor?  \\\n0                       Siempre, en todas las clases                      \n1                       Siempre, en todas las clases                      \n2                       Siempre, en todas las clases                      \n3                       Siempre, en todas las clases                      \n4                       Siempre, en todas las clases                      \n\n  ¿Los profesores de ciencias ofrecen diversas actividades grupales de un mismo tema, para que los estudiantes, elijan en la que quieren trabajar?  \\\n0                                       Casi siempre                                                                                                 \n1                       Siempre, en todas las clases                                                                                                 \n2                       Siempre, en todas las clases                                                                                                 \n3                                     Ocasionalmente                                                                                                 \n4                       Siempre, en todas las clases                                                                                                 \n\n  ¿Los profesores de ciencias integran a todos los estudiantes para que participen en las actividades grupales dentro de la sala de clases?  \\\n0                                       Casi siempre                                                                                          \n1                       Siempre, en todas las clases                                                                                          \n2                       Siempre, en todas las clases                                                                                          \n3                                       Casi siempre                                                                                          \n4                       Siempre, en todas las clases                                                                                          \n\n  ¿Los profesores de ciencias integran a todos los estudiantes en grupos, para que participen en las actividades de investigación, fuera del colegio?  \\\n0                                           Rara vez                                                                                                    \n1                       Siempre, en todas las clases                                                                                                    \n2                                              Nunca                                                                                                    \n3                       Siempre, en todas las clases                                                                                                    \n4                                     Ocasionalmente                                                                                                    \n\n  ¿Los profesores, muestran interés por reforzar a los alumnos que más les cuesta?  \\\n0                                       Casi siempre                                 \n1                       Siempre, en todas las clases                                 \n2                       Siempre, en todas las clases                                 \n3                                           Rara vez                                 \n4                       Siempre, en todas las clases                                 \n\n  Cuando el profesor nos hace realizar actividades variadas, en ciencias ¿comprendo mejor la materia?  \\\n0                       Siempre, en todas las clases                                                    \n1                       Siempre, en todas las clases                                                    \n2                       Siempre, en todas las clases                                                    \n3                                     Ocasionalmente                                                    \n4                       Siempre, en todas las clases                                                    \n\n  ¿Los profesores de ciencias integran a todos los estudiantes para que participen en las actividades prácticas de laboratorio?  \\\n0                       Siempre, en todas las clases                                                                              \n1                       Siempre, en todas las clases                                                                              \n2                       Siempre, en todas las clases                                                                              \n3                                           Rara vez                                                                              \n4                       Siempre, en todas las clases                                                                              \n\n  En las clases de ciencias, ¿algunos alumnos son evaluados con carpetas de actividades realizadas en el colegio y fuera de él?  \n0                                              Nunca                                                                             \n1                       Siempre, en todas las clases                                                                             \n2                                     Ocasionalmente                                                                             \n3                                              Nunca                                                                             \n4                                              Nunca                                                                             \n\n[5 rows x 32 columns]",
      "text/html": "<div>\n<style scoped>\n    .dataframe tbody tr th:only-of-type {\n        vertical-align: middle;\n    }\n\n    .dataframe tbody tr th {\n        vertical-align: top;\n    }\n\n    .dataframe thead th {\n        text-align: right;\n    }\n</style>\n<table border=\"1\" class=\"dataframe\">\n  <thead>\n    <tr style=\"text-align: right;\">\n      <th></th>\n      <th>Prom Cs</th>\n      <th>¿Los profesores de ciencias consideran los intereses de los alumnos para elaborar y organizar las evaluaciones?</th>\n      <th>De las actividades realizadas en clase ¿el profesor considera y respeta nuestros intereses?</th>\n      <th>¿El profesor retroalimenta y refuerza en todas las clases lo que hemos ido aprendiendo?</th>\n      <th>El profesor de la clase de ciencias ¿anota y explica el objetivo que se va a trabajar durante la clase?</th>\n      <th>El profesor, al cierre de su clase ¿realiza preguntas para verificar si hemos aprendido?</th>\n      <th>Cuando el profesor da tareas ¿las explica claramente y nos da ejemplos que orientan para realizarlas?</th>\n      <th>Durante la actividad ¿el profesor circula explicando y resolviendo dudas?</th>\n      <th>¿Se realizan salidas a terreno: museos, zoológicos y otros lugares que ayudan al aprendizaje?</th>\n      <th>Para hacer las clases, el profesor ¿nos lleva a otros espacios motivantes para que aprendamos mejor?</th>\n      <th>...</th>\n      <th>Cuando me queda alguna duda de la clase, ¿me dirijo confiadamente al profesor a preguntar?</th>\n      <th>Cuando el profesor es cercano conmigo y mis compañeros, ¿nos da confianza y seguridad para preguntar todas las dudas?</th>\n      <th>Cuando tengo más cercanía y confianza con el profesor ¿aprendo mejor?</th>\n      <th>¿Los profesores de ciencias ofrecen diversas actividades grupales de un mismo tema, para que los estudiantes, elijan en la que quieren trabajar?</th>\n      <th>¿Los profesores de ciencias integran a todos los estudiantes para que participen en las actividades grupales dentro de la sala de clases?</th>\n      <th>¿Los profesores de ciencias integran a todos los estudiantes en grupos, para que participen en las actividades de investigación, fuera del colegio?</th>\n      <th>¿Los profesores, muestran interés por reforzar a los alumnos que más les cuesta?</th>\n      <th>Cuando el profesor nos hace realizar actividades variadas, en ciencias ¿comprendo mejor la materia?</th>\n      <th>¿Los profesores de ciencias integran a todos los estudiantes para que participen en las actividades prácticas de laboratorio?</th>\n      <th>En las clases de ciencias, ¿algunos alumnos son evaluados con carpetas de actividades realizadas en el colegio y fuera de él?</th>\n    </tr>\n  </thead>\n  <tbody>\n    <tr>\n      <th>0</th>\n      <td>6.8</td>\n      <td>Ocasionalmente</td>\n      <td>Casi siempre</td>\n      <td>Siempre, en todas las clases</td>\n      <td>Siempre, en todas las clases</td>\n      <td>Siempre, en todas las clases</td>\n      <td>Casi siempre</td>\n      <td>Siempre, en todas las clases</td>\n      <td>Nunca</td>\n      <td>Rara vez</td>\n      <td>...</td>\n      <td>Casi siempre</td>\n      <td>Siempre, en todas las clases</td>\n      <td>Siempre, en todas las clases</td>\n      <td>Casi siempre</td>\n      <td>Casi siempre</td>\n      <td>Rara vez</td>\n      <td>Casi siempre</td>\n      <td>Siempre, en todas las clases</td>\n      <td>Siempre, en todas las clases</td>\n      <td>Nunca</td>\n    </tr>\n    <tr>\n      <th>1</th>\n      <td>6.7</td>\n      <td>Siempre, en todas las clases</td>\n      <td>Siempre, en todas las clases</td>\n      <td>Siempre, en todas las clases</td>\n      <td>Siempre, en todas las clases</td>\n      <td>Casi siempre</td>\n      <td>Siempre, en todas las clases</td>\n      <td>Siempre, en todas las clases</td>\n      <td>Siempre, en todas las clases</td>\n      <td>Siempre, en todas las clases</td>\n      <td>...</td>\n      <td>Siempre, en todas las clases</td>\n      <td>Siempre, en todas las clases</td>\n      <td>Siempre, en todas las clases</td>\n      <td>Siempre, en todas las clases</td>\n      <td>Siempre, en todas las clases</td>\n      <td>Siempre, en todas las clases</td>\n      <td>Siempre, en todas las clases</td>\n      <td>Siempre, en todas las clases</td>\n      <td>Siempre, en todas las clases</td>\n      <td>Siempre, en todas las clases</td>\n    </tr>\n    <tr>\n      <th>2</th>\n      <td>6.1</td>\n      <td>Siempre, en todas las clases</td>\n      <td>Siempre, en todas las clases</td>\n      <td>Siempre, en todas las clases</td>\n      <td>Siempre, en todas las clases</td>\n      <td>Ocasionalmente</td>\n      <td>Siempre, en todas las clases</td>\n      <td>Siempre, en todas las clases</td>\n      <td>Nunca</td>\n      <td>Ocasionalmente</td>\n      <td>...</td>\n      <td>Siempre, en todas las clases</td>\n      <td>Siempre, en todas las clases</td>\n      <td>Siempre, en todas las clases</td>\n      <td>Siempre, en todas las clases</td>\n      <td>Siempre, en todas las clases</td>\n      <td>Nunca</td>\n      <td>Siempre, en todas las clases</td>\n      <td>Siempre, en todas las clases</td>\n      <td>Siempre, en todas las clases</td>\n      <td>Ocasionalmente</td>\n    </tr>\n    <tr>\n      <th>3</th>\n      <td>4.6</td>\n      <td>Casi siempre</td>\n      <td>Casi siempre</td>\n      <td>Rara vez</td>\n      <td>Casi siempre</td>\n      <td>Casi siempre</td>\n      <td>Casi siempre</td>\n      <td>Ocasionalmente</td>\n      <td>Nunca</td>\n      <td>Ocasionalmente</td>\n      <td>...</td>\n      <td>Nunca</td>\n      <td>Casi siempre</td>\n      <td>Siempre, en todas las clases</td>\n      <td>Ocasionalmente</td>\n      <td>Casi siempre</td>\n      <td>Siempre, en todas las clases</td>\n      <td>Rara vez</td>\n      <td>Ocasionalmente</td>\n      <td>Rara vez</td>\n      <td>Nunca</td>\n    </tr>\n    <tr>\n      <th>4</th>\n      <td>6.5</td>\n      <td>Siempre, en todas las clases</td>\n      <td>Siempre, en todas las clases</td>\n      <td>Siempre, en todas las clases</td>\n      <td>Siempre, en todas las clases</td>\n      <td>Siempre, en todas las clases</td>\n      <td>Siempre, en todas las clases</td>\n      <td>Casi siempre</td>\n      <td>Nunca</td>\n      <td>Ocasionalmente</td>\n      <td>...</td>\n      <td>Siempre, en todas las clases</td>\n      <td>Siempre, en todas las clases</td>\n      <td>Siempre, en todas las clases</td>\n      <td>Siempre, en todas las clases</td>\n      <td>Siempre, en todas las clases</td>\n      <td>Ocasionalmente</td>\n      <td>Siempre, en todas las clases</td>\n      <td>Siempre, en todas las clases</td>\n      <td>Siempre, en todas las clases</td>\n      <td>Nunca</td>\n    </tr>\n  </tbody>\n</table>\n<p>5 rows × 32 columns</p>\n</div>"
     },
     "execution_count": 9,
     "metadata": {},
     "output_type": "execute_result"
    }
   ],
   "source": [
    "log.debug(f\"Importando datos de {QNA_COMPLETE_PATH}\")\n",
    "df = pd.read_excel(QNA_COMPLETE_PATH)\n",
    "\n",
    "df.head()"
   ]
  },
  {
   "cell_type": "code",
   "execution_count": 10,
   "metadata": {
    "pycharm": {
     "name": "#%%\n"
    }
   },
   "outputs": [
    {
     "data": {
      "text/plain": "['¿Los profesores de ciencias consideran los intereses de los alumnos para elaborar y organizar las evaluaciones?',\n 'De las actividades realizadas en clase ¿el profesor considera y respeta nuestros intereses?',\n '¿El profesor retroalimenta y refuerza en todas las clases lo que hemos ido aprendiendo?',\n 'El profesor de la clase de ciencias ¿anota y explica el objetivo que se va a trabajar durante la clase?',\n 'El profesor, al cierre de su clase ¿realiza preguntas para verificar si hemos aprendido?',\n 'Cuando el profesor da tareas ¿las explica claramente y nos da ejemplos que orientan para realizarlas?',\n 'Durante la actividad ¿el profesor circula explicando y resolviendo dudas?',\n '¿Se realizan salidas a terreno: museos, zoológicos y otros lugares que ayudan al aprendizaje?',\n 'Para hacer las clases, el profesor ¿nos lleva a otros espacios motivantes para que aprendamos mejor?',\n 'El profesor de ciencias ¿presenta en sus clases material atractivo para aprender?',\n '¿Los profesores comprueban clase a clase los avances de lo aprendido?',\n '¿El profesor, nos ayuda para que todos podamos corregir los errores antes de evaluar?',\n 'En las clases de ciencias, ¿todos los alumnos hacen las mismas pruebas?',\n '¿En las clases de ciencias, algunos alumnos son evaluados con informes escritos u otra forma?',\n '¿En las clases de ciencias, algunos alumnos no realizan pruebas escritas?',\n 'En las pruebas de Ciencias, ¿hay variedad de formas de preguntar la materia, ejemplo; alternativas, sopa de letras, completación de frase, ¿términos pareados y otros?',\n 'En las actividades de ciencias ¿usamos tecnologías como data, computadores, tablet, videos, etc?',\n 'Cuando el profesor explica utilizando aparatos tecnológicos ¿comprendo mejor la materia?',\n '¿El profesor realiza distintas actividades durante la clase para que podamos aprender?',\n 'Cuando tenemos salidas pedagógicas a museos, parques, zoológicos, o algún otro lugar ¿comprendo mejor la materia?',\n 'Durante la actividad, ¿el profesor promueve a que todos participen activamente dando opinión o haciendo preguntas respecto de la materia?',\n 'Cuando me queda alguna duda de la clase, ¿me dirijo confiadamente al profesor a preguntar?',\n 'Cuando el profesor es cercano conmigo y mis compañeros, ¿nos da confianza y seguridad para preguntar todas las dudas?',\n 'Cuando tengo más cercanía y confianza con el profesor ¿aprendo mejor?',\n '¿Los profesores de ciencias ofrecen diversas actividades grupales de un mismo tema, para que los estudiantes, elijan en la que quieren trabajar?',\n '¿Los profesores de ciencias integran a todos los estudiantes para que participen en las actividades grupales dentro de la sala de clases?',\n '¿Los profesores de ciencias integran a todos los estudiantes en grupos, para que participen en las actividades de investigación, fuera del colegio?',\n '¿Los profesores, muestran interés por reforzar a los alumnos que más les cuesta?',\n 'Cuando el profesor nos hace realizar actividades variadas, en ciencias ¿comprendo mejor la materia?',\n '¿Los profesores de ciencias integran a todos los estudiantes para que participen en las actividades prácticas de laboratorio?',\n 'En las clases de ciencias, ¿algunos alumnos son evaluados con carpetas de actividades realizadas en el colegio y fuera de él?']"
     },
     "execution_count": 10,
     "metadata": {},
     "output_type": "execute_result"
    }
   ],
   "source": [
    "questions = list(df.columns)[1:]\n",
    "questions"
   ]
  },
  {
   "cell_type": "code",
   "execution_count": 11,
   "metadata": {
    "pycharm": {
     "name": "#%%\n"
    }
   },
   "outputs": [
    {
     "name": "stderr",
     "output_type": "stream",
     "text": [
      "DEBUG: (2023-01-08 19:19:44,592) [2321751420.py: 4] Renombrando columnas\n"
     ]
    },
    {
     "data": {
      "text/plain": "   Notas                            P1                            P2  \\\n0    6.8                Ocasionalmente                  Casi siempre   \n1    6.7  Siempre, en todas las clases  Siempre, en todas las clases   \n2    6.1  Siempre, en todas las clases  Siempre, en todas las clases   \n3    4.6                  Casi siempre                  Casi siempre   \n4    6.5  Siempre, en todas las clases  Siempre, en todas las clases   \n\n                             P3                            P4  \\\n0  Siempre, en todas las clases  Siempre, en todas las clases   \n1  Siempre, en todas las clases  Siempre, en todas las clases   \n2  Siempre, en todas las clases  Siempre, en todas las clases   \n3                      Rara vez                  Casi siempre   \n4  Siempre, en todas las clases  Siempre, en todas las clases   \n\n                             P5                            P6  \\\n0  Siempre, en todas las clases                  Casi siempre   \n1                  Casi siempre  Siempre, en todas las clases   \n2                Ocasionalmente  Siempre, en todas las clases   \n3                  Casi siempre                  Casi siempre   \n4  Siempre, en todas las clases  Siempre, en todas las clases   \n\n                             P7                            P8  \\\n0  Siempre, en todas las clases                         Nunca   \n1  Siempre, en todas las clases  Siempre, en todas las clases   \n2  Siempre, en todas las clases                         Nunca   \n3                Ocasionalmente                         Nunca   \n4                  Casi siempre                         Nunca   \n\n                             P9  ...                           P22  \\\n0                      Rara vez  ...                  Casi siempre   \n1  Siempre, en todas las clases  ...  Siempre, en todas las clases   \n2                Ocasionalmente  ...  Siempre, en todas las clases   \n3                Ocasionalmente  ...                         Nunca   \n4                Ocasionalmente  ...  Siempre, en todas las clases   \n\n                            P23                           P24  \\\n0  Siempre, en todas las clases  Siempre, en todas las clases   \n1  Siempre, en todas las clases  Siempre, en todas las clases   \n2  Siempre, en todas las clases  Siempre, en todas las clases   \n3                  Casi siempre  Siempre, en todas las clases   \n4  Siempre, en todas las clases  Siempre, en todas las clases   \n\n                            P25                           P26  \\\n0                  Casi siempre                  Casi siempre   \n1  Siempre, en todas las clases  Siempre, en todas las clases   \n2  Siempre, en todas las clases  Siempre, en todas las clases   \n3                Ocasionalmente                  Casi siempre   \n4  Siempre, en todas las clases  Siempre, en todas las clases   \n\n                            P27                           P28  \\\n0                      Rara vez                  Casi siempre   \n1  Siempre, en todas las clases  Siempre, en todas las clases   \n2                         Nunca  Siempre, en todas las clases   \n3  Siempre, en todas las clases                      Rara vez   \n4                Ocasionalmente  Siempre, en todas las clases   \n\n                            P29                           P30  \\\n0  Siempre, en todas las clases  Siempre, en todas las clases   \n1  Siempre, en todas las clases  Siempre, en todas las clases   \n2  Siempre, en todas las clases  Siempre, en todas las clases   \n3                Ocasionalmente                      Rara vez   \n4  Siempre, en todas las clases  Siempre, en todas las clases   \n\n                            P31  \n0                         Nunca  \n1  Siempre, en todas las clases  \n2                Ocasionalmente  \n3                         Nunca  \n4                         Nunca  \n\n[5 rows x 32 columns]",
      "text/html": "<div>\n<style scoped>\n    .dataframe tbody tr th:only-of-type {\n        vertical-align: middle;\n    }\n\n    .dataframe tbody tr th {\n        vertical-align: top;\n    }\n\n    .dataframe thead th {\n        text-align: right;\n    }\n</style>\n<table border=\"1\" class=\"dataframe\">\n  <thead>\n    <tr style=\"text-align: right;\">\n      <th></th>\n      <th>Notas</th>\n      <th>P1</th>\n      <th>P2</th>\n      <th>P3</th>\n      <th>P4</th>\n      <th>P5</th>\n      <th>P6</th>\n      <th>P7</th>\n      <th>P8</th>\n      <th>P9</th>\n      <th>...</th>\n      <th>P22</th>\n      <th>P23</th>\n      <th>P24</th>\n      <th>P25</th>\n      <th>P26</th>\n      <th>P27</th>\n      <th>P28</th>\n      <th>P29</th>\n      <th>P30</th>\n      <th>P31</th>\n    </tr>\n  </thead>\n  <tbody>\n    <tr>\n      <th>0</th>\n      <td>6.8</td>\n      <td>Ocasionalmente</td>\n      <td>Casi siempre</td>\n      <td>Siempre, en todas las clases</td>\n      <td>Siempre, en todas las clases</td>\n      <td>Siempre, en todas las clases</td>\n      <td>Casi siempre</td>\n      <td>Siempre, en todas las clases</td>\n      <td>Nunca</td>\n      <td>Rara vez</td>\n      <td>...</td>\n      <td>Casi siempre</td>\n      <td>Siempre, en todas las clases</td>\n      <td>Siempre, en todas las clases</td>\n      <td>Casi siempre</td>\n      <td>Casi siempre</td>\n      <td>Rara vez</td>\n      <td>Casi siempre</td>\n      <td>Siempre, en todas las clases</td>\n      <td>Siempre, en todas las clases</td>\n      <td>Nunca</td>\n    </tr>\n    <tr>\n      <th>1</th>\n      <td>6.7</td>\n      <td>Siempre, en todas las clases</td>\n      <td>Siempre, en todas las clases</td>\n      <td>Siempre, en todas las clases</td>\n      <td>Siempre, en todas las clases</td>\n      <td>Casi siempre</td>\n      <td>Siempre, en todas las clases</td>\n      <td>Siempre, en todas las clases</td>\n      <td>Siempre, en todas las clases</td>\n      <td>Siempre, en todas las clases</td>\n      <td>...</td>\n      <td>Siempre, en todas las clases</td>\n      <td>Siempre, en todas las clases</td>\n      <td>Siempre, en todas las clases</td>\n      <td>Siempre, en todas las clases</td>\n      <td>Siempre, en todas las clases</td>\n      <td>Siempre, en todas las clases</td>\n      <td>Siempre, en todas las clases</td>\n      <td>Siempre, en todas las clases</td>\n      <td>Siempre, en todas las clases</td>\n      <td>Siempre, en todas las clases</td>\n    </tr>\n    <tr>\n      <th>2</th>\n      <td>6.1</td>\n      <td>Siempre, en todas las clases</td>\n      <td>Siempre, en todas las clases</td>\n      <td>Siempre, en todas las clases</td>\n      <td>Siempre, en todas las clases</td>\n      <td>Ocasionalmente</td>\n      <td>Siempre, en todas las clases</td>\n      <td>Siempre, en todas las clases</td>\n      <td>Nunca</td>\n      <td>Ocasionalmente</td>\n      <td>...</td>\n      <td>Siempre, en todas las clases</td>\n      <td>Siempre, en todas las clases</td>\n      <td>Siempre, en todas las clases</td>\n      <td>Siempre, en todas las clases</td>\n      <td>Siempre, en todas las clases</td>\n      <td>Nunca</td>\n      <td>Siempre, en todas las clases</td>\n      <td>Siempre, en todas las clases</td>\n      <td>Siempre, en todas las clases</td>\n      <td>Ocasionalmente</td>\n    </tr>\n    <tr>\n      <th>3</th>\n      <td>4.6</td>\n      <td>Casi siempre</td>\n      <td>Casi siempre</td>\n      <td>Rara vez</td>\n      <td>Casi siempre</td>\n      <td>Casi siempre</td>\n      <td>Casi siempre</td>\n      <td>Ocasionalmente</td>\n      <td>Nunca</td>\n      <td>Ocasionalmente</td>\n      <td>...</td>\n      <td>Nunca</td>\n      <td>Casi siempre</td>\n      <td>Siempre, en todas las clases</td>\n      <td>Ocasionalmente</td>\n      <td>Casi siempre</td>\n      <td>Siempre, en todas las clases</td>\n      <td>Rara vez</td>\n      <td>Ocasionalmente</td>\n      <td>Rara vez</td>\n      <td>Nunca</td>\n    </tr>\n    <tr>\n      <th>4</th>\n      <td>6.5</td>\n      <td>Siempre, en todas las clases</td>\n      <td>Siempre, en todas las clases</td>\n      <td>Siempre, en todas las clases</td>\n      <td>Siempre, en todas las clases</td>\n      <td>Siempre, en todas las clases</td>\n      <td>Siempre, en todas las clases</td>\n      <td>Casi siempre</td>\n      <td>Nunca</td>\n      <td>Ocasionalmente</td>\n      <td>...</td>\n      <td>Siempre, en todas las clases</td>\n      <td>Siempre, en todas las clases</td>\n      <td>Siempre, en todas las clases</td>\n      <td>Siempre, en todas las clases</td>\n      <td>Siempre, en todas las clases</td>\n      <td>Ocasionalmente</td>\n      <td>Siempre, en todas las clases</td>\n      <td>Siempre, en todas las clases</td>\n      <td>Siempre, en todas las clases</td>\n      <td>Nunca</td>\n    </tr>\n  </tbody>\n</table>\n<p>5 rows × 32 columns</p>\n</div>"
     },
     "execution_count": 11,
     "metadata": {},
     "output_type": "execute_result"
    }
   ],
   "source": [
    "import copy\n",
    "\n",
    "\n",
    "log.debug(\"Renombrando columnas\")\n",
    "questions_copy = copy.copy(questions)\n",
    "for i in range(len(questions)):\n",
    "    # questions_copy[i] = f\"P{i+1}.: \" + questions[i]\n",
    "    questions_copy[i] = f\"P{i+1}\"\n",
    "\n",
    "df.columns = questions = [\"Notas\"] +  questions_copy\n",
    "\n",
    "\n",
    "df.head()"
   ]
  },
  {
   "cell_type": "markdown",
   "metadata": {
    "pycharm": {
     "name": "#%% md\n"
    }
   },
   "source": [
    "# Reescalamiento y codificación"
   ]
  },
  {
   "cell_type": "code",
   "execution_count": 12,
   "metadata": {
    "pycharm": {
     "name": "#%%\n"
    }
   },
   "outputs": [],
   "source": [
    "scales = [\n",
    "    \"Nunca\",\n",
    "    \"Rara vez\",\n",
    "    \"Ocasionalmente\",\n",
    "    \"Casi siempre\",\n",
    "    \"Siempre, en todas las clases\"\n",
    "]"
   ]
  },
  {
   "cell_type": "markdown",
   "metadata": {
    "pycharm": {
     "name": "#%% md\n"
    }
   },
   "source": [
    "Codificamos las respuestas para hacer la regresión"
   ]
  },
  {
   "cell_type": "code",
   "execution_count": 13,
   "metadata": {
    "pycharm": {
     "name": "#%%\n"
    }
   },
   "outputs": [
    {
     "data": {
      "text/plain": "    P1  P2  P3  P4  P5  P6  P7  P8  P9  P10  ...  P24  P25  P26  P27  P28  \\\n0    0   1   2   2   2   1   2  -2  -1    1  ...    2    1    1   -1    1   \n1    2   2   2   2   1   2   2   2   2    2  ...    2    2    2    2    2   \n2    2   2   2   2   0   2   2  -2   0    2  ...    2    2    2   -2    2   \n3    1   1  -1   1   1   1   0  -2   0    0  ...    2    0    1    2   -1   \n4    2   2   2   2   2   2   1  -2   0    2  ...    2    2    2    0    2   \n..  ..  ..  ..  ..  ..  ..  ..  ..  ..  ...  ...  ...  ...  ...  ...  ...   \n81   1   2   1   2   1   1   1  -1   1    2  ...    1    1    1    1    2   \n82   0  -1   1   2   0   2  -1  -1  -1   -2  ...   -1    0    0    0    0   \n83   2   0   1   2   2   0   2  -2  -1    2  ...   -1    0    2    1    2   \n84   2   2   2   2   2   2   2  -1  -1    2  ...    2    1    2    2    2   \n85   1   1   0   1   0   0   1  -1  -1   -1  ...    0   -1    1   -1   -1   \n\n    P29  P30  P31  Notas binaria  Notas continuas  \n0     2    2   -2              1         1.000000  \n1     2    2    2              1         0.958333  \n2     2    2    0              1         0.708333  \n3     0   -1   -2              0         0.083333  \n4     2    2   -2              1         0.875000  \n..  ...  ...  ...            ...              ...  \n81    1    1    1              0         0.166667  \n82   -2   -2   -2              0         0.541667  \n83    1    2   -2              1         0.916667  \n84    2    2    0              1         0.833333  \n85    0    0   -2              0         0.000000  \n\n[86 rows x 33 columns]",
      "text/html": "<div>\n<style scoped>\n    .dataframe tbody tr th:only-of-type {\n        vertical-align: middle;\n    }\n\n    .dataframe tbody tr th {\n        vertical-align: top;\n    }\n\n    .dataframe thead th {\n        text-align: right;\n    }\n</style>\n<table border=\"1\" class=\"dataframe\">\n  <thead>\n    <tr style=\"text-align: right;\">\n      <th></th>\n      <th>P1</th>\n      <th>P2</th>\n      <th>P3</th>\n      <th>P4</th>\n      <th>P5</th>\n      <th>P6</th>\n      <th>P7</th>\n      <th>P8</th>\n      <th>P9</th>\n      <th>P10</th>\n      <th>...</th>\n      <th>P24</th>\n      <th>P25</th>\n      <th>P26</th>\n      <th>P27</th>\n      <th>P28</th>\n      <th>P29</th>\n      <th>P30</th>\n      <th>P31</th>\n      <th>Notas binaria</th>\n      <th>Notas continuas</th>\n    </tr>\n  </thead>\n  <tbody>\n    <tr>\n      <th>0</th>\n      <td>0</td>\n      <td>1</td>\n      <td>2</td>\n      <td>2</td>\n      <td>2</td>\n      <td>1</td>\n      <td>2</td>\n      <td>-2</td>\n      <td>-1</td>\n      <td>1</td>\n      <td>...</td>\n      <td>2</td>\n      <td>1</td>\n      <td>1</td>\n      <td>-1</td>\n      <td>1</td>\n      <td>2</td>\n      <td>2</td>\n      <td>-2</td>\n      <td>1</td>\n      <td>1.000000</td>\n    </tr>\n    <tr>\n      <th>1</th>\n      <td>2</td>\n      <td>2</td>\n      <td>2</td>\n      <td>2</td>\n      <td>1</td>\n      <td>2</td>\n      <td>2</td>\n      <td>2</td>\n      <td>2</td>\n      <td>2</td>\n      <td>...</td>\n      <td>2</td>\n      <td>2</td>\n      <td>2</td>\n      <td>2</td>\n      <td>2</td>\n      <td>2</td>\n      <td>2</td>\n      <td>2</td>\n      <td>1</td>\n      <td>0.958333</td>\n    </tr>\n    <tr>\n      <th>2</th>\n      <td>2</td>\n      <td>2</td>\n      <td>2</td>\n      <td>2</td>\n      <td>0</td>\n      <td>2</td>\n      <td>2</td>\n      <td>-2</td>\n      <td>0</td>\n      <td>2</td>\n      <td>...</td>\n      <td>2</td>\n      <td>2</td>\n      <td>2</td>\n      <td>-2</td>\n      <td>2</td>\n      <td>2</td>\n      <td>2</td>\n      <td>0</td>\n      <td>1</td>\n      <td>0.708333</td>\n    </tr>\n    <tr>\n      <th>3</th>\n      <td>1</td>\n      <td>1</td>\n      <td>-1</td>\n      <td>1</td>\n      <td>1</td>\n      <td>1</td>\n      <td>0</td>\n      <td>-2</td>\n      <td>0</td>\n      <td>0</td>\n      <td>...</td>\n      <td>2</td>\n      <td>0</td>\n      <td>1</td>\n      <td>2</td>\n      <td>-1</td>\n      <td>0</td>\n      <td>-1</td>\n      <td>-2</td>\n      <td>0</td>\n      <td>0.083333</td>\n    </tr>\n    <tr>\n      <th>4</th>\n      <td>2</td>\n      <td>2</td>\n      <td>2</td>\n      <td>2</td>\n      <td>2</td>\n      <td>2</td>\n      <td>1</td>\n      <td>-2</td>\n      <td>0</td>\n      <td>2</td>\n      <td>...</td>\n      <td>2</td>\n      <td>2</td>\n      <td>2</td>\n      <td>0</td>\n      <td>2</td>\n      <td>2</td>\n      <td>2</td>\n      <td>-2</td>\n      <td>1</td>\n      <td>0.875000</td>\n    </tr>\n    <tr>\n      <th>...</th>\n      <td>...</td>\n      <td>...</td>\n      <td>...</td>\n      <td>...</td>\n      <td>...</td>\n      <td>...</td>\n      <td>...</td>\n      <td>...</td>\n      <td>...</td>\n      <td>...</td>\n      <td>...</td>\n      <td>...</td>\n      <td>...</td>\n      <td>...</td>\n      <td>...</td>\n      <td>...</td>\n      <td>...</td>\n      <td>...</td>\n      <td>...</td>\n      <td>...</td>\n      <td>...</td>\n    </tr>\n    <tr>\n      <th>81</th>\n      <td>1</td>\n      <td>2</td>\n      <td>1</td>\n      <td>2</td>\n      <td>1</td>\n      <td>1</td>\n      <td>1</td>\n      <td>-1</td>\n      <td>1</td>\n      <td>2</td>\n      <td>...</td>\n      <td>1</td>\n      <td>1</td>\n      <td>1</td>\n      <td>1</td>\n      <td>2</td>\n      <td>1</td>\n      <td>1</td>\n      <td>1</td>\n      <td>0</td>\n      <td>0.166667</td>\n    </tr>\n    <tr>\n      <th>82</th>\n      <td>0</td>\n      <td>-1</td>\n      <td>1</td>\n      <td>2</td>\n      <td>0</td>\n      <td>2</td>\n      <td>-1</td>\n      <td>-1</td>\n      <td>-1</td>\n      <td>-2</td>\n      <td>...</td>\n      <td>-1</td>\n      <td>0</td>\n      <td>0</td>\n      <td>0</td>\n      <td>0</td>\n      <td>-2</td>\n      <td>-2</td>\n      <td>-2</td>\n      <td>0</td>\n      <td>0.541667</td>\n    </tr>\n    <tr>\n      <th>83</th>\n      <td>2</td>\n      <td>0</td>\n      <td>1</td>\n      <td>2</td>\n      <td>2</td>\n      <td>0</td>\n      <td>2</td>\n      <td>-2</td>\n      <td>-1</td>\n      <td>2</td>\n      <td>...</td>\n      <td>-1</td>\n      <td>0</td>\n      <td>2</td>\n      <td>1</td>\n      <td>2</td>\n      <td>1</td>\n      <td>2</td>\n      <td>-2</td>\n      <td>1</td>\n      <td>0.916667</td>\n    </tr>\n    <tr>\n      <th>84</th>\n      <td>2</td>\n      <td>2</td>\n      <td>2</td>\n      <td>2</td>\n      <td>2</td>\n      <td>2</td>\n      <td>2</td>\n      <td>-1</td>\n      <td>-1</td>\n      <td>2</td>\n      <td>...</td>\n      <td>2</td>\n      <td>1</td>\n      <td>2</td>\n      <td>2</td>\n      <td>2</td>\n      <td>2</td>\n      <td>2</td>\n      <td>0</td>\n      <td>1</td>\n      <td>0.833333</td>\n    </tr>\n    <tr>\n      <th>85</th>\n      <td>1</td>\n      <td>1</td>\n      <td>0</td>\n      <td>1</td>\n      <td>0</td>\n      <td>0</td>\n      <td>1</td>\n      <td>-1</td>\n      <td>-1</td>\n      <td>-1</td>\n      <td>...</td>\n      <td>0</td>\n      <td>-1</td>\n      <td>1</td>\n      <td>-1</td>\n      <td>-1</td>\n      <td>0</td>\n      <td>0</td>\n      <td>-2</td>\n      <td>0</td>\n      <td>0.000000</td>\n    </tr>\n  </tbody>\n</table>\n<p>86 rows × 33 columns</p>\n</div>"
     },
     "execution_count": 13,
     "metadata": {},
     "output_type": "execute_result"
    }
   ],
   "source": [
    "from collections import OrderedDict\n",
    "df_enc = OrderedDict()\n",
    "\n",
    "encoder = {name: i-2 for i, name in enumerate(scales)}\n",
    "for col_name in questions_copy:\n",
    "    df_enc[col_name] = df[col_name].map(encoder)\n",
    "\n",
    "df_enc[\"Notas binaria\"] = (df[\"Notas\"] >= 6).astype(int)\n",
    "df_enc[\"Notas continuas\"] = (df[\"Notas\"] - min(df[\"Notas\"])) / (max(df[\"Notas\"]) - min(df[\"Notas\"]))\n",
    "\n",
    "df_enc = pd.DataFrame(df_enc)\n",
    "df_enc"
   ]
  },
  {
   "cell_type": "code",
   "execution_count": 14,
   "metadata": {
    "pycharm": {
     "name": "#%%\n"
    }
   },
   "outputs": [
    {
     "data": {
      "text/plain": "0      True\n1      True\n2      True\n3     False\n4      True\n      ...  \n81    False\n82    False\n83     True\n84     True\n85    False\nName: Notas, Length: 86, dtype: bool"
     },
     "execution_count": 14,
     "metadata": {},
     "output_type": "execute_result"
    }
   ],
   "source": [
    "df[\"Notas\"] >= 6"
   ]
  },
  {
   "cell_type": "code",
   "execution_count": 15,
   "metadata": {
    "pycharm": {
     "name": "#%%\n"
    }
   },
   "outputs": [
    {
     "data": {
      "text/plain": "              P1         P2         P3         P4         P5         P6  \\\ncount  86.000000  86.000000  86.000000  86.000000  86.000000  86.000000   \nmean    0.686047   1.023256   1.360465   1.662791   1.034884   1.174419   \nstd     1.031978   0.920061   0.866539   0.661735   0.975556   1.019710   \nmin    -2.000000  -1.000000  -2.000000  -1.000000  -2.000000  -2.000000   \n0%     -2.000000  -1.000000  -2.000000  -1.000000  -2.000000  -2.000000   \n10%    -1.000000   0.000000   0.000000   1.000000   0.000000   0.000000   \n20%     0.000000   0.000000   1.000000   1.000000   0.000000   0.000000   \n30%     0.000000   1.000000   1.000000   2.000000   1.000000   1.000000   \n40%     1.000000   1.000000   1.000000   2.000000   1.000000   1.000000   \n50%     1.000000   1.000000   2.000000   2.000000   1.000000   2.000000   \n60%     1.000000   1.000000   2.000000   2.000000   1.000000   2.000000   \n70%     1.000000   2.000000   2.000000   2.000000   2.000000   2.000000   \n80%     2.000000   2.000000   2.000000   2.000000   2.000000   2.000000   \n90%     2.000000   2.000000   2.000000   2.000000   2.000000   2.000000   \nmax     2.000000   2.000000   2.000000   2.000000   2.000000   2.000000   \n\n              P7         P8         P9        P10  ...        P24        P25  \\\ncount  86.000000  86.000000  86.000000  86.000000  ...  86.000000  86.000000   \nmean    1.302326  -1.639535  -1.093023   0.837209  ...   1.139535   0.500000   \nstd     0.946446   0.880011   1.047438   1.125746  ...   1.097192   1.317306   \nmin    -2.000000  -2.000000  -2.000000  -2.000000  ...  -2.000000  -2.000000   \n0%     -2.000000  -2.000000  -2.000000  -2.000000  ...  -2.000000  -2.000000   \n10%     0.000000  -2.000000  -2.000000  -1.000000  ...  -0.500000  -1.000000   \n20%     0.000000  -2.000000  -2.000000   0.000000  ...   0.000000  -1.000000   \n30%     1.000000  -2.000000  -2.000000   0.000000  ...   1.000000   0.000000   \n40%     1.000000  -2.000000  -2.000000   1.000000  ...   1.000000   0.000000   \n50%     2.000000  -2.000000  -1.000000   1.000000  ...   2.000000   1.000000   \n60%     2.000000  -2.000000  -1.000000   1.000000  ...   2.000000   1.000000   \n70%     2.000000  -2.000000  -1.000000   2.000000  ...   2.000000   1.500000   \n80%     2.000000  -2.000000   0.000000   2.000000  ...   2.000000   2.000000   \n90%     2.000000  -1.000000   0.000000   2.000000  ...   2.000000   2.000000   \nmax     2.000000   2.000000   2.000000   2.000000  ...   2.000000   2.000000   \n\n             P26        P27        P28        P29        P30        P31  \\\ncount  86.000000  86.000000  86.000000  86.000000  86.000000  86.000000   \nmean    1.279070  -0.046512   1.162791   0.953488   0.279070  -0.988372   \nstd     0.862979   1.637121   0.931292   1.072731   1.606246   1.231873   \nmin    -2.000000  -2.000000  -2.000000  -2.000000  -2.000000  -2.000000   \n0%     -2.000000  -2.000000  -2.000000  -2.000000  -2.000000  -2.000000   \n10%     0.000000  -2.000000   0.000000   0.000000  -2.000000  -2.000000   \n20%     1.000000  -2.000000   0.000000   0.000000  -2.000000  -2.000000   \n30%     1.000000  -1.500000   1.000000   0.000000  -1.000000  -2.000000   \n40%     1.000000  -1.000000   1.000000   1.000000   0.000000  -2.000000   \n50%     1.000000   0.000000   1.000000   1.000000   1.000000  -1.000000   \n60%     2.000000   1.000000   2.000000   1.000000   1.000000  -1.000000   \n70%     2.000000   1.000000   2.000000   2.000000   2.000000  -0.500000   \n80%     2.000000   2.000000   2.000000   2.000000   2.000000   0.000000   \n90%     2.000000   2.000000   2.000000   2.000000   2.000000   1.000000   \nmax     2.000000   2.000000   2.000000   2.000000   2.000000   2.000000   \n\n       Notas binaria  Notas continuas  \ncount      86.000000        86.000000  \nmean        0.453488         0.561047  \nstd         0.500752         0.281416  \nmin         0.000000         0.000000  \n0%          0.000000         0.000000  \n10%         0.000000         0.166667  \n20%         0.000000         0.250000  \n30%         0.000000         0.375000  \n40%         0.000000         0.500000  \n50%         0.000000         0.604167  \n60%         1.000000         0.666667  \n70%         1.000000         0.750000  \n80%         1.000000         0.833333  \n90%         1.000000         0.916667  \nmax         1.000000         1.000000  \n\n[15 rows x 33 columns]",
      "text/html": "<div>\n<style scoped>\n    .dataframe tbody tr th:only-of-type {\n        vertical-align: middle;\n    }\n\n    .dataframe tbody tr th {\n        vertical-align: top;\n    }\n\n    .dataframe thead th {\n        text-align: right;\n    }\n</style>\n<table border=\"1\" class=\"dataframe\">\n  <thead>\n    <tr style=\"text-align: right;\">\n      <th></th>\n      <th>P1</th>\n      <th>P2</th>\n      <th>P3</th>\n      <th>P4</th>\n      <th>P5</th>\n      <th>P6</th>\n      <th>P7</th>\n      <th>P8</th>\n      <th>P9</th>\n      <th>P10</th>\n      <th>...</th>\n      <th>P24</th>\n      <th>P25</th>\n      <th>P26</th>\n      <th>P27</th>\n      <th>P28</th>\n      <th>P29</th>\n      <th>P30</th>\n      <th>P31</th>\n      <th>Notas binaria</th>\n      <th>Notas continuas</th>\n    </tr>\n  </thead>\n  <tbody>\n    <tr>\n      <th>count</th>\n      <td>86.000000</td>\n      <td>86.000000</td>\n      <td>86.000000</td>\n      <td>86.000000</td>\n      <td>86.000000</td>\n      <td>86.000000</td>\n      <td>86.000000</td>\n      <td>86.000000</td>\n      <td>86.000000</td>\n      <td>86.000000</td>\n      <td>...</td>\n      <td>86.000000</td>\n      <td>86.000000</td>\n      <td>86.000000</td>\n      <td>86.000000</td>\n      <td>86.000000</td>\n      <td>86.000000</td>\n      <td>86.000000</td>\n      <td>86.000000</td>\n      <td>86.000000</td>\n      <td>86.000000</td>\n    </tr>\n    <tr>\n      <th>mean</th>\n      <td>0.686047</td>\n      <td>1.023256</td>\n      <td>1.360465</td>\n      <td>1.662791</td>\n      <td>1.034884</td>\n      <td>1.174419</td>\n      <td>1.302326</td>\n      <td>-1.639535</td>\n      <td>-1.093023</td>\n      <td>0.837209</td>\n      <td>...</td>\n      <td>1.139535</td>\n      <td>0.500000</td>\n      <td>1.279070</td>\n      <td>-0.046512</td>\n      <td>1.162791</td>\n      <td>0.953488</td>\n      <td>0.279070</td>\n      <td>-0.988372</td>\n      <td>0.453488</td>\n      <td>0.561047</td>\n    </tr>\n    <tr>\n      <th>std</th>\n      <td>1.031978</td>\n      <td>0.920061</td>\n      <td>0.866539</td>\n      <td>0.661735</td>\n      <td>0.975556</td>\n      <td>1.019710</td>\n      <td>0.946446</td>\n      <td>0.880011</td>\n      <td>1.047438</td>\n      <td>1.125746</td>\n      <td>...</td>\n      <td>1.097192</td>\n      <td>1.317306</td>\n      <td>0.862979</td>\n      <td>1.637121</td>\n      <td>0.931292</td>\n      <td>1.072731</td>\n      <td>1.606246</td>\n      <td>1.231873</td>\n      <td>0.500752</td>\n      <td>0.281416</td>\n    </tr>\n    <tr>\n      <th>min</th>\n      <td>-2.000000</td>\n      <td>-1.000000</td>\n      <td>-2.000000</td>\n      <td>-1.000000</td>\n      <td>-2.000000</td>\n      <td>-2.000000</td>\n      <td>-2.000000</td>\n      <td>-2.000000</td>\n      <td>-2.000000</td>\n      <td>-2.000000</td>\n      <td>...</td>\n      <td>-2.000000</td>\n      <td>-2.000000</td>\n      <td>-2.000000</td>\n      <td>-2.000000</td>\n      <td>-2.000000</td>\n      <td>-2.000000</td>\n      <td>-2.000000</td>\n      <td>-2.000000</td>\n      <td>0.000000</td>\n      <td>0.000000</td>\n    </tr>\n    <tr>\n      <th>0%</th>\n      <td>-2.000000</td>\n      <td>-1.000000</td>\n      <td>-2.000000</td>\n      <td>-1.000000</td>\n      <td>-2.000000</td>\n      <td>-2.000000</td>\n      <td>-2.000000</td>\n      <td>-2.000000</td>\n      <td>-2.000000</td>\n      <td>-2.000000</td>\n      <td>...</td>\n      <td>-2.000000</td>\n      <td>-2.000000</td>\n      <td>-2.000000</td>\n      <td>-2.000000</td>\n      <td>-2.000000</td>\n      <td>-2.000000</td>\n      <td>-2.000000</td>\n      <td>-2.000000</td>\n      <td>0.000000</td>\n      <td>0.000000</td>\n    </tr>\n    <tr>\n      <th>10%</th>\n      <td>-1.000000</td>\n      <td>0.000000</td>\n      <td>0.000000</td>\n      <td>1.000000</td>\n      <td>0.000000</td>\n      <td>0.000000</td>\n      <td>0.000000</td>\n      <td>-2.000000</td>\n      <td>-2.000000</td>\n      <td>-1.000000</td>\n      <td>...</td>\n      <td>-0.500000</td>\n      <td>-1.000000</td>\n      <td>0.000000</td>\n      <td>-2.000000</td>\n      <td>0.000000</td>\n      <td>0.000000</td>\n      <td>-2.000000</td>\n      <td>-2.000000</td>\n      <td>0.000000</td>\n      <td>0.166667</td>\n    </tr>\n    <tr>\n      <th>20%</th>\n      <td>0.000000</td>\n      <td>0.000000</td>\n      <td>1.000000</td>\n      <td>1.000000</td>\n      <td>0.000000</td>\n      <td>0.000000</td>\n      <td>0.000000</td>\n      <td>-2.000000</td>\n      <td>-2.000000</td>\n      <td>0.000000</td>\n      <td>...</td>\n      <td>0.000000</td>\n      <td>-1.000000</td>\n      <td>1.000000</td>\n      <td>-2.000000</td>\n      <td>0.000000</td>\n      <td>0.000000</td>\n      <td>-2.000000</td>\n      <td>-2.000000</td>\n      <td>0.000000</td>\n      <td>0.250000</td>\n    </tr>\n    <tr>\n      <th>30%</th>\n      <td>0.000000</td>\n      <td>1.000000</td>\n      <td>1.000000</td>\n      <td>2.000000</td>\n      <td>1.000000</td>\n      <td>1.000000</td>\n      <td>1.000000</td>\n      <td>-2.000000</td>\n      <td>-2.000000</td>\n      <td>0.000000</td>\n      <td>...</td>\n      <td>1.000000</td>\n      <td>0.000000</td>\n      <td>1.000000</td>\n      <td>-1.500000</td>\n      <td>1.000000</td>\n      <td>0.000000</td>\n      <td>-1.000000</td>\n      <td>-2.000000</td>\n      <td>0.000000</td>\n      <td>0.375000</td>\n    </tr>\n    <tr>\n      <th>40%</th>\n      <td>1.000000</td>\n      <td>1.000000</td>\n      <td>1.000000</td>\n      <td>2.000000</td>\n      <td>1.000000</td>\n      <td>1.000000</td>\n      <td>1.000000</td>\n      <td>-2.000000</td>\n      <td>-2.000000</td>\n      <td>1.000000</td>\n      <td>...</td>\n      <td>1.000000</td>\n      <td>0.000000</td>\n      <td>1.000000</td>\n      <td>-1.000000</td>\n      <td>1.000000</td>\n      <td>1.000000</td>\n      <td>0.000000</td>\n      <td>-2.000000</td>\n      <td>0.000000</td>\n      <td>0.500000</td>\n    </tr>\n    <tr>\n      <th>50%</th>\n      <td>1.000000</td>\n      <td>1.000000</td>\n      <td>2.000000</td>\n      <td>2.000000</td>\n      <td>1.000000</td>\n      <td>2.000000</td>\n      <td>2.000000</td>\n      <td>-2.000000</td>\n      <td>-1.000000</td>\n      <td>1.000000</td>\n      <td>...</td>\n      <td>2.000000</td>\n      <td>1.000000</td>\n      <td>1.000000</td>\n      <td>0.000000</td>\n      <td>1.000000</td>\n      <td>1.000000</td>\n      <td>1.000000</td>\n      <td>-1.000000</td>\n      <td>0.000000</td>\n      <td>0.604167</td>\n    </tr>\n    <tr>\n      <th>60%</th>\n      <td>1.000000</td>\n      <td>1.000000</td>\n      <td>2.000000</td>\n      <td>2.000000</td>\n      <td>1.000000</td>\n      <td>2.000000</td>\n      <td>2.000000</td>\n      <td>-2.000000</td>\n      <td>-1.000000</td>\n      <td>1.000000</td>\n      <td>...</td>\n      <td>2.000000</td>\n      <td>1.000000</td>\n      <td>2.000000</td>\n      <td>1.000000</td>\n      <td>2.000000</td>\n      <td>1.000000</td>\n      <td>1.000000</td>\n      <td>-1.000000</td>\n      <td>1.000000</td>\n      <td>0.666667</td>\n    </tr>\n    <tr>\n      <th>70%</th>\n      <td>1.000000</td>\n      <td>2.000000</td>\n      <td>2.000000</td>\n      <td>2.000000</td>\n      <td>2.000000</td>\n      <td>2.000000</td>\n      <td>2.000000</td>\n      <td>-2.000000</td>\n      <td>-1.000000</td>\n      <td>2.000000</td>\n      <td>...</td>\n      <td>2.000000</td>\n      <td>1.500000</td>\n      <td>2.000000</td>\n      <td>1.000000</td>\n      <td>2.000000</td>\n      <td>2.000000</td>\n      <td>2.000000</td>\n      <td>-0.500000</td>\n      <td>1.000000</td>\n      <td>0.750000</td>\n    </tr>\n    <tr>\n      <th>80%</th>\n      <td>2.000000</td>\n      <td>2.000000</td>\n      <td>2.000000</td>\n      <td>2.000000</td>\n      <td>2.000000</td>\n      <td>2.000000</td>\n      <td>2.000000</td>\n      <td>-2.000000</td>\n      <td>0.000000</td>\n      <td>2.000000</td>\n      <td>...</td>\n      <td>2.000000</td>\n      <td>2.000000</td>\n      <td>2.000000</td>\n      <td>2.000000</td>\n      <td>2.000000</td>\n      <td>2.000000</td>\n      <td>2.000000</td>\n      <td>0.000000</td>\n      <td>1.000000</td>\n      <td>0.833333</td>\n    </tr>\n    <tr>\n      <th>90%</th>\n      <td>2.000000</td>\n      <td>2.000000</td>\n      <td>2.000000</td>\n      <td>2.000000</td>\n      <td>2.000000</td>\n      <td>2.000000</td>\n      <td>2.000000</td>\n      <td>-1.000000</td>\n      <td>0.000000</td>\n      <td>2.000000</td>\n      <td>...</td>\n      <td>2.000000</td>\n      <td>2.000000</td>\n      <td>2.000000</td>\n      <td>2.000000</td>\n      <td>2.000000</td>\n      <td>2.000000</td>\n      <td>2.000000</td>\n      <td>1.000000</td>\n      <td>1.000000</td>\n      <td>0.916667</td>\n    </tr>\n    <tr>\n      <th>max</th>\n      <td>2.000000</td>\n      <td>2.000000</td>\n      <td>2.000000</td>\n      <td>2.000000</td>\n      <td>2.000000</td>\n      <td>2.000000</td>\n      <td>2.000000</td>\n      <td>2.000000</td>\n      <td>2.000000</td>\n      <td>2.000000</td>\n      <td>...</td>\n      <td>2.000000</td>\n      <td>2.000000</td>\n      <td>2.000000</td>\n      <td>2.000000</td>\n      <td>2.000000</td>\n      <td>2.000000</td>\n      <td>2.000000</td>\n      <td>2.000000</td>\n      <td>1.000000</td>\n      <td>1.000000</td>\n    </tr>\n  </tbody>\n</table>\n<p>15 rows × 33 columns</p>\n</div>"
     },
     "execution_count": 15,
     "metadata": {},
     "output_type": "execute_result"
    }
   ],
   "source": [
    "df_enc.describe(percentiles=[i / 10 for i in range(10)])"
   ]
  },
  {
   "cell_type": "markdown",
   "metadata": {
    "pycharm": {
     "name": "#%% md\n"
    }
   },
   "source": [
    "# Separación entrenamiento-test"
   ]
  },
  {
   "cell_type": "code",
   "execution_count": 16,
   "metadata": {
    "pycharm": {
     "name": "#%%\n"
    }
   },
   "outputs": [],
   "source": [
    "import statsmodels.api as sm"
   ]
  },
  {
   "cell_type": "markdown",
   "metadata": {
    "pycharm": {
     "name": "#%% md\n"
    }
   },
   "source": [
    "Asignamos como variable endógena (la variable dependiente) las notas (recordando que es 1 si la nota es mayor a 6 y 0 en otro caso)."
   ]
  },
  {
   "cell_type": "code",
   "execution_count": 17,
   "metadata": {
    "pycharm": {
     "name": "#%%\n"
    }
   },
   "outputs": [],
   "source": [
    "df_enc.endog = np.array(df_enc.pop(\"Notas binaria\")).reshape((-1, 1))"
   ]
  },
  {
   "cell_type": "code",
   "execution_count": 18,
   "metadata": {
    "pycharm": {
     "name": "#%%\n"
    },
    "scrolled": true
   },
   "outputs": [],
   "source": [
    "df_enc.endog_lin = np.array(df_enc.pop(\"Notas continuas\")).reshape((-1, 1))\n",
    "\n",
    "# df_enc.endog"
   ]
  },
  {
   "cell_type": "code",
   "execution_count": 19,
   "metadata": {
    "pycharm": {
     "name": "#%%\n"
    },
    "scrolled": true
   },
   "outputs": [
    {
     "data": {
      "text/plain": "0.45348837209302323"
     },
     "execution_count": 19,
     "metadata": {},
     "output_type": "execute_result"
    }
   ],
   "source": [
    "np.mean(df_enc.endog)"
   ]
  },
  {
   "cell_type": "code",
   "execution_count": 20,
   "metadata": {
    "pycharm": {
     "name": "#%%\n"
    }
   },
   "outputs": [
    {
     "data": {
      "text/plain": "0.5610465116279069"
     },
     "execution_count": 20,
     "metadata": {},
     "output_type": "execute_result"
    }
   ],
   "source": [
    "np.mean(df_enc.endog_lin)"
   ]
  },
  {
   "cell_type": "markdown",
   "metadata": {
    "pycharm": {
     "name": "#%% md\n"
    }
   },
   "source": [
    "Y asignamos como variables exógenas las respuestas a las preguntas."
   ]
  },
  {
   "cell_type": "code",
   "execution_count": 21,
   "metadata": {
    "pycharm": {
     "name": "#%%\n"
    }
   },
   "outputs": [
    {
     "data": {
      "text/plain": "    const  P1  P2  P3  P4  P5  P6  P7  P8  P9  ...  P22  P23  P24  P25  P26  \\\n0     1.0   0   1   2   2   2   1   2  -2  -1  ...    1    2    2    1    1   \n1     1.0   2   2   2   2   1   2   2   2   2  ...    2    2    2    2    2   \n2     1.0   2   2   2   2   0   2   2  -2   0  ...    2    2    2    2    2   \n3     1.0   1   1  -1   1   1   1   0  -2   0  ...   -2    1    2    0    1   \n4     1.0   2   2   2   2   2   2   1  -2   0  ...    2    2    2    2    2   \n..    ...  ..  ..  ..  ..  ..  ..  ..  ..  ..  ...  ...  ...  ...  ...  ...   \n81    1.0   1   2   1   2   1   1   1  -1   1  ...    1    1    1    1    1   \n82    1.0   0  -1   1   2   0   2  -1  -1  -1  ...   -2   -1   -1    0    0   \n83    1.0   2   0   1   2   2   0   2  -2  -1  ...    2    1   -1    0    2   \n84    1.0   2   2   2   2   2   2   2  -1  -1  ...    1    1    2    1    2   \n85    1.0   1   1   0   1   0   0   1  -1  -1  ...   -1    0    0   -1    1   \n\n    P27  P28  P29  P30  P31  \n0    -1    1    2    2   -2  \n1     2    2    2    2    2  \n2    -2    2    2    2    0  \n3     2   -1    0   -1   -2  \n4     0    2    2    2   -2  \n..  ...  ...  ...  ...  ...  \n81    1    2    1    1    1  \n82    0    0   -2   -2   -2  \n83    1    2    1    2   -2  \n84    2    2    2    2    0  \n85   -1   -1    0    0   -2  \n\n[86 rows x 32 columns]",
      "text/html": "<div>\n<style scoped>\n    .dataframe tbody tr th:only-of-type {\n        vertical-align: middle;\n    }\n\n    .dataframe tbody tr th {\n        vertical-align: top;\n    }\n\n    .dataframe thead th {\n        text-align: right;\n    }\n</style>\n<table border=\"1\" class=\"dataframe\">\n  <thead>\n    <tr style=\"text-align: right;\">\n      <th></th>\n      <th>const</th>\n      <th>P1</th>\n      <th>P2</th>\n      <th>P3</th>\n      <th>P4</th>\n      <th>P5</th>\n      <th>P6</th>\n      <th>P7</th>\n      <th>P8</th>\n      <th>P9</th>\n      <th>...</th>\n      <th>P22</th>\n      <th>P23</th>\n      <th>P24</th>\n      <th>P25</th>\n      <th>P26</th>\n      <th>P27</th>\n      <th>P28</th>\n      <th>P29</th>\n      <th>P30</th>\n      <th>P31</th>\n    </tr>\n  </thead>\n  <tbody>\n    <tr>\n      <th>0</th>\n      <td>1.0</td>\n      <td>0</td>\n      <td>1</td>\n      <td>2</td>\n      <td>2</td>\n      <td>2</td>\n      <td>1</td>\n      <td>2</td>\n      <td>-2</td>\n      <td>-1</td>\n      <td>...</td>\n      <td>1</td>\n      <td>2</td>\n      <td>2</td>\n      <td>1</td>\n      <td>1</td>\n      <td>-1</td>\n      <td>1</td>\n      <td>2</td>\n      <td>2</td>\n      <td>-2</td>\n    </tr>\n    <tr>\n      <th>1</th>\n      <td>1.0</td>\n      <td>2</td>\n      <td>2</td>\n      <td>2</td>\n      <td>2</td>\n      <td>1</td>\n      <td>2</td>\n      <td>2</td>\n      <td>2</td>\n      <td>2</td>\n      <td>...</td>\n      <td>2</td>\n      <td>2</td>\n      <td>2</td>\n      <td>2</td>\n      <td>2</td>\n      <td>2</td>\n      <td>2</td>\n      <td>2</td>\n      <td>2</td>\n      <td>2</td>\n    </tr>\n    <tr>\n      <th>2</th>\n      <td>1.0</td>\n      <td>2</td>\n      <td>2</td>\n      <td>2</td>\n      <td>2</td>\n      <td>0</td>\n      <td>2</td>\n      <td>2</td>\n      <td>-2</td>\n      <td>0</td>\n      <td>...</td>\n      <td>2</td>\n      <td>2</td>\n      <td>2</td>\n      <td>2</td>\n      <td>2</td>\n      <td>-2</td>\n      <td>2</td>\n      <td>2</td>\n      <td>2</td>\n      <td>0</td>\n    </tr>\n    <tr>\n      <th>3</th>\n      <td>1.0</td>\n      <td>1</td>\n      <td>1</td>\n      <td>-1</td>\n      <td>1</td>\n      <td>1</td>\n      <td>1</td>\n      <td>0</td>\n      <td>-2</td>\n      <td>0</td>\n      <td>...</td>\n      <td>-2</td>\n      <td>1</td>\n      <td>2</td>\n      <td>0</td>\n      <td>1</td>\n      <td>2</td>\n      <td>-1</td>\n      <td>0</td>\n      <td>-1</td>\n      <td>-2</td>\n    </tr>\n    <tr>\n      <th>4</th>\n      <td>1.0</td>\n      <td>2</td>\n      <td>2</td>\n      <td>2</td>\n      <td>2</td>\n      <td>2</td>\n      <td>2</td>\n      <td>1</td>\n      <td>-2</td>\n      <td>0</td>\n      <td>...</td>\n      <td>2</td>\n      <td>2</td>\n      <td>2</td>\n      <td>2</td>\n      <td>2</td>\n      <td>0</td>\n      <td>2</td>\n      <td>2</td>\n      <td>2</td>\n      <td>-2</td>\n    </tr>\n    <tr>\n      <th>...</th>\n      <td>...</td>\n      <td>...</td>\n      <td>...</td>\n      <td>...</td>\n      <td>...</td>\n      <td>...</td>\n      <td>...</td>\n      <td>...</td>\n      <td>...</td>\n      <td>...</td>\n      <td>...</td>\n      <td>...</td>\n      <td>...</td>\n      <td>...</td>\n      <td>...</td>\n      <td>...</td>\n      <td>...</td>\n      <td>...</td>\n      <td>...</td>\n      <td>...</td>\n      <td>...</td>\n    </tr>\n    <tr>\n      <th>81</th>\n      <td>1.0</td>\n      <td>1</td>\n      <td>2</td>\n      <td>1</td>\n      <td>2</td>\n      <td>1</td>\n      <td>1</td>\n      <td>1</td>\n      <td>-1</td>\n      <td>1</td>\n      <td>...</td>\n      <td>1</td>\n      <td>1</td>\n      <td>1</td>\n      <td>1</td>\n      <td>1</td>\n      <td>1</td>\n      <td>2</td>\n      <td>1</td>\n      <td>1</td>\n      <td>1</td>\n    </tr>\n    <tr>\n      <th>82</th>\n      <td>1.0</td>\n      <td>0</td>\n      <td>-1</td>\n      <td>1</td>\n      <td>2</td>\n      <td>0</td>\n      <td>2</td>\n      <td>-1</td>\n      <td>-1</td>\n      <td>-1</td>\n      <td>...</td>\n      <td>-2</td>\n      <td>-1</td>\n      <td>-1</td>\n      <td>0</td>\n      <td>0</td>\n      <td>0</td>\n      <td>0</td>\n      <td>-2</td>\n      <td>-2</td>\n      <td>-2</td>\n    </tr>\n    <tr>\n      <th>83</th>\n      <td>1.0</td>\n      <td>2</td>\n      <td>0</td>\n      <td>1</td>\n      <td>2</td>\n      <td>2</td>\n      <td>0</td>\n      <td>2</td>\n      <td>-2</td>\n      <td>-1</td>\n      <td>...</td>\n      <td>2</td>\n      <td>1</td>\n      <td>-1</td>\n      <td>0</td>\n      <td>2</td>\n      <td>1</td>\n      <td>2</td>\n      <td>1</td>\n      <td>2</td>\n      <td>-2</td>\n    </tr>\n    <tr>\n      <th>84</th>\n      <td>1.0</td>\n      <td>2</td>\n      <td>2</td>\n      <td>2</td>\n      <td>2</td>\n      <td>2</td>\n      <td>2</td>\n      <td>2</td>\n      <td>-1</td>\n      <td>-1</td>\n      <td>...</td>\n      <td>1</td>\n      <td>1</td>\n      <td>2</td>\n      <td>1</td>\n      <td>2</td>\n      <td>2</td>\n      <td>2</td>\n      <td>2</td>\n      <td>2</td>\n      <td>0</td>\n    </tr>\n    <tr>\n      <th>85</th>\n      <td>1.0</td>\n      <td>1</td>\n      <td>1</td>\n      <td>0</td>\n      <td>1</td>\n      <td>0</td>\n      <td>0</td>\n      <td>1</td>\n      <td>-1</td>\n      <td>-1</td>\n      <td>...</td>\n      <td>-1</td>\n      <td>0</td>\n      <td>0</td>\n      <td>-1</td>\n      <td>1</td>\n      <td>-1</td>\n      <td>-1</td>\n      <td>0</td>\n      <td>0</td>\n      <td>-2</td>\n    </tr>\n  </tbody>\n</table>\n<p>86 rows × 32 columns</p>\n</div>"
     },
     "execution_count": 21,
     "metadata": {},
     "output_type": "execute_result"
    }
   ],
   "source": [
    "df_enc.exog = sm.add_constant(df_enc)\n",
    "df_enc.exog"
   ]
  },
  {
   "cell_type": "code",
   "execution_count": 22,
   "metadata": {
    "pycharm": {
     "name": "#%%\n"
    }
   },
   "outputs": [
    {
     "name": "stdout",
     "output_type": "stream",
     "text": [
      "len(df_enc.exog_train) = 77,\n",
      "len(df_enc.exog_test) = 9,\n",
      "len(df_enc.endog_train) = 77,\n",
      "len(df_enc.endog_test) = 9\n"
     ]
    }
   ],
   "source": [
    "from sklearn.model_selection import train_test_split\n",
    "\n",
    "df_enc.exog_train, df_enc.exog_test, df_enc.endog_train, df_enc.endog_test = train_test_split(\n",
    "    df_enc.exog, df_enc.endog, test_size=0.10, random_state=42\n",
    ")\n",
    "\n",
    "df_enc.exog_lin_train, df_enc.exog_lin_test, df_enc.endog_lin_train, df_enc.endog_lin_test = train_test_split(\n",
    "    df_enc.exog, df_enc.endog_lin, test_size=0.10, random_state=42\n",
    ")\n",
    "print(f\"{len(df_enc.exog_train) = },\\n{len(df_enc.exog_test) = },\\n{len(df_enc.endog_train) = },\\n{len(df_enc.endog_test) = }\")"
   ]
  },
  {
   "cell_type": "markdown",
   "metadata": {
    "pycharm": {
     "name": "#%% md\n"
    }
   },
   "source": [
    "En el índice estarían los alumnos para el test"
   ]
  },
  {
   "cell_type": "code",
   "execution_count": 23,
   "metadata": {
    "pycharm": {
     "name": "#%%\n"
    }
   },
   "outputs": [
    {
     "data": {
      "text/plain": "    const  P1  P2  P3  P4  P5  P6  P7  P8  P9  ...  P22  P23  P24  P25  P26  \\\n75    1.0   1   0   1   2  -1   0   0  -2  -1  ...    1    1    2   -1    2   \n0     1.0   0   1   2   2   2   1   2  -2  -1  ...    1    2    2    1    1   \n70    1.0   2   2   2   2   2   2   2  -2  -1  ...    2    2    2    2    2   \n22    1.0   2   2   2   2   2   2   2  -1   0  ...    2    2    2    2    2   \n12    1.0  -1  -1   0   0   1  -2   2  -2  -2  ...    0    1    1    2    1   \n56    1.0  -1   1   2   1  -1   1   1  -2  -2  ...   -1    1    1   -1    2   \n10    1.0   0   1   2   2   1   0   1  -2  -1  ...    2    2    2    2    1   \n18    1.0   2   2   2   2   2   2   2  -2  -1  ...    2    2    2    2    2   \n4     1.0   2   2   2   2   2   2   1  -2   0  ...    2    2    2    2    2   \n\n    P27  P28  P29  P30  P31  \n75   -1    1    0   -1   -1  \n0    -1    1    2    2   -2  \n70   -2    2    2   -2   -2  \n22    2    2    2    2    0  \n12   -2    1    1    2   -2  \n56   -2    1    1   -2   -2  \n10    2    1    1    0    0  \n18   -2    2    2    2   -2  \n4     0    2    2    2   -2  \n\n[9 rows x 32 columns]",
      "text/html": "<div>\n<style scoped>\n    .dataframe tbody tr th:only-of-type {\n        vertical-align: middle;\n    }\n\n    .dataframe tbody tr th {\n        vertical-align: top;\n    }\n\n    .dataframe thead th {\n        text-align: right;\n    }\n</style>\n<table border=\"1\" class=\"dataframe\">\n  <thead>\n    <tr style=\"text-align: right;\">\n      <th></th>\n      <th>const</th>\n      <th>P1</th>\n      <th>P2</th>\n      <th>P3</th>\n      <th>P4</th>\n      <th>P5</th>\n      <th>P6</th>\n      <th>P7</th>\n      <th>P8</th>\n      <th>P9</th>\n      <th>...</th>\n      <th>P22</th>\n      <th>P23</th>\n      <th>P24</th>\n      <th>P25</th>\n      <th>P26</th>\n      <th>P27</th>\n      <th>P28</th>\n      <th>P29</th>\n      <th>P30</th>\n      <th>P31</th>\n    </tr>\n  </thead>\n  <tbody>\n    <tr>\n      <th>75</th>\n      <td>1.0</td>\n      <td>1</td>\n      <td>0</td>\n      <td>1</td>\n      <td>2</td>\n      <td>-1</td>\n      <td>0</td>\n      <td>0</td>\n      <td>-2</td>\n      <td>-1</td>\n      <td>...</td>\n      <td>1</td>\n      <td>1</td>\n      <td>2</td>\n      <td>-1</td>\n      <td>2</td>\n      <td>-1</td>\n      <td>1</td>\n      <td>0</td>\n      <td>-1</td>\n      <td>-1</td>\n    </tr>\n    <tr>\n      <th>0</th>\n      <td>1.0</td>\n      <td>0</td>\n      <td>1</td>\n      <td>2</td>\n      <td>2</td>\n      <td>2</td>\n      <td>1</td>\n      <td>2</td>\n      <td>-2</td>\n      <td>-1</td>\n      <td>...</td>\n      <td>1</td>\n      <td>2</td>\n      <td>2</td>\n      <td>1</td>\n      <td>1</td>\n      <td>-1</td>\n      <td>1</td>\n      <td>2</td>\n      <td>2</td>\n      <td>-2</td>\n    </tr>\n    <tr>\n      <th>70</th>\n      <td>1.0</td>\n      <td>2</td>\n      <td>2</td>\n      <td>2</td>\n      <td>2</td>\n      <td>2</td>\n      <td>2</td>\n      <td>2</td>\n      <td>-2</td>\n      <td>-1</td>\n      <td>...</td>\n      <td>2</td>\n      <td>2</td>\n      <td>2</td>\n      <td>2</td>\n      <td>2</td>\n      <td>-2</td>\n      <td>2</td>\n      <td>2</td>\n      <td>-2</td>\n      <td>-2</td>\n    </tr>\n    <tr>\n      <th>22</th>\n      <td>1.0</td>\n      <td>2</td>\n      <td>2</td>\n      <td>2</td>\n      <td>2</td>\n      <td>2</td>\n      <td>2</td>\n      <td>2</td>\n      <td>-1</td>\n      <td>0</td>\n      <td>...</td>\n      <td>2</td>\n      <td>2</td>\n      <td>2</td>\n      <td>2</td>\n      <td>2</td>\n      <td>2</td>\n      <td>2</td>\n      <td>2</td>\n      <td>2</td>\n      <td>0</td>\n    </tr>\n    <tr>\n      <th>12</th>\n      <td>1.0</td>\n      <td>-1</td>\n      <td>-1</td>\n      <td>0</td>\n      <td>0</td>\n      <td>1</td>\n      <td>-2</td>\n      <td>2</td>\n      <td>-2</td>\n      <td>-2</td>\n      <td>...</td>\n      <td>0</td>\n      <td>1</td>\n      <td>1</td>\n      <td>2</td>\n      <td>1</td>\n      <td>-2</td>\n      <td>1</td>\n      <td>1</td>\n      <td>2</td>\n      <td>-2</td>\n    </tr>\n    <tr>\n      <th>56</th>\n      <td>1.0</td>\n      <td>-1</td>\n      <td>1</td>\n      <td>2</td>\n      <td>1</td>\n      <td>-1</td>\n      <td>1</td>\n      <td>1</td>\n      <td>-2</td>\n      <td>-2</td>\n      <td>...</td>\n      <td>-1</td>\n      <td>1</td>\n      <td>1</td>\n      <td>-1</td>\n      <td>2</td>\n      <td>-2</td>\n      <td>1</td>\n      <td>1</td>\n      <td>-2</td>\n      <td>-2</td>\n    </tr>\n    <tr>\n      <th>10</th>\n      <td>1.0</td>\n      <td>0</td>\n      <td>1</td>\n      <td>2</td>\n      <td>2</td>\n      <td>1</td>\n      <td>0</td>\n      <td>1</td>\n      <td>-2</td>\n      <td>-1</td>\n      <td>...</td>\n      <td>2</td>\n      <td>2</td>\n      <td>2</td>\n      <td>2</td>\n      <td>1</td>\n      <td>2</td>\n      <td>1</td>\n      <td>1</td>\n      <td>0</td>\n      <td>0</td>\n    </tr>\n    <tr>\n      <th>18</th>\n      <td>1.0</td>\n      <td>2</td>\n      <td>2</td>\n      <td>2</td>\n      <td>2</td>\n      <td>2</td>\n      <td>2</td>\n      <td>2</td>\n      <td>-2</td>\n      <td>-1</td>\n      <td>...</td>\n      <td>2</td>\n      <td>2</td>\n      <td>2</td>\n      <td>2</td>\n      <td>2</td>\n      <td>-2</td>\n      <td>2</td>\n      <td>2</td>\n      <td>2</td>\n      <td>-2</td>\n    </tr>\n    <tr>\n      <th>4</th>\n      <td>1.0</td>\n      <td>2</td>\n      <td>2</td>\n      <td>2</td>\n      <td>2</td>\n      <td>2</td>\n      <td>2</td>\n      <td>1</td>\n      <td>-2</td>\n      <td>0</td>\n      <td>...</td>\n      <td>2</td>\n      <td>2</td>\n      <td>2</td>\n      <td>2</td>\n      <td>2</td>\n      <td>0</td>\n      <td>2</td>\n      <td>2</td>\n      <td>2</td>\n      <td>-2</td>\n    </tr>\n  </tbody>\n</table>\n<p>9 rows × 32 columns</p>\n</div>"
     },
     "execution_count": 23,
     "metadata": {},
     "output_type": "execute_result"
    }
   ],
   "source": [
    "df_enc.exog_test"
   ]
  },
  {
   "cell_type": "code",
   "execution_count": 24,
   "metadata": {
    "pycharm": {
     "name": "#%%\n"
    }
   },
   "outputs": [
    {
     "data": {
      "text/plain": "75    5.1\n0     6.8\n70    5.8\n22    6.4\n12    6.2\n56    5.1\n10    6.6\n18    5.7\n4     6.5\nName: Notas, dtype: float64"
     },
     "execution_count": 24,
     "metadata": {},
     "output_type": "execute_result"
    }
   ],
   "source": [
    "df[\"Notas\"][df_enc.exog_test.index]"
   ]
  },
  {
   "cell_type": "markdown",
   "metadata": {
    "pycharm": {
     "name": "#%% md\n"
    }
   },
   "source": [
    "# Primer modelo de regresión logística"
   ]
  },
  {
   "cell_type": "markdown",
   "metadata": {
    "pycharm": {
     "name": "#%% md\n"
    }
   },
   "source": [
    "Creamos el modelo y lo ajustamos. Luego revisamos los parámetros aprendidos"
   ]
  },
  {
   "cell_type": "code",
   "execution_count": 25,
   "metadata": {
    "pycharm": {
     "name": "#%%\n"
    }
   },
   "outputs": [
    {
     "name": "stdout",
     "output_type": "stream",
     "text": [
      "Optimization terminated successfully.\n",
      "         Current function value: 0.454224\n",
      "         Iterations 7\n"
     ]
    },
    {
     "data": {
      "text/plain": "<class 'statsmodels.iolib.summary.Summary'>\n\"\"\"\n                           Logit Regression Results                           \n==============================================================================\nDep. Variable:                      y   No. Observations:                   77\nModel:                          Logit   Df Residuals:                       45\nMethod:                           MLE   Df Model:                           31\nDate:                Sun, 08 Jan 2023   Pseudo R-squ.:                  0.3382\nTime:                        19:19:47   Log-Likelihood:                -34.975\nconverged:                       True   LL-Null:                       -52.845\nCovariance Type:            nonrobust   LLR p-value:                    0.2554\n==============================================================================\n                 coef    std err          z      P>|z|      [0.025      0.975]\n------------------------------------------------------------------------------\nconst         -1.3032      1.548     -0.842      0.400      -4.337       1.731\nP1             0.7725      0.648      1.192      0.233      -0.497       2.042\nP2            -0.3807      0.509     -0.748      0.455      -1.379       0.617\nP3            -0.1377      0.718     -0.192      0.848      -1.544       1.269\nP4            -0.7811      0.744     -1.050      0.294      -2.239       0.677\nP5             0.6497      0.578      1.125      0.261      -0.482       1.782\nP6            -0.0177      0.778     -0.023      0.982      -1.543       1.508\nP7            -0.3664      0.705     -0.520      0.603      -1.748       1.016\nP8             0.1324      0.579      0.229      0.819      -1.003       1.268\nP9             0.5060      0.550      0.920      0.358      -0.573       1.585\nP10           -0.7764      0.591     -1.313      0.189      -1.935       0.383\nP11            1.2946      1.060      1.221      0.222      -0.783       3.372\nP12           -1.2296      0.693     -1.774      0.076      -2.588       0.129\nP13           -0.5238      1.056     -0.496      0.620      -2.594       1.547\nP14           -0.2047      0.313     -0.654      0.513      -0.818       0.409\nP15           -0.7587      0.447     -1.698      0.090      -1.635       0.117\nP16           -0.3590      0.399     -0.901      0.368      -1.140       0.422\nP17           -0.5894      0.499     -1.181      0.237      -1.567       0.388\nP18            0.4668      0.667      0.700      0.484      -0.841       1.775\nP19           -0.4329      0.669     -0.647      0.517      -1.743       0.878\nP20           -0.3038      0.348     -0.874      0.382      -0.985       0.377\nP21            1.8286      0.856      2.135      0.033       0.150       3.507\nP22            0.0274      0.540      0.051      0.960      -1.032       1.087\nP23            1.7733      0.736      2.408      0.016       0.330       3.216\nP24           -0.7691      0.588     -1.308      0.191      -1.921       0.383\nP25           -0.4761      0.421     -1.131      0.258      -1.301       0.349\nP26           -0.1501      0.586     -0.256      0.798      -1.299       0.998\nP27           -0.3750      0.351     -1.070      0.285      -1.062       0.312\nP28           -0.1911      0.708     -0.270      0.787      -1.579       1.197\nP29            0.9949      0.669      1.487      0.137      -0.317       2.307\nP30            0.9098      0.329      2.767      0.006       0.265       1.554\nP31            0.6204      0.533      1.164      0.245      -0.425       1.665\n==============================================================================\n\"\"\"",
      "text/html": "<table class=\"simpletable\">\n<caption>Logit Regression Results</caption>\n<tr>\n  <th>Dep. Variable:</th>           <td>y</td>        <th>  No. Observations:  </th>  <td>    77</td> \n</tr>\n<tr>\n  <th>Model:</th>                 <td>Logit</td>      <th>  Df Residuals:      </th>  <td>    45</td> \n</tr>\n<tr>\n  <th>Method:</th>                 <td>MLE</td>       <th>  Df Model:          </th>  <td>    31</td> \n</tr>\n<tr>\n  <th>Date:</th>            <td>Sun, 08 Jan 2023</td> <th>  Pseudo R-squ.:     </th>  <td>0.3382</td> \n</tr>\n<tr>\n  <th>Time:</th>                <td>19:19:47</td>     <th>  Log-Likelihood:    </th> <td> -34.975</td>\n</tr>\n<tr>\n  <th>converged:</th>             <td>True</td>       <th>  LL-Null:           </th> <td> -52.845</td>\n</tr>\n<tr>\n  <th>Covariance Type:</th>     <td>nonrobust</td>    <th>  LLR p-value:       </th>  <td>0.2554</td> \n</tr>\n</table>\n<table class=\"simpletable\">\n<tr>\n    <td></td>       <th>coef</th>     <th>std err</th>      <th>z</th>      <th>P>|z|</th>  <th>[0.025</th>    <th>0.975]</th>  \n</tr>\n<tr>\n  <th>const</th> <td>   -1.3032</td> <td>    1.548</td> <td>   -0.842</td> <td> 0.400</td> <td>   -4.337</td> <td>    1.731</td>\n</tr>\n<tr>\n  <th>P1</th>    <td>    0.7725</td> <td>    0.648</td> <td>    1.192</td> <td> 0.233</td> <td>   -0.497</td> <td>    2.042</td>\n</tr>\n<tr>\n  <th>P2</th>    <td>   -0.3807</td> <td>    0.509</td> <td>   -0.748</td> <td> 0.455</td> <td>   -1.379</td> <td>    0.617</td>\n</tr>\n<tr>\n  <th>P3</th>    <td>   -0.1377</td> <td>    0.718</td> <td>   -0.192</td> <td> 0.848</td> <td>   -1.544</td> <td>    1.269</td>\n</tr>\n<tr>\n  <th>P4</th>    <td>   -0.7811</td> <td>    0.744</td> <td>   -1.050</td> <td> 0.294</td> <td>   -2.239</td> <td>    0.677</td>\n</tr>\n<tr>\n  <th>P5</th>    <td>    0.6497</td> <td>    0.578</td> <td>    1.125</td> <td> 0.261</td> <td>   -0.482</td> <td>    1.782</td>\n</tr>\n<tr>\n  <th>P6</th>    <td>   -0.0177</td> <td>    0.778</td> <td>   -0.023</td> <td> 0.982</td> <td>   -1.543</td> <td>    1.508</td>\n</tr>\n<tr>\n  <th>P7</th>    <td>   -0.3664</td> <td>    0.705</td> <td>   -0.520</td> <td> 0.603</td> <td>   -1.748</td> <td>    1.016</td>\n</tr>\n<tr>\n  <th>P8</th>    <td>    0.1324</td> <td>    0.579</td> <td>    0.229</td> <td> 0.819</td> <td>   -1.003</td> <td>    1.268</td>\n</tr>\n<tr>\n  <th>P9</th>    <td>    0.5060</td> <td>    0.550</td> <td>    0.920</td> <td> 0.358</td> <td>   -0.573</td> <td>    1.585</td>\n</tr>\n<tr>\n  <th>P10</th>   <td>   -0.7764</td> <td>    0.591</td> <td>   -1.313</td> <td> 0.189</td> <td>   -1.935</td> <td>    0.383</td>\n</tr>\n<tr>\n  <th>P11</th>   <td>    1.2946</td> <td>    1.060</td> <td>    1.221</td> <td> 0.222</td> <td>   -0.783</td> <td>    3.372</td>\n</tr>\n<tr>\n  <th>P12</th>   <td>   -1.2296</td> <td>    0.693</td> <td>   -1.774</td> <td> 0.076</td> <td>   -2.588</td> <td>    0.129</td>\n</tr>\n<tr>\n  <th>P13</th>   <td>   -0.5238</td> <td>    1.056</td> <td>   -0.496</td> <td> 0.620</td> <td>   -2.594</td> <td>    1.547</td>\n</tr>\n<tr>\n  <th>P14</th>   <td>   -0.2047</td> <td>    0.313</td> <td>   -0.654</td> <td> 0.513</td> <td>   -0.818</td> <td>    0.409</td>\n</tr>\n<tr>\n  <th>P15</th>   <td>   -0.7587</td> <td>    0.447</td> <td>   -1.698</td> <td> 0.090</td> <td>   -1.635</td> <td>    0.117</td>\n</tr>\n<tr>\n  <th>P16</th>   <td>   -0.3590</td> <td>    0.399</td> <td>   -0.901</td> <td> 0.368</td> <td>   -1.140</td> <td>    0.422</td>\n</tr>\n<tr>\n  <th>P17</th>   <td>   -0.5894</td> <td>    0.499</td> <td>   -1.181</td> <td> 0.237</td> <td>   -1.567</td> <td>    0.388</td>\n</tr>\n<tr>\n  <th>P18</th>   <td>    0.4668</td> <td>    0.667</td> <td>    0.700</td> <td> 0.484</td> <td>   -0.841</td> <td>    1.775</td>\n</tr>\n<tr>\n  <th>P19</th>   <td>   -0.4329</td> <td>    0.669</td> <td>   -0.647</td> <td> 0.517</td> <td>   -1.743</td> <td>    0.878</td>\n</tr>\n<tr>\n  <th>P20</th>   <td>   -0.3038</td> <td>    0.348</td> <td>   -0.874</td> <td> 0.382</td> <td>   -0.985</td> <td>    0.377</td>\n</tr>\n<tr>\n  <th>P21</th>   <td>    1.8286</td> <td>    0.856</td> <td>    2.135</td> <td> 0.033</td> <td>    0.150</td> <td>    3.507</td>\n</tr>\n<tr>\n  <th>P22</th>   <td>    0.0274</td> <td>    0.540</td> <td>    0.051</td> <td> 0.960</td> <td>   -1.032</td> <td>    1.087</td>\n</tr>\n<tr>\n  <th>P23</th>   <td>    1.7733</td> <td>    0.736</td> <td>    2.408</td> <td> 0.016</td> <td>    0.330</td> <td>    3.216</td>\n</tr>\n<tr>\n  <th>P24</th>   <td>   -0.7691</td> <td>    0.588</td> <td>   -1.308</td> <td> 0.191</td> <td>   -1.921</td> <td>    0.383</td>\n</tr>\n<tr>\n  <th>P25</th>   <td>   -0.4761</td> <td>    0.421</td> <td>   -1.131</td> <td> 0.258</td> <td>   -1.301</td> <td>    0.349</td>\n</tr>\n<tr>\n  <th>P26</th>   <td>   -0.1501</td> <td>    0.586</td> <td>   -0.256</td> <td> 0.798</td> <td>   -1.299</td> <td>    0.998</td>\n</tr>\n<tr>\n  <th>P27</th>   <td>   -0.3750</td> <td>    0.351</td> <td>   -1.070</td> <td> 0.285</td> <td>   -1.062</td> <td>    0.312</td>\n</tr>\n<tr>\n  <th>P28</th>   <td>   -0.1911</td> <td>    0.708</td> <td>   -0.270</td> <td> 0.787</td> <td>   -1.579</td> <td>    1.197</td>\n</tr>\n<tr>\n  <th>P29</th>   <td>    0.9949</td> <td>    0.669</td> <td>    1.487</td> <td> 0.137</td> <td>   -0.317</td> <td>    2.307</td>\n</tr>\n<tr>\n  <th>P30</th>   <td>    0.9098</td> <td>    0.329</td> <td>    2.767</td> <td> 0.006</td> <td>    0.265</td> <td>    1.554</td>\n</tr>\n<tr>\n  <th>P31</th>   <td>    0.6204</td> <td>    0.533</td> <td>    1.164</td> <td> 0.245</td> <td>   -0.425</td> <td>    1.665</td>\n</tr>\n</table>"
     },
     "execution_count": 25,
     "metadata": {},
     "output_type": "execute_result"
    }
   ],
   "source": [
    "logit_mod = sm.Logit(df_enc.endog_train, df_enc.exog_train)\n",
    "\n",
    "logit_res = logit_mod.fit()\n",
    "\n",
    "logit_res.summary()"
   ]
  },
  {
   "cell_type": "markdown",
   "metadata": {
    "pycharm": {
     "name": "#%% md\n"
    }
   },
   "source": [
    "A partir de aquí notamos que las preguntas 21, 23 y 30 son significativas al $5\\%$. Revisemos cuál es el error cuadrático medio para obtener una comparativa."
   ]
  },
  {
   "cell_type": "code",
   "execution_count": 26,
   "metadata": {
    "pycharm": {
     "name": "#%%\n"
    }
   },
   "outputs": [
    {
     "data": {
      "text/plain": "0.2777511807362247"
     },
     "execution_count": 26,
     "metadata": {},
     "output_type": "execute_result"
    }
   ],
   "source": [
    "from sklearn.metrics import mean_squared_error\n",
    "\n",
    "\n",
    "mean_squared_error(\n",
    "    y_true=df_enc.endog_test.reshape(-1,),\n",
    "    y_pred=logit_res.predict(df_enc.exog_test),\n",
    ")"
   ]
  },
  {
   "cell_type": "code",
   "execution_count": 27,
   "metadata": {
    "pycharm": {
     "name": "#%%\n"
    }
   },
   "outputs": [
    {
     "data": {
      "text/plain": "0.1465087304735915"
     },
     "execution_count": 27,
     "metadata": {},
     "output_type": "execute_result"
    }
   ],
   "source": [
    "from sklearn.metrics import mean_squared_error\n",
    "\n",
    "\n",
    "mean_squared_error(\n",
    "    y_true=df_enc.endog_train.reshape(-1,),\n",
    "    y_pred=logit_res.predict(df_enc.exog_train),\n",
    ")"
   ]
  },
  {
   "cell_type": "code",
   "execution_count": 28,
   "metadata": {
    "pycharm": {
     "name": "#%%\n"
    }
   },
   "outputs": [
    {
     "data": {
      "text/plain": "0.4444444444444444"
     },
     "execution_count": 28,
     "metadata": {},
     "output_type": "execute_result"
    }
   ],
   "source": [
    "mean_squared_error(\n",
    "    y_true=df_enc.endog_test.reshape(-1,),\n",
    "    y_pred=(logit_res.predict(df_enc.exog_test) >= 0.5).astype(int),\n",
    ")"
   ]
  },
  {
   "cell_type": "code",
   "execution_count": 29,
   "outputs": [
    {
     "data": {
      "text/plain": "0.18181818181818182"
     },
     "execution_count": 29,
     "metadata": {},
     "output_type": "execute_result"
    }
   ],
   "source": [
    "mean_squared_error(\n",
    "    y_true=df_enc.endog_train.reshape(-1,),\n",
    "    y_pred=(logit_res.predict(df_enc.exog_train) >= 0.5).astype(int),\n",
    ")"
   ],
   "metadata": {
    "collapsed": false,
    "pycharm": {
     "name": "#%%\n"
    }
   }
  },
  {
   "cell_type": "markdown",
   "metadata": {
    "pycharm": {
     "name": "#%% md\n"
    }
   },
   "source": [
    "Notando que \n",
    "\\begin{align}\n",
    "0\\leq (y_{true} - \\hat y_{pred}) ^2  \\leq 1\n",
    "\\end{align}\n",
    "Pues el valor de la predicción siempre está entre en el intervalo $[0, 1]$, notamos que el este error resulta ser satisfactorio, pues de no ser así, al menos tendería a $0.5$, cosa que no sucede en este caso."
   ]
  },
  {
   "cell_type": "code",
   "execution_count": 29,
   "metadata": {
    "pycharm": {
     "name": "#%%\n"
    }
   },
   "outputs": [
    {
     "data": {
      "text/plain": [
       "[20, 81, 10, 36, 39]"
      ]
     },
     "execution_count": 29,
     "metadata": {},
     "output_type": "execute_result"
    }
   ],
   "source": [
    "\n",
    "alumnos = [20, 81, 10, 36, 39]\n",
    "alumnos"
   ]
  },
  {
   "cell_type": "code",
   "execution_count": 30,
   "metadata": {
    "pycharm": {
     "name": "#%%\n"
    }
   },
   "outputs": [
    {
     "data": {
      "text/plain": [
       "20    0.112787\n",
       "81    0.184250\n",
       "10    0.476992\n",
       "36    0.420288\n",
       "39    0.396426\n",
       "dtype: float64"
      ]
     },
     "execution_count": 30,
     "metadata": {},
     "output_type": "execute_result"
    }
   ],
   "source": [
    "logit_res.predict(df_enc.exog.iloc[alumnos])"
   ]
  },
  {
   "cell_type": "code",
   "execution_count": 31,
   "metadata": {
    "pycharm": {
     "name": "#%%\n"
    }
   },
   "outputs": [
    {
     "data": {
      "text/plain": [
       "20    0\n",
       "81    0\n",
       "10    0\n",
       "36    0\n",
       "39    0\n",
       "dtype: int32"
      ]
     },
     "execution_count": 31,
     "metadata": {},
     "output_type": "execute_result"
    }
   ],
   "source": [
    "(logit_res.predict(df_enc.exog.iloc[alumnos]) >= 0.5).astype(int)"
   ]
  },
  {
   "cell_type": "code",
   "execution_count": 32,
   "metadata": {
    "pycharm": {
     "name": "#%%\n"
    }
   },
   "outputs": [
    {
     "data": {
      "text/plain": [
       "array([1, 0, 1, 0, 0])"
      ]
     },
     "execution_count": 32,
     "metadata": {},
     "output_type": "execute_result"
    }
   ],
   "source": [
    "df_enc.endog.reshape(-1,)[alumnos]"
   ]
  },
  {
   "cell_type": "code",
   "execution_count": 33,
   "metadata": {
    "pycharm": {
     "name": "#%%\n"
    }
   },
   "outputs": [
    {
     "data": {
      "text/plain": [
       "20    6.3\n",
       "81    4.8\n",
       "10    6.6\n",
       "36    4.9\n",
       "39    5.0\n",
       "Name: Notas, dtype: float64"
      ]
     },
     "execution_count": 33,
     "metadata": {},
     "output_type": "execute_result"
    }
   ],
   "source": [
    "df.Notas[alumnos]"
   ]
  },
  {
   "cell_type": "code",
   "execution_count": null,
   "outputs": [],
   "source": [
    "# Regresión con variables"
   ],
   "metadata": {
    "collapsed": false,
    "pycharm": {
     "name": "#%%\n"
    }
   }
  },
  {
   "cell_type": "markdown",
   "metadata": {
    "pycharm": {
     "name": "#%% md\n"
    }
   },
   "source": [
    "Se determinó a través del coeficiente VIF las variables que permitirán tener una buena correlación para hacer una regresión. Se utilizarán estas variables en el modelo. Empezaremos haciendo una regresión con aquellos que tengan VIF menor o igual a 5 (como se sugiere)."
   ]
  },
  {
   "cell_type": "markdown",
   "metadata": {
    "pycharm": {
     "name": "#%% md\n"
    }
   },
   "source": [
    "## $VIF \\leq 5$"
   ]
  },
  {
   "cell_type": "code",
   "execution_count": 34,
   "metadata": {
    "pycharm": {
     "name": "#%%\n"
    }
   },
   "outputs": [],
   "source": [
    "vif_leq_5 = [\n",
    "    \"P14\",\n",
    "    \"P15\",\n",
    "    \"P16\",\n",
    "    \"P17\",\n",
    "    \"P20\",\n",
    "    \"P25\",\n",
    "    \"P27\",\n",
    "    \"P30\",\n",
    "    \"P31\",\n",
    "]"
   ]
  },
  {
   "cell_type": "code",
   "execution_count": 35,
   "metadata": {
    "pycharm": {
     "name": "#%%\n"
    }
   },
   "outputs": [
    {
     "name": "stdout",
     "output_type": "stream",
     "text": [
      "Optimization terminated successfully.\n",
      "         Current function value: 0.614307\n",
      "         Iterations 5\n"
     ]
    },
    {
     "data": {
      "text/html": [
       "<table class=\"simpletable\">\n",
       "<caption>Logit Regression Results</caption>\n",
       "<tr>\n",
       "  <th>Dep. Variable:</th>           <td>y</td>        <th>  No. Observations:  </th>  <td>    77</td> \n",
       "</tr>\n",
       "<tr>\n",
       "  <th>Model:</th>                 <td>Logit</td>      <th>  Df Residuals:      </th>  <td>    68</td> \n",
       "</tr>\n",
       "<tr>\n",
       "  <th>Method:</th>                 <td>MLE</td>       <th>  Df Model:          </th>  <td>     8</td> \n",
       "</tr>\n",
       "<tr>\n",
       "  <th>Date:</th>            <td>Sun, 08 Jan 2023</td> <th>  Pseudo R-squ.:     </th>  <td>0.1049</td> \n",
       "</tr>\n",
       "<tr>\n",
       "  <th>Time:</th>                <td>16:16:46</td>     <th>  Log-Likelihood:    </th> <td> -47.302</td>\n",
       "</tr>\n",
       "<tr>\n",
       "  <th>converged:</th>             <td>True</td>       <th>  LL-Null:           </th> <td> -52.845</td>\n",
       "</tr>\n",
       "<tr>\n",
       "  <th>Covariance Type:</th>     <td>nonrobust</td>    <th>  LLR p-value:       </th>  <td>0.1968</td> \n",
       "</tr>\n",
       "</table>\n",
       "<table class=\"simpletable\">\n",
       "<tr>\n",
       "   <td></td>      <th>coef</th>     <th>std err</th>      <th>z</th>      <th>P>|z|</th>  <th>[0.025</th>    <th>0.975]</th>  \n",
       "</tr>\n",
       "<tr>\n",
       "  <th>P14</th> <td>   -0.0326</td> <td>    0.200</td> <td>   -0.163</td> <td> 0.871</td> <td>   -0.425</td> <td>    0.360</td>\n",
       "</tr>\n",
       "<tr>\n",
       "  <th>P15</th> <td>   -0.2268</td> <td>    0.260</td> <td>   -0.873</td> <td> 0.383</td> <td>   -0.736</td> <td>    0.282</td>\n",
       "</tr>\n",
       "<tr>\n",
       "  <th>P16</th> <td>    0.2008</td> <td>    0.228</td> <td>    0.881</td> <td> 0.378</td> <td>   -0.246</td> <td>    0.648</td>\n",
       "</tr>\n",
       "<tr>\n",
       "  <th>P17</th> <td>   -0.1464</td> <td>    0.249</td> <td>   -0.588</td> <td> 0.557</td> <td>   -0.635</td> <td>    0.342</td>\n",
       "</tr>\n",
       "<tr>\n",
       "  <th>P20</th> <td>    0.1029</td> <td>    0.184</td> <td>    0.561</td> <td> 0.575</td> <td>   -0.257</td> <td>    0.463</td>\n",
       "</tr>\n",
       "<tr>\n",
       "  <th>P25</th> <td>   -0.3190</td> <td>    0.244</td> <td>   -1.307</td> <td> 0.191</td> <td>   -0.798</td> <td>    0.159</td>\n",
       "</tr>\n",
       "<tr>\n",
       "  <th>P27</th> <td>   -0.0888</td> <td>    0.212</td> <td>   -0.418</td> <td> 0.676</td> <td>   -0.505</td> <td>    0.327</td>\n",
       "</tr>\n",
       "<tr>\n",
       "  <th>P30</th> <td>    0.4281</td> <td>    0.194</td> <td>    2.203</td> <td> 0.028</td> <td>    0.047</td> <td>    0.809</td>\n",
       "</tr>\n",
       "<tr>\n",
       "  <th>P31</th> <td>    0.3718</td> <td>    0.279</td> <td>    1.333</td> <td> 0.182</td> <td>   -0.175</td> <td>    0.918</td>\n",
       "</tr>\n",
       "</table>"
      ],
      "text/plain": [
       "<class 'statsmodels.iolib.summary.Summary'>\n",
       "\"\"\"\n",
       "                           Logit Regression Results                           \n",
       "==============================================================================\n",
       "Dep. Variable:                      y   No. Observations:                   77\n",
       "Model:                          Logit   Df Residuals:                       68\n",
       "Method:                           MLE   Df Model:                            8\n",
       "Date:                Sun, 08 Jan 2023   Pseudo R-squ.:                  0.1049\n",
       "Time:                        16:16:46   Log-Likelihood:                -47.302\n",
       "converged:                       True   LL-Null:                       -52.845\n",
       "Covariance Type:            nonrobust   LLR p-value:                    0.1968\n",
       "==============================================================================\n",
       "                 coef    std err          z      P>|z|      [0.025      0.975]\n",
       "------------------------------------------------------------------------------\n",
       "P14           -0.0326      0.200     -0.163      0.871      -0.425       0.360\n",
       "P15           -0.2268      0.260     -0.873      0.383      -0.736       0.282\n",
       "P16            0.2008      0.228      0.881      0.378      -0.246       0.648\n",
       "P17           -0.1464      0.249     -0.588      0.557      -0.635       0.342\n",
       "P20            0.1029      0.184      0.561      0.575      -0.257       0.463\n",
       "P25           -0.3190      0.244     -1.307      0.191      -0.798       0.159\n",
       "P27           -0.0888      0.212     -0.418      0.676      -0.505       0.327\n",
       "P30            0.4281      0.194      2.203      0.028       0.047       0.809\n",
       "P31            0.3718      0.279      1.333      0.182      -0.175       0.918\n",
       "==============================================================================\n",
       "\"\"\""
      ]
     },
     "execution_count": 35,
     "metadata": {},
     "output_type": "execute_result"
    }
   ],
   "source": [
    "logit_mod_VIF_5 = sm.Logit(df_enc.endog_train, df_enc.exog_train[vif_leq_5])\n",
    "\n",
    "logit_res = logit_mod_VIF_5.fit()\n",
    "\n",
    "logit_res.summary()"
   ]
  },
  {
   "cell_type": "code",
   "execution_count": 36,
   "metadata": {
    "pycharm": {
     "name": "#%%\n"
    }
   },
   "outputs": [
    {
     "data": {
      "text/plain": [
       "0.19741805328698062"
      ]
     },
     "execution_count": 36,
     "metadata": {},
     "output_type": "execute_result"
    }
   ],
   "source": [
    "from sklearn.metrics import mean_squared_error\n",
    "\n",
    "\n",
    "mean_squared_error(\n",
    "    y_true=df_enc.endog_test.reshape(-1,),\n",
    "    y_pred=logit_res.predict(df_enc.exog_test[vif_leq_5]),\n",
    ")"
   ]
  },
  {
   "cell_type": "code",
   "execution_count": 37,
   "metadata": {
    "pycharm": {
     "name": "#%%\n"
    }
   },
   "outputs": [
    {
     "data": {
      "text/plain": [
       "0.2134917375428169"
      ]
     },
     "execution_count": 37,
     "metadata": {},
     "output_type": "execute_result"
    }
   ],
   "source": [
    "from sklearn.metrics import mean_squared_error\n",
    "\n",
    "\n",
    "mean_squared_error(\n",
    "    y_true=df_enc.endog_train.reshape(-1,),\n",
    "    y_pred=logit_res.predict(df_enc.exog_train[vif_leq_5]),\n",
    ")"
   ]
  },
  {
   "cell_type": "code",
   "execution_count": 38,
   "metadata": {
    "pycharm": {
     "name": "#%%\n"
    }
   },
   "outputs": [
    {
     "data": {
      "text/plain": [
       "0.4444444444444444"
      ]
     },
     "execution_count": 38,
     "metadata": {},
     "output_type": "execute_result"
    }
   ],
   "source": [
    "mean_squared_error(\n",
    "    y_true=df_enc.endog_test.reshape(-1,),\n",
    "    y_pred=(logit_res.predict(df_enc.exog_test[vif_leq_5]) >= 0.5).astype(int),\n",
    ")"
   ]
  },
  {
   "cell_type": "markdown",
   "metadata": {
    "pycharm": {
     "name": "#%% md\n"
    }
   },
   "source": [
    "## $VIF \\leq 12$"
   ]
  },
  {
   "cell_type": "code",
   "execution_count": 39,
   "metadata": {
    "pycharm": {
     "name": "#%%\n"
    }
   },
   "outputs": [],
   "source": [
    "vif_leq_12 = [\n",
    "    \"P1\",\n",
    "    \"P2\",\n",
    "    \"P5\",\n",
    "    \"P6\",\n",
    "    \"P7\",\n",
    "    \"P9\",\n",
    "    \"P10\",\n",
    "    \"P12\",\n",
    "    \"P14\",\n",
    "    \"P15\",\n",
    "    \"P16\",\n",
    "    \"P17\",\n",
    "    \"P18\",\n",
    "    \"P19\",\n",
    "    \"P20\",\n",
    "    \"P21\",\n",
    "    \"P22\",\n",
    "    \"P23\",\n",
    "    \"P24\",\n",
    "    \"P25\",\n",
    "    \"P26\",\n",
    "    \"P27\",\n",
    "    \"P28\",\n",
    "    \"P29\",\n",
    "    \"P30\",\n",
    "]"
   ]
  },
  {
   "cell_type": "code",
   "execution_count": 40,
   "metadata": {
    "pycharm": {
     "name": "#%%\n"
    }
   },
   "outputs": [
    {
     "name": "stdout",
     "output_type": "stream",
     "text": [
      "Optimization terminated successfully.\n",
      "         Current function value: 0.542067\n",
      "         Iterations 6\n"
     ]
    },
    {
     "data": {
      "text/html": [
       "<table class=\"simpletable\">\n",
       "<caption>Logit Regression Results</caption>\n",
       "<tr>\n",
       "  <th>Dep. Variable:</th>           <td>y</td>        <th>  No. Observations:  </th>  <td>    77</td> \n",
       "</tr>\n",
       "<tr>\n",
       "  <th>Model:</th>                 <td>Logit</td>      <th>  Df Residuals:      </th>  <td>    52</td> \n",
       "</tr>\n",
       "<tr>\n",
       "  <th>Method:</th>                 <td>MLE</td>       <th>  Df Model:          </th>  <td>    24</td> \n",
       "</tr>\n",
       "<tr>\n",
       "  <th>Date:</th>            <td>Sun, 08 Jan 2023</td> <th>  Pseudo R-squ.:     </th>  <td>0.2102</td> \n",
       "</tr>\n",
       "<tr>\n",
       "  <th>Time:</th>                <td>16:16:46</td>     <th>  Log-Likelihood:    </th> <td> -41.739</td>\n",
       "</tr>\n",
       "<tr>\n",
       "  <th>converged:</th>             <td>True</td>       <th>  LL-Null:           </th> <td> -52.845</td>\n",
       "</tr>\n",
       "<tr>\n",
       "  <th>Covariance Type:</th>     <td>nonrobust</td>    <th>  LLR p-value:       </th>  <td>0.5666</td> \n",
       "</tr>\n",
       "</table>\n",
       "<table class=\"simpletable\">\n",
       "<tr>\n",
       "   <td></td>      <th>coef</th>     <th>std err</th>      <th>z</th>      <th>P>|z|</th>  <th>[0.025</th>    <th>0.975]</th>  \n",
       "</tr>\n",
       "<tr>\n",
       "  <th>P1</th>  <td>    0.4739</td> <td>    0.475</td> <td>    0.997</td> <td> 0.319</td> <td>   -0.457</td> <td>    1.405</td>\n",
       "</tr>\n",
       "<tr>\n",
       "  <th>P2</th>  <td>   -0.4200</td> <td>    0.432</td> <td>   -0.973</td> <td> 0.330</td> <td>   -1.266</td> <td>    0.426</td>\n",
       "</tr>\n",
       "<tr>\n",
       "  <th>P5</th>  <td>    0.3948</td> <td>    0.393</td> <td>    1.005</td> <td> 0.315</td> <td>   -0.375</td> <td>    1.165</td>\n",
       "</tr>\n",
       "<tr>\n",
       "  <th>P6</th>  <td>   -0.1691</td> <td>    0.589</td> <td>   -0.287</td> <td> 0.774</td> <td>   -1.323</td> <td>    0.985</td>\n",
       "</tr>\n",
       "<tr>\n",
       "  <th>P7</th>  <td>   -0.2323</td> <td>    0.554</td> <td>   -0.419</td> <td> 0.675</td> <td>   -1.318</td> <td>    0.854</td>\n",
       "</tr>\n",
       "<tr>\n",
       "  <th>P9</th>  <td>    0.6836</td> <td>    0.368</td> <td>    1.859</td> <td> 0.063</td> <td>   -0.037</td> <td>    1.404</td>\n",
       "</tr>\n",
       "<tr>\n",
       "  <th>P10</th> <td>   -0.4889</td> <td>    0.426</td> <td>   -1.146</td> <td> 0.252</td> <td>   -1.325</td> <td>    0.347</td>\n",
       "</tr>\n",
       "<tr>\n",
       "  <th>P12</th> <td>   -0.3311</td> <td>    0.497</td> <td>   -0.667</td> <td> 0.505</td> <td>   -1.305</td> <td>    0.642</td>\n",
       "</tr>\n",
       "<tr>\n",
       "  <th>P14</th> <td>    0.0996</td> <td>    0.245</td> <td>    0.407</td> <td> 0.684</td> <td>   -0.380</td> <td>    0.580</td>\n",
       "</tr>\n",
       "<tr>\n",
       "  <th>P15</th> <td>   -0.1567</td> <td>    0.307</td> <td>   -0.510</td> <td> 0.610</td> <td>   -0.759</td> <td>    0.445</td>\n",
       "</tr>\n",
       "<tr>\n",
       "  <th>P16</th> <td>   -0.0412</td> <td>    0.314</td> <td>   -0.131</td> <td> 0.896</td> <td>   -0.656</td> <td>    0.573</td>\n",
       "</tr>\n",
       "<tr>\n",
       "  <th>P17</th> <td>   -0.2466</td> <td>    0.390</td> <td>   -0.633</td> <td> 0.527</td> <td>   -1.010</td> <td>    0.517</td>\n",
       "</tr>\n",
       "<tr>\n",
       "  <th>P18</th> <td>    0.1261</td> <td>    0.513</td> <td>    0.246</td> <td> 0.806</td> <td>   -0.880</td> <td>    1.133</td>\n",
       "</tr>\n",
       "<tr>\n",
       "  <th>P19</th> <td>   -0.2089</td> <td>    0.493</td> <td>   -0.424</td> <td> 0.671</td> <td>   -1.175</td> <td>    0.757</td>\n",
       "</tr>\n",
       "<tr>\n",
       "  <th>P20</th> <td>   -0.1822</td> <td>    0.267</td> <td>   -0.683</td> <td> 0.495</td> <td>   -0.705</td> <td>    0.341</td>\n",
       "</tr>\n",
       "<tr>\n",
       "  <th>P21</th> <td>    0.9422</td> <td>    0.584</td> <td>    1.614</td> <td> 0.107</td> <td>   -0.202</td> <td>    2.087</td>\n",
       "</tr>\n",
       "<tr>\n",
       "  <th>P22</th> <td>    0.3387</td> <td>    0.398</td> <td>    0.850</td> <td> 0.395</td> <td>   -0.442</td> <td>    1.120</td>\n",
       "</tr>\n",
       "<tr>\n",
       "  <th>P23</th> <td>    0.7429</td> <td>    0.507</td> <td>    1.465</td> <td> 0.143</td> <td>   -0.251</td> <td>    1.737</td>\n",
       "</tr>\n",
       "<tr>\n",
       "  <th>P24</th> <td>   -0.3256</td> <td>    0.471</td> <td>   -0.691</td> <td> 0.490</td> <td>   -1.249</td> <td>    0.598</td>\n",
       "</tr>\n",
       "<tr>\n",
       "  <th>P25</th> <td>   -0.4223</td> <td>    0.322</td> <td>   -1.310</td> <td> 0.190</td> <td>   -1.054</td> <td>    0.210</td>\n",
       "</tr>\n",
       "<tr>\n",
       "  <th>P26</th> <td>   -0.4150</td> <td>    0.488</td> <td>   -0.850</td> <td> 0.395</td> <td>   -1.372</td> <td>    0.542</td>\n",
       "</tr>\n",
       "<tr>\n",
       "  <th>P27</th> <td>   -0.2601</td> <td>    0.270</td> <td>   -0.964</td> <td> 0.335</td> <td>   -0.789</td> <td>    0.269</td>\n",
       "</tr>\n",
       "<tr>\n",
       "  <th>P28</th> <td>   -0.3356</td> <td>    0.579</td> <td>   -0.579</td> <td> 0.562</td> <td>   -1.471</td> <td>    0.800</td>\n",
       "</tr>\n",
       "<tr>\n",
       "  <th>P29</th> <td>    0.5106</td> <td>    0.473</td> <td>    1.081</td> <td> 0.280</td> <td>   -0.416</td> <td>    1.437</td>\n",
       "</tr>\n",
       "<tr>\n",
       "  <th>P30</th> <td>    0.6100</td> <td>    0.249</td> <td>    2.454</td> <td> 0.014</td> <td>    0.123</td> <td>    1.097</td>\n",
       "</tr>\n",
       "</table>"
      ],
      "text/plain": [
       "<class 'statsmodels.iolib.summary.Summary'>\n",
       "\"\"\"\n",
       "                           Logit Regression Results                           \n",
       "==============================================================================\n",
       "Dep. Variable:                      y   No. Observations:                   77\n",
       "Model:                          Logit   Df Residuals:                       52\n",
       "Method:                           MLE   Df Model:                           24\n",
       "Date:                Sun, 08 Jan 2023   Pseudo R-squ.:                  0.2102\n",
       "Time:                        16:16:46   Log-Likelihood:                -41.739\n",
       "converged:                       True   LL-Null:                       -52.845\n",
       "Covariance Type:            nonrobust   LLR p-value:                    0.5666\n",
       "==============================================================================\n",
       "                 coef    std err          z      P>|z|      [0.025      0.975]\n",
       "------------------------------------------------------------------------------\n",
       "P1             0.4739      0.475      0.997      0.319      -0.457       1.405\n",
       "P2            -0.4200      0.432     -0.973      0.330      -1.266       0.426\n",
       "P5             0.3948      0.393      1.005      0.315      -0.375       1.165\n",
       "P6            -0.1691      0.589     -0.287      0.774      -1.323       0.985\n",
       "P7            -0.2323      0.554     -0.419      0.675      -1.318       0.854\n",
       "P9             0.6836      0.368      1.859      0.063      -0.037       1.404\n",
       "P10           -0.4889      0.426     -1.146      0.252      -1.325       0.347\n",
       "P12           -0.3311      0.497     -0.667      0.505      -1.305       0.642\n",
       "P14            0.0996      0.245      0.407      0.684      -0.380       0.580\n",
       "P15           -0.1567      0.307     -0.510      0.610      -0.759       0.445\n",
       "P16           -0.0412      0.314     -0.131      0.896      -0.656       0.573\n",
       "P17           -0.2466      0.390     -0.633      0.527      -1.010       0.517\n",
       "P18            0.1261      0.513      0.246      0.806      -0.880       1.133\n",
       "P19           -0.2089      0.493     -0.424      0.671      -1.175       0.757\n",
       "P20           -0.1822      0.267     -0.683      0.495      -0.705       0.341\n",
       "P21            0.9422      0.584      1.614      0.107      -0.202       2.087\n",
       "P22            0.3387      0.398      0.850      0.395      -0.442       1.120\n",
       "P23            0.7429      0.507      1.465      0.143      -0.251       1.737\n",
       "P24           -0.3256      0.471     -0.691      0.490      -1.249       0.598\n",
       "P25           -0.4223      0.322     -1.310      0.190      -1.054       0.210\n",
       "P26           -0.4150      0.488     -0.850      0.395      -1.372       0.542\n",
       "P27           -0.2601      0.270     -0.964      0.335      -0.789       0.269\n",
       "P28           -0.3356      0.579     -0.579      0.562      -1.471       0.800\n",
       "P29            0.5106      0.473      1.081      0.280      -0.416       1.437\n",
       "P30            0.6100      0.249      2.454      0.014       0.123       1.097\n",
       "==============================================================================\n",
       "\"\"\""
      ]
     },
     "execution_count": 40,
     "metadata": {},
     "output_type": "execute_result"
    }
   ],
   "source": [
    "logit_mod_VIF_12 = sm.Logit(df_enc.endog_train, df_enc.exog_train[vif_leq_12])\n",
    "\n",
    "logit_res = logit_mod_VIF_12.fit()\n",
    "\n",
    "logit_res.summary()"
   ]
  },
  {
   "cell_type": "code",
   "execution_count": 41,
   "metadata": {
    "pycharm": {
     "name": "#%%\n"
    }
   },
   "outputs": [
    {
     "data": {
      "text/plain": [
       "0.22498938681673067"
      ]
     },
     "execution_count": 41,
     "metadata": {},
     "output_type": "execute_result"
    }
   ],
   "source": [
    "from sklearn.metrics import mean_squared_error\n",
    "\n",
    "\n",
    "mean_squared_error(\n",
    "    y_true=df_enc.endog_test.reshape(-1,),\n",
    "    y_pred=logit_res.predict(df_enc.exog_test[vif_leq_12]),\n",
    ")"
   ]
  },
  {
   "cell_type": "code",
   "execution_count": 42,
   "metadata": {
    "pycharm": {
     "name": "#%%\n"
    }
   },
   "outputs": [
    {
     "data": {
      "text/plain": [
       "0.17898916378557625"
      ]
     },
     "execution_count": 42,
     "metadata": {},
     "output_type": "execute_result"
    }
   ],
   "source": [
    "from sklearn.metrics import mean_squared_error\n",
    "\n",
    "\n",
    "mean_squared_error(\n",
    "    y_true=df_enc.endog_train.reshape(-1,),\n",
    "    y_pred=logit_res.predict(df_enc.exog_train[vif_leq_12]),\n",
    ")"
   ]
  },
  {
   "cell_type": "code",
   "execution_count": 43,
   "metadata": {
    "pycharm": {
     "name": "#%%\n"
    }
   },
   "outputs": [
    {
     "data": {
      "text/plain": [
       "0.3333333333333333"
      ]
     },
     "execution_count": 43,
     "metadata": {},
     "output_type": "execute_result"
    }
   ],
   "source": [
    "mean_squared_error(\n",
    "    y_true=df_enc.endog_test.reshape(-1,),\n",
    "    y_pred=(logit_res.predict(df_enc.exog_test[vif_leq_12]) >= 0.5).astype(int),\n",
    ")"
   ]
  },
  {
   "cell_type": "markdown",
   "metadata": {
    "pycharm": {
     "name": "#%% md\n"
    }
   },
   "source": [
    "## Regresión lineal"
   ]
  },
  {
   "cell_type": "markdown",
   "metadata": {
    "pycharm": {
     "name": "#%% md\n"
    }
   },
   "source": [
    "Intentaremos con probar una regresión lineal, en caso de que tenga un mejor ajuste o un mejor error cuadrático medio"
   ]
  },
  {
   "cell_type": "markdown",
   "metadata": {
    "pycharm": {
     "name": "#%% md\n"
    }
   },
   "source": [
    "## $VIF \\leq 5$"
   ]
  },
  {
   "cell_type": "code",
   "execution_count": 44,
   "metadata": {
    "pycharm": {
     "name": "#%%\n"
    }
   },
   "outputs": [],
   "source": [
    "vif_leq_5 = [\n",
    "    \"P14\",\n",
    "    \"P15\",\n",
    "    \"P16\",\n",
    "    \"P17\",\n",
    "    \"P20\",\n",
    "    \"P25\",\n",
    "    \"P27\",\n",
    "    \"P30\",\n",
    "    \"P31\",\n",
    "]"
   ]
  },
  {
   "cell_type": "code",
   "execution_count": 45,
   "metadata": {
    "pycharm": {
     "name": "#%%\n"
    }
   },
   "outputs": [
    {
     "data": {
      "text/html": [
       "<table class=\"simpletable\">\n",
       "<caption>OLS Regression Results</caption>\n",
       "<tr>\n",
       "  <th>Dep. Variable:</th>            <td>y</td>        <th>  R-squared (uncentered):</th>      <td>   0.649</td>\n",
       "</tr>\n",
       "<tr>\n",
       "  <th>Model:</th>                   <td>OLS</td>       <th>  Adj. R-squared (uncentered):</th> <td>   0.602</td>\n",
       "</tr>\n",
       "<tr>\n",
       "  <th>Method:</th>             <td>Least Squares</td>  <th>  F-statistic:       </th>          <td>   13.96</td>\n",
       "</tr>\n",
       "<tr>\n",
       "  <th>Date:</th>             <td>Sun, 08 Jan 2023</td> <th>  Prob (F-statistic):</th>          <td>2.03e-12</td>\n",
       "</tr>\n",
       "<tr>\n",
       "  <th>Time:</th>                 <td>16:16:46</td>     <th>  Log-Likelihood:    </th>          <td> -31.556</td>\n",
       "</tr>\n",
       "<tr>\n",
       "  <th>No. Observations:</th>      <td>    77</td>      <th>  AIC:               </th>          <td>   81.11</td>\n",
       "</tr>\n",
       "<tr>\n",
       "  <th>Df Residuals:</th>          <td>    68</td>      <th>  BIC:               </th>          <td>   102.2</td>\n",
       "</tr>\n",
       "<tr>\n",
       "  <th>Df Model:</th>              <td>     9</td>      <th>                     </th>              <td> </td>   \n",
       "</tr>\n",
       "<tr>\n",
       "  <th>Covariance Type:</th>      <td>nonrobust</td>    <th>                     </th>              <td> </td>   \n",
       "</tr>\n",
       "</table>\n",
       "<table class=\"simpletable\">\n",
       "<tr>\n",
       "   <td></td>      <th>coef</th>     <th>std err</th>      <th>t</th>      <th>P>|t|</th>  <th>[0.025</th>    <th>0.975]</th>  \n",
       "</tr>\n",
       "<tr>\n",
       "  <th>P14</th> <td>   -0.0336</td> <td>    0.035</td> <td>   -0.958</td> <td> 0.342</td> <td>   -0.104</td> <td>    0.036</td>\n",
       "</tr>\n",
       "<tr>\n",
       "  <th>P15</th> <td>   -0.1048</td> <td>    0.045</td> <td>   -2.346</td> <td> 0.022</td> <td>   -0.194</td> <td>   -0.016</td>\n",
       "</tr>\n",
       "<tr>\n",
       "  <th>P16</th> <td>    0.0996</td> <td>    0.040</td> <td>    2.503</td> <td> 0.015</td> <td>    0.020</td> <td>    0.179</td>\n",
       "</tr>\n",
       "<tr>\n",
       "  <th>P17</th> <td>    0.1210</td> <td>    0.044</td> <td>    2.779</td> <td> 0.007</td> <td>    0.034</td> <td>    0.208</td>\n",
       "</tr>\n",
       "<tr>\n",
       "  <th>P20</th> <td>   -0.0510</td> <td>    0.032</td> <td>   -1.577</td> <td> 0.120</td> <td>   -0.116</td> <td>    0.014</td>\n",
       "</tr>\n",
       "<tr>\n",
       "  <th>P25</th> <td>   -0.0142</td> <td>    0.043</td> <td>   -0.333</td> <td> 0.740</td> <td>   -0.099</td> <td>    0.071</td>\n",
       "</tr>\n",
       "<tr>\n",
       "  <th>P27</th> <td>    0.0377</td> <td>    0.037</td> <td>    1.025</td> <td> 0.309</td> <td>   -0.036</td> <td>    0.111</td>\n",
       "</tr>\n",
       "<tr>\n",
       "  <th>P30</th> <td>    0.0818</td> <td>    0.033</td> <td>    2.453</td> <td> 0.017</td> <td>    0.015</td> <td>    0.148</td>\n",
       "</tr>\n",
       "<tr>\n",
       "  <th>P31</th> <td>   -0.0405</td> <td>    0.046</td> <td>   -0.879</td> <td> 0.382</td> <td>   -0.132</td> <td>    0.051</td>\n",
       "</tr>\n",
       "</table>\n",
       "<table class=\"simpletable\">\n",
       "<tr>\n",
       "  <th>Omnibus:</th>       <td> 2.776</td> <th>  Durbin-Watson:     </th> <td>   1.328</td>\n",
       "</tr>\n",
       "<tr>\n",
       "  <th>Prob(Omnibus):</th> <td> 0.250</td> <th>  Jarque-Bera (JB):  </th> <td>   1.814</td>\n",
       "</tr>\n",
       "<tr>\n",
       "  <th>Skew:</th>          <td> 0.146</td> <th>  Prob(JB):          </th> <td>   0.404</td>\n",
       "</tr>\n",
       "<tr>\n",
       "  <th>Kurtosis:</th>      <td> 2.307</td> <th>  Cond. No.          </th> <td>    3.89</td>\n",
       "</tr>\n",
       "</table><br/><br/>Notes:<br/>[1] R² is computed without centering (uncentered) since the model does not contain a constant.<br/>[2] Standard Errors assume that the covariance matrix of the errors is correctly specified."
      ],
      "text/plain": [
       "<class 'statsmodels.iolib.summary.Summary'>\n",
       "\"\"\"\n",
       "                                 OLS Regression Results                                \n",
       "=======================================================================================\n",
       "Dep. Variable:                      y   R-squared (uncentered):                   0.649\n",
       "Model:                            OLS   Adj. R-squared (uncentered):              0.602\n",
       "Method:                 Least Squares   F-statistic:                              13.96\n",
       "Date:                Sun, 08 Jan 2023   Prob (F-statistic):                    2.03e-12\n",
       "Time:                        16:16:46   Log-Likelihood:                         -31.556\n",
       "No. Observations:                  77   AIC:                                      81.11\n",
       "Df Residuals:                      68   BIC:                                      102.2\n",
       "Df Model:                           9                                                  \n",
       "Covariance Type:            nonrobust                                                  \n",
       "==============================================================================\n",
       "                 coef    std err          t      P>|t|      [0.025      0.975]\n",
       "------------------------------------------------------------------------------\n",
       "P14           -0.0336      0.035     -0.958      0.342      -0.104       0.036\n",
       "P15           -0.1048      0.045     -2.346      0.022      -0.194      -0.016\n",
       "P16            0.0996      0.040      2.503      0.015       0.020       0.179\n",
       "P17            0.1210      0.044      2.779      0.007       0.034       0.208\n",
       "P20           -0.0510      0.032     -1.577      0.120      -0.116       0.014\n",
       "P25           -0.0142      0.043     -0.333      0.740      -0.099       0.071\n",
       "P27            0.0377      0.037      1.025      0.309      -0.036       0.111\n",
       "P30            0.0818      0.033      2.453      0.017       0.015       0.148\n",
       "P31           -0.0405      0.046     -0.879      0.382      -0.132       0.051\n",
       "==============================================================================\n",
       "Omnibus:                        2.776   Durbin-Watson:                   1.328\n",
       "Prob(Omnibus):                  0.250   Jarque-Bera (JB):                1.814\n",
       "Skew:                           0.146   Prob(JB):                        0.404\n",
       "Kurtosis:                       2.307   Cond. No.                         3.89\n",
       "==============================================================================\n",
       "\n",
       "Notes:\n",
       "[1] R² is computed without centering (uncentered) since the model does not contain a constant.\n",
       "[2] Standard Errors assume that the covariance matrix of the errors is correctly specified.\n",
       "\"\"\""
      ]
     },
     "execution_count": 45,
     "metadata": {},
     "output_type": "execute_result"
    }
   ],
   "source": [
    "ols_mod_VIF_5 = sm.OLS(df_enc.endog_lin_train, df_enc.exog_lin_train[vif_leq_5])\n",
    "\n",
    "ols_res = ols_mod_VIF_5.fit()\n",
    "\n",
    "ols_res.summary()"
   ]
  },
  {
   "cell_type": "code",
   "execution_count": 46,
   "metadata": {
    "pycharm": {
     "name": "#%%\n"
    }
   },
   "outputs": [
    {
     "data": {
      "text/plain": [
       "0.10684541888103903"
      ]
     },
     "execution_count": 46,
     "metadata": {},
     "output_type": "execute_result"
    }
   ],
   "source": [
    "from sklearn.metrics import mean_squared_error\n",
    "\n",
    "\n",
    "mean_squared_error(\n",
    "    y_true=df_enc.endog_lin_test.reshape(-1,),\n",
    "    y_pred=ols_res.predict(df_enc.exog_lin_test[vif_leq_5]),\n",
    ")"
   ]
  },
  {
   "cell_type": "code",
   "execution_count": 47,
   "metadata": {
    "pycharm": {
     "name": "#%%\n"
    }
   },
   "outputs": [
    {
     "data": {
      "text/plain": [
       "0.13288894228598822"
      ]
     },
     "execution_count": 47,
     "metadata": {},
     "output_type": "execute_result"
    }
   ],
   "source": [
    "from sklearn.metrics import mean_squared_error\n",
    "\n",
    "\n",
    "mean_squared_error(\n",
    "    y_true=df_enc.endog_lin_train.reshape(-1,),\n",
    "    y_pred=ols_res.predict(df_enc.exog_lin_train[vif_leq_5]),\n",
    ")"
   ]
  },
  {
   "cell_type": "markdown",
   "metadata": {
    "pycharm": {
     "name": "#%% md\n"
    }
   },
   "source": [
    "**ADVERTENCIA**: Esta métrica no puede ser comparable con el anterior, pues el tipo de modelo que se comparan son totalmente distintos."
   ]
  },
  {
   "cell_type": "markdown",
   "metadata": {
    "pycharm": {
     "name": "#%% md\n"
    }
   },
   "source": [
    "Comparemos los datos predichos con los reales"
   ]
  },
  {
   "cell_type": "code",
   "execution_count": 48,
   "metadata": {
    "pycharm": {
     "name": "#%%\n"
    }
   },
   "outputs": [
    {
     "data": {
      "text/plain": [
       "array([ 0.30764692,  0.48675426,  0.27055484,  0.77371918,  0.71865365,\n",
       "       -0.09663868,  0.49157452,  0.96062228,  0.57741438])"
      ]
     },
     "execution_count": 48,
     "metadata": {},
     "output_type": "execute_result"
    }
   ],
   "source": [
    "# Datos predichos\n",
    "y_pred = np.array(ols_res.predict(df_enc.exog_lin_test[vif_leq_5]))\n",
    "y_pred"
   ]
  },
  {
   "cell_type": "code",
   "execution_count": 49,
   "metadata": {
    "pycharm": {
     "name": "#%%\n"
    }
   },
   "outputs": [
    {
     "data": {
      "text/plain": [
       "array([0.29166667, 1.        , 0.58333333, 0.83333333, 0.75      ,\n",
       "       0.29166667, 0.91666667, 0.54166667, 0.875     ])"
      ]
     },
     "execution_count": 49,
     "metadata": {},
     "output_type": "execute_result"
    }
   ],
   "source": [
    "# Reales\n",
    "y_train = df_enc.endog_lin_test.reshape(-1,)\n",
    "y_train"
   ]
  },
  {
   "cell_type": "code",
   "execution_count": 50,
   "metadata": {
    "pycharm": {
     "name": "#%%\n"
    }
   },
   "outputs": [
    {
     "data": {
      "text/plain": [
       "array([-0.01598026,  0.51324574,  0.3127785 ,  0.05961415,  0.03134635,\n",
       "        0.38830534,  0.42509215, -0.41895561,  0.29758562])"
      ]
     },
     "execution_count": 50,
     "metadata": {},
     "output_type": "execute_result"
    }
   ],
   "source": [
    "y_train - y_pred"
   ]
  },
  {
   "cell_type": "markdown",
   "metadata": {
    "pycharm": {
     "name": "#%% md\n"
    }
   },
   "source": [
    "Se nota que hay varios que están se alejan del real por un 0.5, lo cuál es malo al pensar que tenemos valores entre el 0 (nota mínima) y el 1 (nota máxima)."
   ]
  },
  {
   "cell_type": "markdown",
   "metadata": {
    "pycharm": {
     "name": "#%% md\n"
    }
   },
   "source": [
    "## $VIF \\leq 12$"
   ]
  },
  {
   "cell_type": "code",
   "execution_count": 51,
   "metadata": {
    "pycharm": {
     "name": "#%%\n"
    }
   },
   "outputs": [],
   "source": [
    "vif_leq_12 = [\n",
    "    \"P1\",\n",
    "    \"P2\",\n",
    "    \"P5\",\n",
    "    \"P6\",\n",
    "    \"P7\",\n",
    "    \"P9\",\n",
    "    \"P10\",\n",
    "    \"P12\",\n",
    "    \"P14\",\n",
    "    \"P15\",\n",
    "    \"P16\",\n",
    "    \"P17\",\n",
    "    \"P18\",\n",
    "    \"P19\",\n",
    "    \"P20\",\n",
    "    \"P21\",\n",
    "    \"P22\",\n",
    "    \"P23\",\n",
    "    \"P24\",\n",
    "    \"P25\",\n",
    "    \"P26\",\n",
    "    \"P27\",\n",
    "    \"P28\",\n",
    "    \"P29\",\n",
    "    \"P30\",\n",
    "]"
   ]
  },
  {
   "cell_type": "code",
   "execution_count": 52,
   "metadata": {
    "pycharm": {
     "name": "#%%\n"
    }
   },
   "outputs": [
    {
     "data": {
      "text/html": [
       "<table class=\"simpletable\">\n",
       "<caption>OLS Regression Results</caption>\n",
       "<tr>\n",
       "  <th>Dep. Variable:</th>            <td>y</td>        <th>  R-squared (uncentered):</th>      <td>   0.828</td>\n",
       "</tr>\n",
       "<tr>\n",
       "  <th>Model:</th>                   <td>OLS</td>       <th>  Adj. R-squared (uncentered):</th> <td>   0.745</td>\n",
       "</tr>\n",
       "<tr>\n",
       "  <th>Method:</th>             <td>Least Squares</td>  <th>  F-statistic:       </th>          <td>   10.01</td>\n",
       "</tr>\n",
       "<tr>\n",
       "  <th>Date:</th>             <td>Sun, 08 Jan 2023</td> <th>  Prob (F-statistic):</th>          <td>2.58e-12</td>\n",
       "</tr>\n",
       "<tr>\n",
       "  <th>Time:</th>                 <td>16:16:46</td>     <th>  Log-Likelihood:    </th>          <td> -4.0945</td>\n",
       "</tr>\n",
       "<tr>\n",
       "  <th>No. Observations:</th>      <td>    77</td>      <th>  AIC:               </th>          <td>   58.19</td>\n",
       "</tr>\n",
       "<tr>\n",
       "  <th>Df Residuals:</th>          <td>    52</td>      <th>  BIC:               </th>          <td>   116.8</td>\n",
       "</tr>\n",
       "<tr>\n",
       "  <th>Df Model:</th>              <td>    25</td>      <th>                     </th>              <td> </td>   \n",
       "</tr>\n",
       "<tr>\n",
       "  <th>Covariance Type:</th>      <td>nonrobust</td>    <th>                     </th>              <td> </td>   \n",
       "</tr>\n",
       "</table>\n",
       "<table class=\"simpletable\">\n",
       "<tr>\n",
       "   <td></td>      <th>coef</th>     <th>std err</th>      <th>t</th>      <th>P>|t|</th>  <th>[0.025</th>    <th>0.975]</th>  \n",
       "</tr>\n",
       "<tr>\n",
       "  <th>P1</th>  <td>    0.0528</td> <td>    0.063</td> <td>    0.834</td> <td> 0.408</td> <td>   -0.074</td> <td>    0.180</td>\n",
       "</tr>\n",
       "<tr>\n",
       "  <th>P2</th>  <td>   -0.0023</td> <td>    0.053</td> <td>   -0.043</td> <td> 0.966</td> <td>   -0.108</td> <td>    0.103</td>\n",
       "</tr>\n",
       "<tr>\n",
       "  <th>P5</th>  <td>    0.0584</td> <td>    0.051</td> <td>    1.151</td> <td> 0.255</td> <td>   -0.043</td> <td>    0.160</td>\n",
       "</tr>\n",
       "<tr>\n",
       "  <th>P6</th>  <td>   -0.0036</td> <td>    0.066</td> <td>   -0.054</td> <td> 0.957</td> <td>   -0.135</td> <td>    0.128</td>\n",
       "</tr>\n",
       "<tr>\n",
       "  <th>P7</th>  <td>   -0.0386</td> <td>    0.069</td> <td>   -0.559</td> <td> 0.578</td> <td>   -0.177</td> <td>    0.100</td>\n",
       "</tr>\n",
       "<tr>\n",
       "  <th>P9</th>  <td>    0.0031</td> <td>    0.047</td> <td>    0.067</td> <td> 0.947</td> <td>   -0.091</td> <td>    0.097</td>\n",
       "</tr>\n",
       "<tr>\n",
       "  <th>P10</th> <td>   -0.0395</td> <td>    0.055</td> <td>   -0.722</td> <td> 0.473</td> <td>   -0.149</td> <td>    0.070</td>\n",
       "</tr>\n",
       "<tr>\n",
       "  <th>P12</th> <td>   -0.1149</td> <td>    0.061</td> <td>   -1.875</td> <td> 0.066</td> <td>   -0.238</td> <td>    0.008</td>\n",
       "</tr>\n",
       "<tr>\n",
       "  <th>P14</th> <td>   -0.0084</td> <td>    0.031</td> <td>   -0.269</td> <td> 0.789</td> <td>   -0.071</td> <td>    0.055</td>\n",
       "</tr>\n",
       "<tr>\n",
       "  <th>P15</th> <td>   -0.0620</td> <td>    0.040</td> <td>   -1.548</td> <td> 0.128</td> <td>   -0.142</td> <td>    0.018</td>\n",
       "</tr>\n",
       "<tr>\n",
       "  <th>P16</th> <td>   -0.0179</td> <td>    0.041</td> <td>   -0.432</td> <td> 0.668</td> <td>   -0.101</td> <td>    0.065</td>\n",
       "</tr>\n",
       "<tr>\n",
       "  <th>P17</th> <td>   -0.0375</td> <td>    0.052</td> <td>   -0.723</td> <td> 0.473</td> <td>   -0.142</td> <td>    0.067</td>\n",
       "</tr>\n",
       "<tr>\n",
       "  <th>P18</th> <td>    0.0169</td> <td>    0.066</td> <td>    0.255</td> <td> 0.800</td> <td>   -0.116</td> <td>    0.149</td>\n",
       "</tr>\n",
       "<tr>\n",
       "  <th>P19</th> <td>    0.0101</td> <td>    0.066</td> <td>    0.154</td> <td> 0.879</td> <td>   -0.122</td> <td>    0.142</td>\n",
       "</tr>\n",
       "<tr>\n",
       "  <th>P20</th> <td>   -0.0190</td> <td>    0.034</td> <td>   -0.567</td> <td> 0.573</td> <td>   -0.086</td> <td>    0.048</td>\n",
       "</tr>\n",
       "<tr>\n",
       "  <th>P21</th> <td>    0.2149</td> <td>    0.073</td> <td>    2.960</td> <td> 0.005</td> <td>    0.069</td> <td>    0.361</td>\n",
       "</tr>\n",
       "<tr>\n",
       "  <th>P22</th> <td>    0.0238</td> <td>    0.052</td> <td>    0.460</td> <td> 0.648</td> <td>   -0.080</td> <td>    0.127</td>\n",
       "</tr>\n",
       "<tr>\n",
       "  <th>P23</th> <td>    0.1639</td> <td>    0.064</td> <td>    2.546</td> <td> 0.014</td> <td>    0.035</td> <td>    0.293</td>\n",
       "</tr>\n",
       "<tr>\n",
       "  <th>P24</th> <td>   -0.0550</td> <td>    0.062</td> <td>   -0.893</td> <td> 0.376</td> <td>   -0.178</td> <td>    0.069</td>\n",
       "</tr>\n",
       "<tr>\n",
       "  <th>P25</th> <td>    0.0063</td> <td>    0.040</td> <td>    0.157</td> <td> 0.876</td> <td>   -0.074</td> <td>    0.087</td>\n",
       "</tr>\n",
       "<tr>\n",
       "  <th>P26</th> <td>    0.0390</td> <td>    0.060</td> <td>    0.649</td> <td> 0.519</td> <td>   -0.082</td> <td>    0.160</td>\n",
       "</tr>\n",
       "<tr>\n",
       "  <th>P27</th> <td>   -0.0509</td> <td>    0.035</td> <td>   -1.437</td> <td> 0.157</td> <td>   -0.122</td> <td>    0.020</td>\n",
       "</tr>\n",
       "<tr>\n",
       "  <th>P28</th> <td>    0.0047</td> <td>    0.074</td> <td>    0.064</td> <td> 0.950</td> <td>   -0.144</td> <td>    0.153</td>\n",
       "</tr>\n",
       "<tr>\n",
       "  <th>P29</th> <td>    0.0145</td> <td>    0.060</td> <td>    0.240</td> <td> 0.811</td> <td>   -0.107</td> <td>    0.136</td>\n",
       "</tr>\n",
       "<tr>\n",
       "  <th>P30</th> <td>    0.0813</td> <td>    0.030</td> <td>    2.708</td> <td> 0.009</td> <td>    0.021</td> <td>    0.141</td>\n",
       "</tr>\n",
       "</table>\n",
       "<table class=\"simpletable\">\n",
       "<tr>\n",
       "  <th>Omnibus:</th>       <td> 2.314</td> <th>  Durbin-Watson:     </th> <td>   1.560</td>\n",
       "</tr>\n",
       "<tr>\n",
       "  <th>Prob(Omnibus):</th> <td> 0.314</td> <th>  Jarque-Bera (JB):  </th> <td>   1.858</td>\n",
       "</tr>\n",
       "<tr>\n",
       "  <th>Skew:</th>          <td> 0.008</td> <th>  Prob(JB):          </th> <td>   0.395</td>\n",
       "</tr>\n",
       "<tr>\n",
       "  <th>Kurtosis:</th>      <td> 3.761</td> <th>  Cond. No.          </th> <td>    16.4</td>\n",
       "</tr>\n",
       "</table><br/><br/>Notes:<br/>[1] R² is computed without centering (uncentered) since the model does not contain a constant.<br/>[2] Standard Errors assume that the covariance matrix of the errors is correctly specified."
      ],
      "text/plain": [
       "<class 'statsmodels.iolib.summary.Summary'>\n",
       "\"\"\"\n",
       "                                 OLS Regression Results                                \n",
       "=======================================================================================\n",
       "Dep. Variable:                      y   R-squared (uncentered):                   0.828\n",
       "Model:                            OLS   Adj. R-squared (uncentered):              0.745\n",
       "Method:                 Least Squares   F-statistic:                              10.01\n",
       "Date:                Sun, 08 Jan 2023   Prob (F-statistic):                    2.58e-12\n",
       "Time:                        16:16:46   Log-Likelihood:                         -4.0945\n",
       "No. Observations:                  77   AIC:                                      58.19\n",
       "Df Residuals:                      52   BIC:                                      116.8\n",
       "Df Model:                          25                                                  \n",
       "Covariance Type:            nonrobust                                                  \n",
       "==============================================================================\n",
       "                 coef    std err          t      P>|t|      [0.025      0.975]\n",
       "------------------------------------------------------------------------------\n",
       "P1             0.0528      0.063      0.834      0.408      -0.074       0.180\n",
       "P2            -0.0023      0.053     -0.043      0.966      -0.108       0.103\n",
       "P5             0.0584      0.051      1.151      0.255      -0.043       0.160\n",
       "P6            -0.0036      0.066     -0.054      0.957      -0.135       0.128\n",
       "P7            -0.0386      0.069     -0.559      0.578      -0.177       0.100\n",
       "P9             0.0031      0.047      0.067      0.947      -0.091       0.097\n",
       "P10           -0.0395      0.055     -0.722      0.473      -0.149       0.070\n",
       "P12           -0.1149      0.061     -1.875      0.066      -0.238       0.008\n",
       "P14           -0.0084      0.031     -0.269      0.789      -0.071       0.055\n",
       "P15           -0.0620      0.040     -1.548      0.128      -0.142       0.018\n",
       "P16           -0.0179      0.041     -0.432      0.668      -0.101       0.065\n",
       "P17           -0.0375      0.052     -0.723      0.473      -0.142       0.067\n",
       "P18            0.0169      0.066      0.255      0.800      -0.116       0.149\n",
       "P19            0.0101      0.066      0.154      0.879      -0.122       0.142\n",
       "P20           -0.0190      0.034     -0.567      0.573      -0.086       0.048\n",
       "P21            0.2149      0.073      2.960      0.005       0.069       0.361\n",
       "P22            0.0238      0.052      0.460      0.648      -0.080       0.127\n",
       "P23            0.1639      0.064      2.546      0.014       0.035       0.293\n",
       "P24           -0.0550      0.062     -0.893      0.376      -0.178       0.069\n",
       "P25            0.0063      0.040      0.157      0.876      -0.074       0.087\n",
       "P26            0.0390      0.060      0.649      0.519      -0.082       0.160\n",
       "P27           -0.0509      0.035     -1.437      0.157      -0.122       0.020\n",
       "P28            0.0047      0.074      0.064      0.950      -0.144       0.153\n",
       "P29            0.0145      0.060      0.240      0.811      -0.107       0.136\n",
       "P30            0.0813      0.030      2.708      0.009       0.021       0.141\n",
       "==============================================================================\n",
       "Omnibus:                        2.314   Durbin-Watson:                   1.560\n",
       "Prob(Omnibus):                  0.314   Jarque-Bera (JB):                1.858\n",
       "Skew:                           0.008   Prob(JB):                        0.395\n",
       "Kurtosis:                       3.761   Cond. No.                         16.4\n",
       "==============================================================================\n",
       "\n",
       "Notes:\n",
       "[1] R² is computed without centering (uncentered) since the model does not contain a constant.\n",
       "[2] Standard Errors assume that the covariance matrix of the errors is correctly specified.\n",
       "\"\"\""
      ]
     },
     "execution_count": 52,
     "metadata": {},
     "output_type": "execute_result"
    }
   ],
   "source": [
    "ols_mod_VIF_12 = sm.OLS(df_enc.endog_lin_train, df_enc.exog_lin_train[vif_leq_12])\n",
    "\n",
    "ols_res = ols_mod_VIF_12.fit()\n",
    "\n",
    "ols_res.summary()"
   ]
  },
  {
   "cell_type": "code",
   "execution_count": 53,
   "metadata": {
    "pycharm": {
     "name": "#%%\n"
    }
   },
   "outputs": [
    {
     "data": {
      "text/plain": [
       "0.14578146192990576"
      ]
     },
     "execution_count": 53,
     "metadata": {},
     "output_type": "execute_result"
    }
   ],
   "source": [
    "from sklearn.metrics import mean_squared_error\n",
    "\n",
    "\n",
    "mean_squared_error(\n",
    "    y_true=df_enc.endog_lin_test.reshape(-1,),\n",
    "    y_pred=ols_res.predict(df_enc.exog_lin_test[vif_leq_12]),\n",
    ")"
   ]
  },
  {
   "cell_type": "code",
   "execution_count": 54,
   "metadata": {
    "pycharm": {
     "name": "#%%\n"
    }
   },
   "outputs": [
    {
     "data": {
      "text/plain": [
       "0.06511981481933952"
      ]
     },
     "execution_count": 54,
     "metadata": {},
     "output_type": "execute_result"
    }
   ],
   "source": [
    "from sklearn.metrics import mean_squared_error\n",
    "\n",
    "\n",
    "mean_squared_error(\n",
    "    y_true=df_enc.endog_lin_train.reshape(-1,),\n",
    "    y_pred=ols_res.predict(df_enc.exog_lin_train[vif_leq_12]),\n",
    ")"
   ]
  },
  {
   "cell_type": "code",
   "execution_count": null,
   "metadata": {
    "pycharm": {
     "name": "#%%\n"
    }
   },
   "outputs": [],
   "source": []
  }
 ],
 "metadata": {
  "kernelspec": {
   "display_name": "Python 3 (ipykernel)",
   "language": "python",
   "name": "python3"
  },
  "language_info": {
   "codemirror_mode": {
    "name": "ipython",
    "version": 3
   },
   "file_extension": ".py",
   "mimetype": "text/x-python",
   "name": "python",
   "nbconvert_exporter": "python",
   "pygments_lexer": "ipython3",
   "version": "3.8.0"
  }
 },
 "nbformat": 4,
 "nbformat_minor": 1
}