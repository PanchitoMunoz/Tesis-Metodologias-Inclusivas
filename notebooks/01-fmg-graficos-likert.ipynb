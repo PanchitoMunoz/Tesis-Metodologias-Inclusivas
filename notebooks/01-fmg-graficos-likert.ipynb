{
 "cells": [
  {
   "cell_type": "markdown",
   "metadata": {
    "pycharm": {
     "name": "#%% md\n"
    }
   },
   "source": [
    "# Configuraciones iniciales"
   ]
  },
  {
   "cell_type": "markdown",
   "metadata": {
    "pycharm": {
     "name": "#%% md\n"
    }
   },
   "source": [
    "Desactivamos algunos warnings producto de librerías deprecadas"
   ]
  },
  {
   "cell_type": "code",
   "execution_count": null,
   "metadata": {
    "pycharm": {
     "name": "#%%\n"
    }
   },
   "outputs": [],
   "source": [
    "import warnings\n",
    "\n",
    "from typing import List\n",
    "\n",
    "warnings.filterwarnings(\"ignore\")"
   ]
  },
  {
   "cell_type": "code",
   "execution_count": null,
   "metadata": {
    "pycharm": {
     "name": "#%%\n"
    }
   },
   "outputs": [],
   "source": [
    "# Dejar el path principal como el anterior.\n",
    "import sys\n",
    "sys.path.append('../')"
   ]
  },
  {
   "cell_type": "markdown",
   "metadata": {
    "pycharm": {
     "name": "#%% md\n"
    }
   },
   "source": [
    "Seteamos las configuraciones del Logging"
   ]
  },
  {
   "cell_type": "code",
   "execution_count": null,
   "metadata": {
    "pycharm": {
     "name": "#%%\n"
    }
   },
   "outputs": [],
   "source": [
    "import logging\n",
    "\n",
    "# Crear el logger\n",
    "log = logging.getLogger(__name__)\n",
    "\n",
    "# Setear el nivel del registro\n",
    "log.setLevel(logging.WARNING)\n",
    "\n",
    "# Formato de los mensajes\n",
    "formatter = logging.Formatter(\"%(levelname)s: (%(asctime)s) [%(filename)s: %(lineno)s] %(message)s\")\n",
    "\n",
    "if not log.hasHandlers():\n",
    "    # Handlers\n",
    "    file_handler = logging.FileHandler(\"logging.log\")\n",
    "    file_handler.setFormatter(formatter)  # Setear el formato del handler\n",
    "    # Agregar el handler al logger\n",
    "    # log.addHandler(file_handler)\n",
    "\n",
    "    stream_handler = logging.StreamHandler()\n",
    "    stream_handler.setFormatter(formatter)\n",
    "    # Agregar el handler al logger\n",
    "    log.addHandler(stream_handler)"
   ]
  },
  {
   "cell_type": "markdown",
   "metadata": {
    "pycharm": {
     "name": "#%% md\n"
    }
   },
   "source": [
    "Instalar la librería plot-likert y otras librerías útiles"
   ]
  },
  {
   "cell_type": "code",
   "execution_count": null,
   "metadata": {
    "pycharm": {
     "name": "#%%\n"
    }
   },
   "outputs": [],
   "source": [
    "# Librería para hacer gráficos Likert\n",
    "# !pip install plot-likert\n",
    "\n",
    "# Para obtener datos de excel\n",
    "# !pip install openpyxl\n",
    "\n",
    "# Para tener un transformador de data\n",
    "# !pip install -U scikit-learn\n",
    "\n",
    "# Para tener herramientas estadísticas\n",
    "# !python -m pip install statsmodels\n",
    "\n",
    "# Para tener Seaborn\n",
    "# !pip install seaborn"
   ]
  },
  {
   "cell_type": "markdown",
   "metadata": {
    "pycharm": {
     "name": "#%% md\n"
    }
   },
   "source": [
    "Importamos algunas librerías útiles para el resto del notebook"
   ]
  },
  {
   "cell_type": "code",
   "execution_count": null,
   "metadata": {
    "pycharm": {
     "name": "#%%\n"
    }
   },
   "outputs": [],
   "source": [
    "import pandas as pd\n",
    "import numpy as np\n",
    "import matplotlib.pyplot as plt\n",
    "import seaborn as sns\n",
    "from pathlib import Path"
   ]
  },
  {
   "cell_type": "markdown",
   "metadata": {
    "pycharm": {
     "name": "#%% md\n"
    }
   },
   "source": [
    "## Creación de carpetas"
   ]
  },
  {
   "cell_type": "markdown",
   "metadata": {
    "pycharm": {
     "name": "#%% md\n"
    }
   },
   "source": [
    "Path para los datos"
   ]
  },
  {
   "cell_type": "code",
   "execution_count": null,
   "metadata": {
    "pycharm": {
     "name": "#%%\n"
    }
   },
   "outputs": [],
   "source": [
    "DATA_PATH = Path(r\"..\\data\")\n",
    "\n",
    "if not DATA_PATH.exists():\n",
    "    log.info(f\"Creando carpeta {DATA_PATH = }\")\n",
    "    DATA_PATH.mkdir()"
   ]
  },
  {
   "cell_type": "code",
   "execution_count": null,
   "metadata": {
    "pycharm": {
     "name": "#%%\n"
    }
   },
   "outputs": [],
   "source": [
    "# Path absoluto\n",
    "QNA_PATH = DATA_PATH / \"questions-and-answers.xlsx\""
   ]
  },
  {
   "cell_type": "markdown",
   "metadata": {
    "pycharm": {
     "name": "#%% md\n"
    }
   },
   "source": [
    "Path para las imágenes"
   ]
  },
  {
   "cell_type": "code",
   "execution_count": null,
   "metadata": {
    "pycharm": {
     "name": "#%%\n"
    }
   },
   "outputs": [],
   "source": [
    "# Crear la carpeta de imágenes, si no se ha creado\n",
    "from pathlib import Path\n",
    "\n",
    "\n",
    "IMG_PATH = Path(r\"..\\img\")\n",
    "\n",
    "if not IMG_PATH.exists():\n",
    "    log.info(f\"Creando path {IMG_PATH = }\")\n",
    "    IMG_PATH.mkdir()"
   ]
  },
  {
   "cell_type": "code",
   "execution_count": null,
   "metadata": {
    "pycharm": {
     "name": "#%%\n"
    }
   },
   "outputs": [],
   "source": [
    "QNA_COMPLETE_PATH = DATA_PATH / \"questions-and-answers-complete.xlsx\"\n",
    "QNA_COMPLETE_PATH"
   ]
  },
  {
   "cell_type": "code",
   "execution_count": null,
   "metadata": {
    "pycharm": {
     "name": "#%%\n"
    }
   },
   "outputs": [],
   "source": [
    "IMG_SUB_DIMS_COMPLETE_PATH = IMG_PATH / \"sub-dims-complete\"\n",
    "\n",
    "if not IMG_SUB_DIMS_COMPLETE_PATH.exists():\n",
    "    log.info(f\"Creando path {IMG_SUB_DIMS_COMPLETE_PATH = }\")\n",
    "    IMG_SUB_DIMS_COMPLETE_PATH.mkdir()"
   ]
  },
  {
   "cell_type": "code",
   "execution_count": null,
   "metadata": {
    "pycharm": {
     "name": "#%%\n"
    }
   },
   "outputs": [],
   "source": [
    "IMG_QUESTIONS_COMPLETE_PATH = IMG_PATH / \"questions-complete\"\n",
    "\n",
    "if not IMG_QUESTIONS_COMPLETE_PATH.exists():\n",
    "    log.info(f\"Creando path {IMG_QUESTIONS_COMPLETE_PATH = }\")\n",
    "    IMG_QUESTIONS_COMPLETE_PATH.mkdir()"
   ]
  },
  {
   "cell_type": "markdown",
   "metadata": {
    "pycharm": {
     "name": "#%% md\n"
    }
   },
   "source": [
    "# Jugando con la librería `plot_likert`"
   ]
  },
  {
   "cell_type": "markdown",
   "metadata": {
    "pycharm": {
     "name": "#%% md\n"
    }
   },
   "source": [
    "Empezamos importando la librería para verificar que estuvo bien instalada."
   ]
  },
  {
   "cell_type": "code",
   "execution_count": null,
   "metadata": {
    "pycharm": {
     "name": "#%%\n"
    }
   },
   "outputs": [],
   "source": [
    "import plot_likert"
   ]
  },
  {
   "cell_type": "markdown",
   "metadata": {
    "pycharm": {
     "name": "#%% md\n"
    }
   },
   "source": [
    "Escogemos una paleta de colores apropiada para los gráficos Likert."
   ]
  },
  {
   "cell_type": "code",
   "execution_count": null,
   "metadata": {
    "pycharm": {
     "name": "#%%\n"
    }
   },
   "outputs": [],
   "source": [
    "sns.set_palette(\"coolwarm\", n_colors=10)\n",
    "pal = sns.color_palette()\n",
    "pal"
   ]
  },
  {
   "cell_type": "markdown",
   "metadata": {
    "pycharm": {
     "name": "#%% md\n"
    }
   },
   "source": [
    "Hagamos un pequeño experimento con la librería Likert."
   ]
  },
  {
   "cell_type": "code",
   "execution_count": null,
   "metadata": {
    "pycharm": {
     "name": "#%%\n"
    }
   },
   "outputs": [],
   "source": [
    "rng = np.random.default_rng(seed=42)\n",
    "data = pd.DataFrame(rng.choice(plot_likert.scales.agree, (10,2)), columns=['Q1','Q2'])"
   ]
  },
  {
   "cell_type": "code",
   "execution_count": null,
   "metadata": {
    "pycharm": {
     "name": "#%%\n"
    }
   },
   "outputs": [],
   "source": [
    "plot_likert.plot_likert(\n",
    "    data, plot_likert.scales.agree,\n",
    "    colors=plot_likert.colors.default_with_darker_neutral\n",
    ");"
   ]
  },
  {
   "cell_type": "markdown",
   "metadata": {
    "pycharm": {
     "name": "#%% md\n"
    }
   },
   "source": [
    "El gráfico se ve bastante bien, para datos pequeños."
   ]
  },
  {
   "cell_type": "markdown",
   "metadata": {
    "pycharm": {
     "name": "#%% md\n"
    }
   },
   "source": [
    "# Importación de los datos de los alumnos y sus respuestas a las preguntas"
   ]
  },
  {
   "cell_type": "markdown",
   "metadata": {
    "pycharm": {
     "name": "#%% md\n"
    }
   },
   "source": [
    "Ahora que se sabe cómo graficar con Likert, empecemos importando el dataset y algunas variables que serán de utilidad para el resto del notebook."
   ]
  },
  {
   "cell_type": "code",
   "execution_count": null,
   "metadata": {
    "pycharm": {
     "name": "#%%\n"
    }
   },
   "outputs": [],
   "source": [
    "log.debug(f\"Importando datos de {QNA_COMPLETE_PATH}\")\n",
    "df = pd.read_excel(QNA_COMPLETE_PATH)\n",
    "\n",
    "df.head()"
   ]
  },
  {
   "cell_type": "code",
   "execution_count": null,
   "metadata": {
    "pycharm": {
     "name": "#%%\n"
    }
   },
   "outputs": [],
   "source": [
    "questions_ = list(df.columns)[1:]\n",
    "questions_"
   ]
  },
  {
   "cell_type": "code",
   "execution_count": null,
   "metadata": {
    "pycharm": {
     "name": "#%%\n"
    }
   },
   "outputs": [],
   "source": [
    "import copy\n",
    "\n",
    "\n",
    "log.debug(\"Renombrando columnas\")\n",
    "questions_copy = copy.copy(questions_)\n",
    "for i in range(len(questions_)):\n",
    "    questions_copy[i] = f\"P{i+1}.: \" + questions_[i]\n",
    "\n",
    "df.columns = [\"Prom Cs\"] + questions_copy\n",
    "\n",
    "\n",
    "df.head()"
   ]
  },
  {
   "cell_type": "code",
   "execution_count": null,
   "metadata": {
    "pycharm": {
     "name": "#%%\n"
    }
   },
   "outputs": [],
   "source": [
    "questions_ = questions_copy\n",
    "\n",
    "# Subdim 1.1\n",
    "subdim_1_1 = [questions_.pop(0), questions_.pop(0), questions_.pop(0), questions_.pop(0), questions_.pop(0)]\n",
    "\n",
    "# Subdim 1.2\n",
    "subdim_1_2 = [questions_.pop(0), questions_.pop(0), questions_.pop(0), questions_.pop(0), questions_.pop(0)]\n",
    "\n",
    "# Subdim 1.3\n",
    "subdim_1_3 = [questions_.pop(0), questions_.pop(0), questions_.pop(0), questions_.pop(0), questions_.pop(0),\n",
    "              questions_.pop(0)]\n",
    "\n",
    "# Subdim 2.1\n",
    "subdim_2_1 = [questions_.pop(0), questions_.pop(0)]\n",
    "\n",
    "# Subdim 2.2\n",
    "subdim_2_2 = [questions_.pop(0), questions_.pop(0)]\n",
    "\n",
    "# Subdim 2.3\n",
    "subdim_2_3 = [questions_.pop(0), questions_.pop(0), questions_.pop(0), questions_.pop(0)]\n",
    "\n",
    "# Subdim 2.4\n",
    "subdim_2_4 = [questions_.pop(0), questions_.pop(0), questions_.pop(0), questions_.pop(0), questions_.pop(0),\n",
    "              questions_.pop(0), questions_.pop(0)]\n",
    "\n",
    "# Concatenar todas las preguntas\n",
    "questions = subdim_1_1 + subdim_1_2 + subdim_1_3 + subdim_2_1 + subdim_2_2 + subdim_2_3 + subdim_2_4\n",
    "questions"
   ]
  },
  {
   "cell_type": "markdown",
   "metadata": {
    "pycharm": {
     "name": "#%% md\n"
    }
   },
   "source": [
    "# Función para generar gráficos Likert"
   ]
  },
  {
   "cell_type": "code",
   "execution_count": null,
   "metadata": {
    "pycharm": {
     "name": "#%%\n"
    }
   },
   "outputs": [],
   "source": [
    "scales = [\n",
    "    \"Nunca\",\n",
    "    \"Rara vez\",\n",
    "    \"Ocasionalmente\",\n",
    "    \"Casi siempre\",\n",
    "    \"Siempre, en todas las clases\"\n",
    "]"
   ]
  },
  {
   "cell_type": "markdown",
   "metadata": {
    "pycharm": {
     "name": "#%% md\n"
    }
   },
   "source": [
    "Generamos una lista de colores específicos para este tipo de gráfico."
   ]
  },
  {
   "cell_type": "code",
   "execution_count": null,
   "metadata": {
    "pycharm": {
     "name": "#%%\n"
    }
   },
   "outputs": [],
   "source": [
    "colors = list(sns.color_palette().as_hex())\n",
    "n_colors = len(colors)"
   ]
  },
  {
   "cell_type": "code",
   "execution_count": null,
   "metadata": {
    "pycharm": {
     "name": "#%%\n"
    }
   },
   "outputs": [],
   "source": [
    "likert_colors: plot_likert.colors.Colors = [\n",
    "    plot_likert.colors.TRANSPARENT,\n",
    "    colors[-1],\n",
    "    colors[-2],\n",
    "    \"silver\",\n",
    "    colors[1],\n",
    "    colors[0],\n",
    "]"
   ]
  },
  {
   "cell_type": "code",
   "execution_count": null,
   "metadata": {
    "pycharm": {
     "name": "#%%\n"
    }
   },
   "outputs": [],
   "source": [
    "def personalised_plot_likert(\n",
    "        df, questions: List[str],\n",
    "        scales=tuple(scales),\n",
    "        title=None, xlabel='Porcentaje de respuestas',\n",
    "        save_path=None, save_config=None,\n",
    "        **kwargs\n",
    "):\n",
    "    log.info(f\"personalised_plot_likert: ({title=}, {xlabel=})\")\n",
    "    kwargs.setdefault(\"bar_labels\", True)\n",
    "    kwargs.setdefault(\"colors\", likert_colors.copy())\n",
    "    kwargs.setdefault(\"plot_percentage\", True)\n",
    "    log.debug(f\"{kwargs=}\")\n",
    "\n",
    "    # Filtrando data frame\n",
    "    new_df = df[questions]\n",
    "\n",
    "    # Creando el gráfico\n",
    "    log.debug(\"Creando plot con plot_likert\")\n",
    "    ax = plot_likert.plot_likert(new_df, scales, **kwargs)\n",
    "    ax.xaxis.set_label_text(xlabel)\n",
    "    ax.set_title(title)\n",
    "\n",
    "    if save_path:\n",
    "        log.info(f\"Salvando figura en {save_path=}\")\n",
    "        save_config = save_config or dict()\n",
    "        save_config.setdefault(\"dpi\", 600)\n",
    "        save_config.setdefault(\"bbox_inches\", \"tight\")\n",
    "        log.debug(f\"{save_config=}\")\n",
    "        ax.get_figure().savefig(save_path, **save_config)\n",
    "    return ax\n",
    "\n",
    "personalised_plot_likert(df, questions=subdim_1_1)\n",
    "plt.show()"
   ]
  },
  {
   "cell_type": "markdown",
   "metadata": {
    "pycharm": {
     "name": "#%% md\n"
    }
   },
   "source": [
    "# Gráficos pastel"
   ]
  },
  {
   "cell_type": "markdown",
   "metadata": {
    "pycharm": {
     "name": "#%% md\n"
    }
   },
   "source": [
    "Hacemos una función para los gráficos de pastel."
   ]
  },
  {
   "cell_type": "code",
   "execution_count": null,
   "metadata": {
    "pycharm": {
     "name": "#%%\n"
    }
   },
   "outputs": [],
   "source": [
    "def parse_question(question):\n",
    "    \"\"\"\n",
    "    Dada una pregunta, le quita caracteres especiales, y los deja en formato con letras minusculas, y con un guion de separacion\n",
    "    :param question:\n",
    "    :return:\n",
    "    \"\"\"\n",
    "    question = question.casefold()\n",
    "    question = filter(lambda x: x.isalpha() or x.isnumeric() or x.isspace(), question)\n",
    "    question = \"\".join(question).replace(\" \", \"-\")\n",
    "    return question\n",
    "\n",
    "parse_question(subdim_1_1[0]), subdim_1_1[0]"
   ]
  },
  {
   "cell_type": "code",
   "execution_count": null,
   "metadata": {
    "pycharm": {
     "name": "#%%\n"
    }
   },
   "outputs": [],
   "source": [
    "def pie_plot(\n",
    "        df,\n",
    "        question,\n",
    "        scales=tuple(scales),\n",
    "        kwargs_pie: dict = None,\n",
    "        add_legend=False,\n",
    "        legend_loc=(1.2, 0.7),\n",
    "        width_wrap=70,\n",
    "        save=False,\n",
    "        save_path: str = None,\n",
    "        save_config=None,\n",
    "        threshold_percentage=0.05,\n",
    "):\n",
    "    log.info(f\"pie_plot({question=}, {scales=}, {kwargs_pie=}, {legend_loc=}, {width_wrap=})\")\n",
    "    from collections import OrderedDict\n",
    "    from textwrap import wrap\n",
    "\n",
    "    # Respuestas de todos los alumnos dada una pregunta\n",
    "    list_answers = df[question]\n",
    "\n",
    "    # Empezaremos a contar el número de respuestas dada la escala de Likert\n",
    "    log.debug(\"Contando el número de respuestas por escala\")\n",
    "    count_scales = OrderedDict((scale, 0) for scale in scales)\n",
    "    for answer in list_answers:\n",
    "        count_scales[answer] += 1\n",
    "    count_scales = count_scales.values()\n",
    "    log.debug(f\"{count_scales = }\")\n",
    "\n",
    "    # Filtramos los valores que son iguales a cero\n",
    "    x = np.array([count for count in count_scales if count > 0])\n",
    "    x = x / sum(x)  # Sacar el porcentaje (entre 0 y 1)\n",
    "    log.debug(f\"{x = }\")\n",
    "    labels: List[str] = [scale for count, scale in zip(count_scales, scales) if count > 0]\n",
    "    log.debug(f\"{labels = }\")\n",
    "    colors: List[str] = [color for count, color in zip(count_scales, likert_colors[1:]) if count > 0]\n",
    "    log.debug(f\"{colors = }\")\n",
    "\n",
    "    # Seteamos un diccionario para los argumentos del gráfico de pastel, y seteamos valores por default\n",
    "    kwargs_pie = kwargs_pie or dict()\n",
    "    kwargs_pie.setdefault(\"x\", x)\n",
    "    kwargs_pie.setdefault(\"labels\", labels)\n",
    "    kwargs_pie.setdefault(\"colors\", colors)\n",
    "    kwargs_pie.setdefault(\"autopct\", '%1.1f%%')\n",
    "    kwargs_pie.setdefault(\"textprops\", dict(size='large'))\n",
    "    kwargs_pie.setdefault(\"startangle\", 0)\n",
    "    log.debug(f\"{kwargs_pie = }\")\n",
    "\n",
    "    # Generamos el gráfico pastel\n",
    "    log.debug(\"Generando el gráfico de pastel.\")\n",
    "    fig, ax = plt.subplots()\n",
    "    patches, texts, autotexts = ax.pie(**kwargs_pie)\n",
    "\n",
    "    # Cambiamos las letras de los porcentajes para que estén ennegrecidas y de color blanco\n",
    "    log.debug(\"Cambiando las letras a color blanco.\")\n",
    "    for autotext, value in zip(autotexts, x):\n",
    "        autotext.set(fontweight='bold', color='white')\n",
    "        if value < threshold_percentage:\n",
    "            autotext.set(text=\"\")\n",
    "\n",
    "\n",
    "    # Cambialos el lugar de la leyenda\n",
    "    log.info(\"Agregando leyenda y título\")\n",
    "    if add_legend: plt.legend(loc=legend_loc)\n",
    "    ax.set_title(\"\\n\".join(wrap(question, width_wrap)))\n",
    "\n",
    "    if save:\n",
    "\n",
    "        if not save_path:\n",
    "            save_path = parse_question(question)\n",
    "            save_path = IMG_PATH / (save_path + \".png\")\n",
    "            log.debug(f\"{save_path = }\")\n",
    "\n",
    "        save_config = save_config or dict()\n",
    "        save_config.setdefault(\"dpi\", 600)\n",
    "        save_config.setdefault(\"bbox_inches\", \"tight\")\n",
    "        log.debug(f\"{save_config=}\")\n",
    "\n",
    "        log.info(f\"Salvando figura en {save_path=}\")\n",
    "        ax.get_figure().savefig(save_path, **save_config)\n",
    "        log.info(f\"Figura salvada.\")\n",
    "\n",
    "    return patches, texts, autotexts\n",
    "\n",
    "pie_plot(df, subdim_1_1[0], save=False, kwargs_pie=dict(startangle=0))\n",
    "\n",
    "plt.show()"
   ]
  },
  {
   "cell_type": "markdown",
   "metadata": {
    "pycharm": {
     "name": "#%% md\n"
    }
   },
   "source": [
    "# Gráficos"
   ]
  },
  {
   "cell_type": "markdown",
   "metadata": {
    "pycharm": {
     "name": "#%% md\n"
    }
   },
   "source": [
    "Ahora que tenemos funciones para todos los tipos de gráficos, esta sección será exclusivamente para incluir los gráficos pedidos."
   ]
  },
  {
   "cell_type": "code",
   "execution_count": null,
   "metadata": {
    "pycharm": {
     "name": "#%%\n"
    }
   },
   "outputs": [],
   "source": [
    "personalised_plot_likert(\n",
    "    df,\n",
    "    questions=subdim_1_1,\n",
    "    figsize=(6.4, 8),\n",
    "    title=\"Sub-dimensión 1.1: Preparación de la clase\",\n",
    "    save_path=IMG_SUB_DIMS_COMPLETE_PATH / \"sub-dim-1.1-preparacion-de-la-clase.png\",\n",
    ")\n",
    "plt.show()"
   ]
  },
  {
   "cell_type": "code",
   "execution_count": null,
   "metadata": {
    "pycharm": {
     "name": "#%%\n"
    }
   },
   "outputs": [],
   "source": [
    "personalised_plot_likert(\n",
    "    df,\n",
    "    questions=subdim_1_2,\n",
    "    figsize=(6.4, 6),\n",
    "    title=\"Sub-dimensión 1.2: Metodologías activas\",\n",
    "    save_path=IMG_SUB_DIMS_COMPLETE_PATH / \"sub-dim-1.2-metodologias-activas.png\",\n",
    ")\n",
    "plt.show()"
   ]
  },
  {
   "cell_type": "code",
   "execution_count": null,
   "metadata": {
    "pycharm": {
     "name": "#%%\n"
    }
   },
   "outputs": [],
   "source": [
    "personalised_plot_likert(\n",
    "    df,\n",
    "    questions=subdim_1_3,\n",
    "    figsize=(6.4, 9),\n",
    "    title=\"Sub-dimensión 1.3: Evaluación de y para los aprendizajes\",\n",
    "    save_path=IMG_SUB_DIMS_COMPLETE_PATH / \"sub-dim-1.3-evaluacion-de-y-para-los-aprendizajes.png\",\n",
    ")\n",
    "plt.show()"
   ]
  },
  {
   "cell_type": "code",
   "execution_count": null,
   "metadata": {
    "pycharm": {
     "name": "#%%\n"
    }
   },
   "outputs": [],
   "source": [
    "personalised_plot_likert(\n",
    "    df,\n",
    "    questions=subdim_2_1,\n",
    "    title=\"Sub-dimensión 2.1: Aprendizaje mediado con tecnologías\",\n",
    "    save_path=IMG_SUB_DIMS_COMPLETE_PATH / \"sub-dim-2.1-aprendizaje-mediado-con-tecnologías.png\",\n",
    ")\n",
    "plt.show()"
   ]
  },
  {
   "cell_type": "code",
   "execution_count": null,
   "metadata": {
    "pycharm": {
     "name": "#%%\n"
    }
   },
   "outputs": [],
   "source": [
    "personalised_plot_likert(\n",
    "    df,\n",
    "    questions=subdim_2_2,\n",
    "    title=\"Sub-dimensión 2.2: Aprendizaje Directo\",\n",
    "    save_path=IMG_SUB_DIMS_COMPLETE_PATH / \"sub-dim-2.2-aprendizaje-directo.png\",\n",
    ")\n",
    "plt.show()"
   ]
  },
  {
   "cell_type": "code",
   "execution_count": null,
   "metadata": {
    "pycharm": {
     "name": "#%%\n"
    }
   },
   "outputs": [],
   "source": [
    "personalised_plot_likert(\n",
    "    df,\n",
    "    questions=subdim_2_3,\n",
    "    figsize=(6.4, 6),\n",
    "    title=\"Sub-dimensión 2.3: Comunicación Pedagógica\",\n",
    "    save_path=IMG_SUB_DIMS_COMPLETE_PATH / \"sub-dim-2.3-comunicacion-pedagogica.png\",\n",
    ")\n",
    "plt.show()"
   ]
  },
  {
   "cell_type": "code",
   "execution_count": null,
   "metadata": {
    "pycharm": {
     "name": "#%%\n"
    }
   },
   "outputs": [],
   "source": [
    "personalised_plot_likert(\n",
    "    df,\n",
    "    questions=subdim_2_4,\n",
    "    figsize=(6.4, 11),\n",
    "    title=\"Sub-dimensión 2.4: Interacciones en el Trabajo Colaborativo Inclusivo\",\n",
    "    save_path=IMG_SUB_DIMS_COMPLETE_PATH / \"sub-dim-2.4-interacciones-en-el-trabajo-cColaborativo-inclusivo.png\",\n",
    ")\n",
    "plt.show()"
   ]
  },
  {
   "cell_type": "markdown",
   "metadata": {
    "pycharm": {
     "name": "#%% md\n"
    }
   },
   "source": [
    "Hacemos lo mismo para los gráficos pastel"
   ]
  },
  {
   "cell_type": "code",
   "execution_count": null,
   "metadata": {
    "pycharm": {
     "name": "#%%\n"
    }
   },
   "outputs": [],
   "source": [
    "for question in questions:\n",
    "    pie_plot(df, question, save=True, save_path=IMG_QUESTIONS_COMPLETE_PATH / (parse_question(question) + \".png\"), kwargs_pie=dict(startangle=0), threshold_percentage=0.05)"
   ]
  }
 ],
 "metadata": {
  "kernelspec": {
   "display_name": "Python 3",
   "language": "python",
   "name": "python3"
  },
  "language_info": {
   "codemirror_mode": {
    "name": "ipython",
    "version": 2
   },
   "file_extension": ".py",
   "mimetype": "text/x-python",
   "name": "python",
   "nbconvert_exporter": "python",
   "pygments_lexer": "ipython2",
   "version": "2.7.6"
  }
 },
 "nbformat": 4,
 "nbformat_minor": 0
}
