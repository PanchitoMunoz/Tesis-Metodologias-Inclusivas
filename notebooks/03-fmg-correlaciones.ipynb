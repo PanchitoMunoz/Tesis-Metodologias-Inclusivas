{
 "cells": [
  {
   "cell_type": "markdown",
   "metadata": {
    "pycharm": {
     "name": "#%% md\n"
    }
   },
   "source": [
    "# Imports y configuraciones iniciales"
   ]
  },
  {
   "cell_type": "code",
   "execution_count": null,
   "metadata": {
    "pycharm": {
     "name": "#%%\n"
    }
   },
   "outputs": [],
   "source": [
    "import warnings\n",
    "\n",
    "from typing import List\n",
    "\n",
    "warnings.filterwarnings(\"ignore\")"
   ]
  },
  {
   "cell_type": "code",
   "execution_count": null,
   "metadata": {
    "pycharm": {
     "name": "#%%\n"
    }
   },
   "outputs": [],
   "source": [
    "# Dejar el path principal como el anterior.\n",
    "import sys\n",
    "\n",
    "sys.path.append('../')"
   ]
  },
  {
   "cell_type": "code",
   "execution_count": null,
   "metadata": {
    "pycharm": {
     "name": "#%%\n"
    }
   },
   "outputs": [],
   "source": [
    "import logging\n",
    "\n",
    "# Crear el logger\n",
    "log = logging.getLogger(__name__)\n",
    "\n",
    "# Setear el nivel del registro\n",
    "log.setLevel(logging.WARNING)\n",
    "\n",
    "# Formato de los mensajes\n",
    "formatter = logging.Formatter(\"%(levelname)s: (%(asctime)s) [%(filename)s: %(lineno)s] %(message)s\")\n",
    "\n",
    "if not log.hasHandlers():\n",
    "    # Handlers\n",
    "    file_handler = logging.FileHandler(\"logging.log\")\n",
    "    file_handler.setFormatter(formatter)  # Setear el formato del handler\n",
    "    # Agregar el handler al logger\n",
    "    # log.addHandler(file_handler)\n",
    "\n",
    "    stream_handler = logging.StreamHandler()\n",
    "    stream_handler.setFormatter(formatter)\n",
    "    # Agregar el handler al logger\n",
    "    log.addHandler(stream_handler)"
   ]
  },
  {
   "cell_type": "markdown",
   "metadata": {
    "pycharm": {
     "name": "#%% md\n"
    }
   },
   "source": [
    "Instalar la librería plot-likert y otras librerías útiles"
   ]
  },
  {
   "cell_type": "code",
   "execution_count": null,
   "metadata": {
    "pycharm": {
     "name": "#%%\n"
    }
   },
   "outputs": [],
   "source": [
    "# Librería para hacer gráficos Likert\n",
    "# !pip install plot-likert\n",
    "\n",
    "# Para obtener datos de excel\n",
    "# !pip install openpyxl\n",
    "\n",
    "# Para tener un transformador de data\n",
    "# !pip install -U scikit-learn\n",
    "\n",
    "# Para tener herramientas estadísticas\n",
    "# !python -m pip install statsmodels\n",
    "\n",
    "# Para tener Seaborn\n",
    "# !pip install seaborn"
   ]
  },
  {
   "cell_type": "markdown",
   "metadata": {
    "pycharm": {
     "name": "#%% md\n"
    }
   },
   "source": [
    "Empezamos importando la librería para verificar que estuvo bien instalada."
   ]
  },
  {
   "cell_type": "code",
   "execution_count": null,
   "metadata": {
    "pycharm": {
     "name": "#%%\n"
    }
   },
   "outputs": [],
   "source": [
    "import plot_likert"
   ]
  },
  {
   "cell_type": "markdown",
   "metadata": {
    "pycharm": {
     "name": "#%% md\n"
    }
   },
   "source": [
    "Importamos algunas librerías útiles para el resto del notebook"
   ]
  },
  {
   "cell_type": "code",
   "execution_count": null,
   "metadata": {
    "pycharm": {
     "name": "#%%\n"
    }
   },
   "outputs": [],
   "source": [
    "import pandas as pd\n",
    "import numpy as np\n",
    "import matplotlib.pyplot as plt\n",
    "import seaborn as sns\n",
    "from pathlib import Path"
   ]
  },
  {
   "cell_type": "markdown",
   "metadata": {
    "pycharm": {
     "name": "#%% md\n"
    }
   },
   "source": [
    "# Importación del Data Set"
   ]
  },
  {
   "cell_type": "code",
   "execution_count": null,
   "metadata": {
    "pycharm": {
     "name": "#%%\n"
    }
   },
   "outputs": [],
   "source": [
    "DATA_PATH = Path(r\"..\\data\")\n",
    "\n",
    "if not DATA_PATH.exists():\n",
    "    log.info(f\"Creando carpeta {DATA_PATH = }\")\n",
    "    DATA_PATH.mkdir()"
   ]
  },
  {
   "cell_type": "code",
   "execution_count": null,
   "metadata": {
    "pycharm": {
     "name": "#%%\n"
    }
   },
   "outputs": [],
   "source": [
    "QNA_COMPLETE_PATH = DATA_PATH / \"questions-and-answers-complete.xlsx\"\n",
    "QNA_COMPLETE_PATH"
   ]
  },
  {
   "cell_type": "code",
   "execution_count": null,
   "metadata": {
    "pycharm": {
     "name": "#%%\n"
    }
   },
   "outputs": [],
   "source": [
    "log.debug(f\"Importando datos de {QNA_COMPLETE_PATH}\")\n",
    "df = pd.read_excel(QNA_COMPLETE_PATH)\n",
    "\n",
    "log.debug(f\"Cantidad de respuestas: {len(df) = }\")\n",
    "\n",
    "columnas = list(df.columns)\n",
    "preguntas = columnas[1:]\n",
    "notas = columnas[0]\n",
    "\n",
    "df.head()"
   ]
  },
  {
   "cell_type": "code",
   "execution_count": null,
   "metadata": {
    "pycharm": {
     "name": "#%%\n"
    }
   },
   "outputs": [],
   "source": [
    "questions_ = preguntas.copy()\n",
    "# Separar por subdimensiones\n",
    "\n",
    "# Subdim 1.1\n",
    "subdim_1_1 = [questions_.pop(0), questions_.pop(0), questions_.pop(0), questions_.pop(0), questions_.pop(0)]\n",
    "\n",
    "# Subdim 1.2\n",
    "subdim_1_2 = [questions_.pop(0), questions_.pop(0), questions_.pop(0), questions_.pop(0), questions_.pop(0)]\n",
    "\n",
    "# Subdim 1.3\n",
    "subdim_1_3 = [questions_.pop(0), questions_.pop(0), questions_.pop(0), questions_.pop(0), questions_.pop(0),\n",
    "              questions_.pop(0)]\n",
    "\n",
    "# Subdim 2.1\n",
    "subdim_2_1 = [questions_.pop(0), questions_.pop(0)]\n",
    "\n",
    "# Subdim 2.2\n",
    "subdim_2_2 = [questions_.pop(0), questions_.pop(0)]\n",
    "\n",
    "# Subdim 2.3\n",
    "subdim_2_3 = [questions_.pop(0), questions_.pop(0), questions_.pop(0), questions_.pop(0)]\n",
    "\n",
    "# Subdim 2.4\n",
    "subdim_2_4 = [questions_.pop(0), questions_.pop(0), questions_.pop(0), questions_.pop(0), questions_.pop(0),\n",
    "              questions_.pop(0), questions_.pop(0)]\n",
    "\n",
    "del questions_"
   ]
  },
  {
   "cell_type": "markdown",
   "metadata": {
    "pycharm": {
     "name": "#%% md\n"
    }
   },
   "source": [
    "## Correlación numérica-categórica: Nota vs. Preguntas"
   ]
  },
  {
   "cell_type": "markdown",
   "metadata": {
    "pycharm": {
     "name": "#%% md\n"
    }
   },
   "source": [
    "Creando rutas y carpetas necesarias para guardar la información."
   ]
  },
  {
   "cell_type": "code",
   "execution_count": null,
   "metadata": {
    "pycharm": {
     "name": "#%%\n"
    }
   },
   "outputs": [],
   "source": [
    "# Crear la carpeta de imágenes, si no se ha creado\n",
    "from pathlib import Path\n",
    "\n",
    "\n",
    "IMG_PATH = Path(r\"..\\img\")\n",
    "\n",
    "if not IMG_PATH.exists():\n",
    "    log.info(f\"Creando path {IMG_PATH = }\")\n",
    "    IMG_PATH.mkdir()"
   ]
  },
  {
   "cell_type": "code",
   "execution_count": null,
   "metadata": {
    "pycharm": {
     "name": "#%%\n"
    }
   },
   "outputs": [],
   "source": [
    "# Crear la carpeta de correlaciones, si no se ha creado\n",
    "IMG_CORR_PATH = IMG_PATH / \"correlations\"\n",
    "\n",
    "if not IMG_CORR_PATH.exists():\n",
    "    log.info(f\"Creando path {IMG_CORR_PATH = }\")\n",
    "    IMG_CORR_PATH.mkdir()"
   ]
  },
  {
   "cell_type": "markdown",
   "metadata": {
    "pycharm": {
     "name": "#%% md\n"
    }
   },
   "source": [
    "Buscaremos la correlación entre variables numéricas y categóricas utilizando ANOVA. Este propone como hipótesis nula lo siguiente:\n",
    "\\begin{equation}\n",
    "H_0:\\ \\text{Las variables{\\bf NO} están correlacionadas. (es decir, el promedio de todos los grupos{\\bf son el mismo})}\n",
    "\\end{equation}\n",
    "\n",
    "Este método nos arrojará un $p$-valor, el cual interpretamos de la siguiente forma: si el $p$-valor es mayor a $0.05$, entonces aceptamos la hipótesis nula $H_0$ y \"concluimos\" que las variables **NO** están correlacionadas."
   ]
  },
  {
   "cell_type": "markdown",
   "metadata": {
    "pycharm": {
     "name": "#%% md\n"
    }
   },
   "source": [
    "Con las siguientes líneas de código podremos ver la correlación entre dos variables."
   ]
  },
  {
   "cell_type": "code",
   "execution_count": null,
   "metadata": {
    "pycharm": {
     "name": "#%%\n"
    }
   },
   "outputs": [],
   "source": [
    "from scipy.stats import f_oneway\n",
    "\n",
    "\n",
    "def anova_corr(df, cat_name, num_name):\n",
    "    # Agrupamos la variable categórica con una lista de sus respectivos valores numéricos\n",
    "    category_group_lists = df.groupby(cat_name)[num_name].apply(list)\n",
    "    # Aplicamos la función f_oneway para calcular los estadísticos\n",
    "    anova_results = f_oneway(*category_group_lists)\n",
    "    # Retornamos\n",
    "    return anova_results\n",
    "\n",
    "\n",
    "anova_corr(df, preguntas[0], notas)"
   ]
  },
  {
   "cell_type": "markdown",
   "metadata": {
    "pycharm": {
     "name": "#%% md\n"
    }
   },
   "source": [
    "Empezamos a calcular la matriz de correlaciones"
   ]
  },
  {
   "cell_type": "code",
   "execution_count": null,
   "metadata": {
    "pycharm": {
     "name": "#%%\n"
    }
   },
   "outputs": [],
   "source": [
    "corr_cat_num = pd.DataFrame()\n",
    "\n",
    "for i, question in enumerate(preguntas):\n",
    "    corr_cat_num.loc[\"Notas\", f\"Pregunta {i+1:02d}\"] = anova_corr(df, question, notas)[1]\n",
    "\n",
    "corr_cat_num"
   ]
  },
  {
   "cell_type": "markdown",
   "metadata": {
    "pycharm": {
     "name": "#%% md\n"
    }
   },
   "source": [
    "## Gráficos"
   ]
  },
  {
   "cell_type": "markdown",
   "metadata": {
    "pycharm": {
     "name": "#%% md\n"
    }
   },
   "source": [
    "Y para graficarlos, se realizará una función que generaliza los posibles gráficos que se pueden hacer."
   ]
  },
  {
   "cell_type": "code",
   "execution_count": null,
   "metadata": {
    "pycharm": {
     "name": "#%%\n"
    }
   },
   "outputs": [],
   "source": [
    "TITULO_ESTANDAR = \"Correlación ANOVA entre preguntas y nota\"\n",
    "\n",
    "\n",
    "def plot_cat_num_corr(\n",
    "        df: pd.DataFrame, questions: List[str],\n",
    "        significance: float = 0.05,\n",
    "        title: str = TITULO_ESTANDAR,\n",
    "        suptitle: str = None,\n",
    "        add_title_significance: bool = True,\n",
    "        save_path: Path = None,\n",
    "        save_config: dict = None, subplots_config: dict = None,\n",
    "        **kwargs\n",
    "):\n",
    "    log.info(f\"plot_cat_num_corr({significance = }, {title = })\")\n",
    "    ## Setear los parámetros del subplot por default\n",
    "    subplots_config = subplots_config or dict()\n",
    "    subplots_config.setdefault(\"figsize\", (1, 5))\n",
    "    log.debug(f\"{subplots_config = }\")\n",
    "\n",
    "    fig, ax = plt.subplots(**subplots_config)\n",
    "\n",
    "\n",
    "    ## Setear parámetros del heatmap\n",
    "    kwargs.setdefault(\"vmin\", 0)\n",
    "    kwargs.setdefault(\"vmax\", significance*2)\n",
    "    kwargs.setdefault(\"center\", significance)\n",
    "    kwargs.setdefault(\"cmap\", \"coolwarm\")\n",
    "    kwargs.setdefault(\"annot\", True)\n",
    "    kwargs.setdefault(\"fmt\", \".1%\")\n",
    "    log.debug(f\"{kwargs = }\")\n",
    "\n",
    "    # Setear un dataframe a plotear\n",
    "    new_df: pd.DataFrame = df[questions].T\n",
    "\n",
    "    sns.heatmap(new_df, **kwargs)\n",
    "\n",
    "\n",
    "    ## Setear titulo e ylabel\n",
    "    if add_title_significance:\n",
    "        title += f\"\\nSignificancia = {significance:.1%}\"\n",
    "\n",
    "    plt.suptitle(suptitle)\n",
    "    plt.title(title)\n",
    "    plt.ylabel(\"Preguntas\")\n",
    "\n",
    "\n",
    "    ## Configuración para salvar imagen\n",
    "    if save_path:\n",
    "        log.info(f\"Salvando figura en {save_path=}\")\n",
    "        save_config = save_config or dict()\n",
    "        save_config.setdefault(\"dpi\", 600)\n",
    "        save_config.setdefault(\"bbox_inches\", \"tight\")\n",
    "        log.debug(f\"{save_config=}\")\n",
    "        fig.savefig(save_path, **save_config)\n",
    "\n",
    "    return fig, ax\n",
    "\n",
    "\n",
    "plot_cat_num_corr(\n",
    "    corr_cat_num,\n",
    "    corr_cat_num.columns[5:10],\n",
    "    save_path=IMG_CORR_PATH / \"corr-pregunta-nota-prueba.png\",\n",
    "    subplots_config=dict(figsize=(1, 4)),\n",
    ")\n",
    "\n",
    "plt.show()"
   ]
  },
  {
   "cell_type": "code",
   "execution_count": null,
   "metadata": {
    "pycharm": {
     "name": "#%%\n"
    }
   },
   "outputs": [],
   "source": [
    "plot_cat_num_corr(\n",
    "    corr_cat_num,\n",
    "    corr_cat_num.columns[0:5],\n",
    "    significance=0.1,\n",
    "    title=(\"Sub-dimensión 1.1: Preparación de la clase\"\n",
    "           f\"\\n{TITULO_ESTANDAR}\"),\n",
    "    save_path=IMG_CORR_PATH / \"corr-pregunta-nota-sub-dim-1-1.png\",\n",
    "    subplots_config=dict(figsize=(1, 3)),\n",
    ")\n",
    "\n",
    "plt.show()"
   ]
  },
  {
   "cell_type": "code",
   "execution_count": null,
   "metadata": {
    "pycharm": {
     "name": "#%%\n"
    }
   },
   "outputs": [],
   "source": [
    "plot_cat_num_corr(\n",
    "    corr_cat_num,\n",
    "    corr_cat_num.columns[5:10],\n",
    "    significance=0.1,\n",
    "    title=(\"Sub-dimensión 1.2: Metodologías activas\"\n",
    "           f\"\\n{TITULO_ESTANDAR}\"),\n",
    "    save_path=IMG_CORR_PATH / \"corr-pregunta-nota-sub-dim-1-2.png\",\n",
    "    subplots_config=dict(figsize=(1, 3)),\n",
    ")\n",
    "\n",
    "plt.show()"
   ]
  },
  {
   "cell_type": "code",
   "execution_count": null,
   "metadata": {
    "pycharm": {
     "name": "#%%\n"
    }
   },
   "outputs": [],
   "source": [
    "plot_cat_num_corr(\n",
    "    corr_cat_num,\n",
    "    corr_cat_num.columns[10:16],\n",
    "    significance=0.1,\n",
    "    title=(\"Sub-dimensión 1.3: Evaluación de y para los aprendizajes\"\n",
    "           f\"\\n{TITULO_ESTANDAR}\"),\n",
    "    save_path=IMG_CORR_PATH / \"corr-pregunta-nota-sub-dim-1-3.png\",\n",
    "    subplots_config=dict(figsize=(1, 3.5)),\n",
    ")\n",
    "\n",
    "plt.show()"
   ]
  },
  {
   "cell_type": "code",
   "execution_count": null,
   "metadata": {
    "pycharm": {
     "name": "#%%\n"
    }
   },
   "outputs": [],
   "source": [
    "plot_cat_num_corr(\n",
    "    corr_cat_num,\n",
    "    corr_cat_num.columns[16:18],\n",
    "    significance=0.1,\n",
    "    title=(\"Sub-dimensión 2.1: Aprendizaje Mediado por Tecnologías\"\n",
    "           f\"\\n{TITULO_ESTANDAR}\"),\n",
    "    save_path=IMG_CORR_PATH / \"corr-pregunta-nota-sub-dim-2-1.png\",\n",
    "    subplots_config=dict(figsize=(1, 1.5)),\n",
    ")\n",
    "\n",
    "plt.show()"
   ]
  },
  {
   "cell_type": "code",
   "execution_count": null,
   "metadata": {
    "pycharm": {
     "name": "#%%\n"
    }
   },
   "outputs": [],
   "source": [
    "plot_cat_num_corr(\n",
    "    corr_cat_num,\n",
    "    corr_cat_num.columns[18:20],\n",
    "    significance=0.1,\n",
    "    title=(\"Sub-dimensión 2.2: Aprendizaje Directo\"\n",
    "           f\"\\n{TITULO_ESTANDAR}\"),\n",
    "    save_path=IMG_CORR_PATH / \"corr-pregunta-nota-sub-dim-2-2.png\",\n",
    "    subplots_config=dict(figsize=(1, 1.5)),\n",
    ")\n",
    "\n",
    "plt.show()"
   ]
  },
  {
   "cell_type": "code",
   "execution_count": null,
   "metadata": {
    "pycharm": {
     "name": "#%%\n"
    }
   },
   "outputs": [],
   "source": [
    "plot_cat_num_corr(\n",
    "    corr_cat_num,\n",
    "    corr_cat_num.columns[20:24],\n",
    "    significance=0.1,\n",
    "    title=(\"Sub-dimensión 2.3: Comunicación Pedagógica\"\n",
    "           f\"\\n{TITULO_ESTANDAR}\"),\n",
    "    save_path=IMG_CORR_PATH / \"corr-pregunta-nota-sub-dim-2-3.png\",\n",
    "    subplots_config=dict(figsize=(1, 2.5)),\n",
    ")\n",
    "\n",
    "plt.show()"
   ]
  },
  {
   "cell_type": "code",
   "execution_count": null,
   "metadata": {
    "pycharm": {
     "name": "#%%\n"
    }
   },
   "outputs": [],
   "source": [
    "plot_cat_num_corr(\n",
    "    corr_cat_num,\n",
    "    corr_cat_num.columns[24:31],\n",
    "    significance=0.1,\n",
    "    title=(\"Sub-dimensión 2.4: Interacciones en el Trabajo Colaborativo Inclusivo\"\n",
    "           f\"\\n{TITULO_ESTANDAR}\"),\n",
    "    save_path=IMG_CORR_PATH / \"corr-pregunta-nota-sub-dim-2-4.png\",\n",
    "    subplots_config=dict(figsize=(1, 3.5)),\n",
    ")\n",
    "\n",
    "plt.show()"
   ]
  },
  {
   "cell_type": "markdown",
   "metadata": {
    "pycharm": {
     "name": "#%% md\n"
    }
   },
   "source": [
    "La significancia es el grado de \"libertad\" en que uno puede rechazar una hipótesis nula. Si uno tiene una significancia mayor, será más permisivo en rechazar hipótesis nulas, de forma que más veces se concluirá que dos variables estarán correlacionadas. Las significancias que típicamente se utilizan son los de $10\\%$, $5\\%$, $2.5\\%$, $1\\%$ e incluso $0.1\\%$\n",
    "\n",
    "Un valor alto de $p$-valor se puede interpretar como que la pregunta no aporta información para la nota.\n",
    "\n",
    "El valor de la escala va desde el cero hasta dos veces la significancia. Esto se hace así, porque valores más alto a dos veces la significancia, se pueden interpretar como *outliers*, y sólo afectan en la escala de colores, haciendo más difícil leerles. Es para mayor robustez.\n",
    "\n",
    "Los colores naranjas son valores en los que **ya se aceptó** la hipótesis nula, es decir, que se concluye que las variables **no** están correlacionadas, sin embargo, se puede deber a que falta mayor información, y que siendo un poco más laxos, se puede aceptar aquella correlación como válida."
   ]
  },
  {
   "cell_type": "markdown",
   "metadata": {
    "pycharm": {
     "name": "#%% md\n"
    }
   },
   "source": [
    "## Correlación entre variables categóricas: Preguntas vs. Preguntas"
   ]
  },
  {
   "cell_type": "markdown",
   "metadata": {
    "pycharm": {
     "name": "#%% md\n"
    }
   },
   "source": [
    "Para ver las correlaciones entre variables categóricas será necesario utilizar el test del Chi-Cuadrado."
   ]
  },
  {
   "cell_type": "code",
   "execution_count": null,
   "metadata": {
    "pycharm": {
     "name": "#%%\n"
    }
   },
   "outputs": [],
   "source": [
    "cross_tab_result = pd.crosstab(index=df[preguntas[0]], columns=df[preguntas[1]])\n",
    "cross_tab_result"
   ]
  },
  {
   "cell_type": "code",
   "execution_count": null,
   "metadata": {
    "pycharm": {
     "name": "#%%\n"
    }
   },
   "outputs": [],
   "source": [
    "from scipy.stats import chi2_contingency\n",
    "\n",
    "chi_sqr_result = chi2_contingency(cross_tab_result)\n",
    "chi_sqr_result"
   ]
  },
  {
   "cell_type": "code",
   "execution_count": null,
   "metadata": {
    "pycharm": {
     "name": "#%%\n"
    }
   },
   "outputs": [],
   "source": [
    "def chi_sqr_corr(df, cat_name1, cat_name2):\n",
    "    cross_tab_result = pd.crosstab(index=df[cat_name1], columns=df[cat_name2])\n",
    "    chi_sqr_result = chi2_contingency(cross_tab_result)\n",
    "    return chi_sqr_result\n",
    "\n",
    "chi_sqr_corr(df, preguntas[0], preguntas[0])"
   ]
  },
  {
   "cell_type": "code",
   "execution_count": null,
   "metadata": {
    "pycharm": {
     "name": "#%%\n"
    }
   },
   "outputs": [],
   "source": [
    "from itertools import product\n",
    "\n",
    "chi_sqr_mat = pd.DataFrame()\n",
    "\n",
    "for i, j in product(range(len(preguntas)), repeat=2):\n",
    "    log.debug(f\"Voy en la pregunta\\n{i = },\\n{j = }.\")\n",
    "    chi_sqr_mat.loc[f\"P{i+1:02d}\", f\"P{j+1:02d}\"] = chi_sqr_corr(df, preguntas[i], preguntas[j])[1]\n",
    "\n",
    "chi_sqr_mat"
   ]
  },
  {
   "cell_type": "markdown",
   "metadata": {
    "pycharm": {
     "name": "#%% md\n"
    }
   },
   "source": [
    "## Gráficos"
   ]
  },
  {
   "cell_type": "code",
   "execution_count": null,
   "metadata": {
    "pycharm": {
     "name": "#%%\n"
    }
   },
   "outputs": [],
   "source": [
    "significancia = 0.05\n",
    "\n",
    "fig, ax = plt.subplots(figsize=(15, 15))\n",
    "\n",
    "mask = np.triu(np.ones_like(chi_sqr_mat, dtype=np.bool))\n",
    "\n",
    "\n",
    "sns.heatmap(\n",
    "    chi_sqr_mat,\n",
    "    vmin=0, vmax=significancia * 2,\n",
    "    center=significancia,\n",
    "    cmap=\"coolwarm\",\n",
    "    annot=True,\n",
    "    fmt=\".0%\",\n",
    "    mask=mask,\n",
    ")\n",
    "\n",
    "plt.title(f\"Correlación Chi cuadrado entre las preguntas.\\nsignificancia = {significancia:.1%}\")\n",
    "\n",
    "plt.ylabel(\"Preguntas\")\n",
    "plt.xlabel(\"Preguntas\")\n",
    "\n",
    "save_config = dict()\n",
    "save_config.setdefault(\"dpi\", 600)\n",
    "save_config.setdefault(\"bbox_inches\", \"tight\")\n",
    "log.debug(f\"{save_config=}\")\n",
    "fig.savefig(IMG_CORR_PATH / \"corr-pregunta-pregunta-triang.png\", **save_config)\n",
    "\n",
    "plt.show()"
   ]
  },
  {
   "cell_type": "code",
   "execution_count": null,
   "metadata": {
    "pycharm": {
     "name": "#%%\n"
    }
   },
   "outputs": [],
   "source": [
    "significancia = 0.05\n",
    "\n",
    "fig, ax = plt.subplots(figsize=(15, 15))\n",
    "\n",
    "\n",
    "sns.heatmap(\n",
    "    chi_sqr_mat,\n",
    "    vmin=0, vmax=significancia * 2,\n",
    "    center=significancia,\n",
    "    cmap=\"coolwarm\",\n",
    "    annot=True,\n",
    "    fmt=\".0%\",\n",
    ")\n",
    "\n",
    "plt.title(f\"Correlación Chi cuadrado entre las preguntas.\\nsignificancia = {significancia:.1%}\")\n",
    "\n",
    "plt.ylabel(\"Preguntas\")\n",
    "plt.xlabel(\"Preguntas\")\n",
    "\n",
    "save_config = dict()\n",
    "save_config.setdefault(\"dpi\", 600)\n",
    "save_config.setdefault(\"bbox_inches\", \"tight\")\n",
    "log.debug(f\"{save_config=}\")\n",
    "fig.savefig(IMG_CORR_PATH / \"corr-pregunta-pregunta-completo.png\", **save_config)\n",
    "\n",
    "plt.show()"
   ]
  },
  {
   "cell_type": "markdown",
   "metadata": {
    "pycharm": {
     "name": "#%% md\n"
    }
   },
   "source": [
    "**NO VERLO COMO VERDAD ABSOLUTA**\n",
    "\n",
    "En un principio, interpreté que si dos preguntas estaba correlacionadas, entonces hay \"información repetida\", y una de las preguntas está \"sobrando\". Sin embargo, observando más detenidamente, me di cuenta que la pregunta 1 está correlacionada con la pregunta 2, y a su vez, la pregunta 2 está correlacionada con la pregunta 3, sin embargo, la pregunta 1 y 2 **no están correlacionadas**. Esto es algo extraño, pues si pensamos de la misma forma que al principio, uno esperaría una suerte de \"transitividad\".\n",
    "\n",
    "Esto quiere decir que, las preguntas no eran tan \"reemplazables\" como uno esperaba al principio.\n",
    "\n",
    "Anotar la palabra: *anticorrelación*"
   ]
  },
  {
   "cell_type": "code",
   "execution_count": null,
   "metadata": {
    "pycharm": {
     "name": "#%%\n"
    }
   },
   "outputs": [],
   "source": []
  }
 ],
 "metadata": {
  "kernelspec": {
   "display_name": "Python 3",
   "language": "python",
   "name": "python3"
  },
  "language_info": {
   "codemirror_mode": {
    "name": "ipython",
    "version": 2
   },
   "file_extension": ".py",
   "mimetype": "text/x-python",
   "name": "python",
   "nbconvert_exporter": "python",
   "pygments_lexer": "ipython2",
   "version": "2.7.6"
  }
 },
 "nbformat": 4,
 "nbformat_minor": 0
}
